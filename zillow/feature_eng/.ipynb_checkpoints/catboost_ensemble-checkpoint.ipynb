{
 "cells": [
  {
   "cell_type": "code",
   "execution_count": 3,
   "metadata": {
    "_cell_guid": "d0f0ce4d-75b9-475d-add9-5bc6f24357f9",
    "_uuid": "00e6bfcd2da6d0199d09e9f1c3341745029c7235",
    "collapsed": true
   },
   "outputs": [],
   "source": [
    "import pandas as pd\n",
    "import numpy as np\n",
    "from catboost import CatBoostRegressor\n",
    "from tqdm import tqdm"
   ]
  },
  {
   "cell_type": "markdown",
   "metadata": {
    "_cell_guid": "b36ca855-dcf0-4956-b3a3-1badba0a4cd5",
    "_uuid": "b13eb7681d1664b73e4d54ca80ce0a7d5331aa57"
   },
   "source": [
    "> ## Data loading, we parse transactiondate"
   ]
  },
  {
   "cell_type": "code",
   "execution_count": 4,
   "metadata": {
    "_cell_guid": "0b0142aa-8a69-407c-8ed6-647f52c2c79c",
    "_uuid": "a7a5c89651983966017b964bd25853c026e79613",
    "collapsed": true
   },
   "outputs": [],
   "source": [
    "train_2016 = pd.read_csv('../datasets/train_2016_v2.csv', parse_dates=['transactiondate'], low_memory=False)\n",
    "train_2017 = pd.read_csv('../datasets/train_2017.csv', parse_dates=['transactiondate'], low_memory=False)\n",
    "properties_2016 = pd.read_csv('../datasets/properties_2016.csv', low_memory=False)\n",
    "properties_2017 = pd.read_csv('../datasets/properties_2017.csv', low_memory=False)\n",
    "test_2016 = pd.read_csv('../datasets/sample_submission.csv', low_memory=False)\n",
    "test_2017 = pd.read_csv('../datasets/sample_submission.csv', low_memory=False)\n",
    "# field is named differently in submission\n",
    "test_2016['parcelid'] = test_2016['ParcelId']\n",
    "test_2017['parcelid'] = test_2017['ParcelId']"
   ]
  },
  {
   "cell_type": "code",
   "execution_count": 5,
   "metadata": {
    "_cell_guid": "49c98a71-c4eb-4adc-ba9e-3257ad3112a6",
    "_uuid": "1c24a39df7a2e4d27afe429b883976b31438444d",
    "collapsed": true
   },
   "outputs": [],
   "source": [
    "# similar to the1owl\n",
    "def add_date_features(df):\n",
    "    df[\"transaction_year\"] = df[\"transactiondate\"].dt.year\n",
    "    df[\"transaction_month\"] = df[\"transactiondate\"].dt.month\n",
    "    df[\"transaction_quarter\"] = df[\"transactiondate\"].dt.quarter\n",
    "    df['sin_month'] = np.sin(df['transaction_month'] * np.pi/12)\n",
    "    df['cos_month'] = np.sin(df['transaction_month'] * np.pi/12)\n",
    "    df['sin_quarter'] = np.sin(df['transaction_quarter'] * np.pi/4)\n",
    "    df['cos_quarter'] = np.sin(df['transaction_quarter'] * np.pi/4)\n",
    "    df.drop([\"transactiondate\"], inplace=True, axis=1)\n",
    "    return df\n",
    "\n",
    "def add_other_features(df):\n",
    "    df['num_missing'] = 0\n",
    "    for column in df.columns:\n",
    "        df['num_missing'] += df[column].isnull()\n",
    "    return df\n",
    "\n",
    "def add_geographic_features(property2016, property2017):\n",
    "    property2016['year'] = 2016\n",
    "    property2017['year'] = 2017\n",
    "    complete = property2016.append(property2017)\n",
    "    radian_lat = complete['latitude'] * np.pi/180\n",
    "    radian_long = complete['longitude'] * np.pi/180\n",
    "    earth_radius = 3959\n",
    "    complete['x'] = (-earth_radius * np.cos(radian_lat) * np.sin(radian_long)).fillna(-999)\n",
    "    complete['y'] = (earth_radius * np.sin(radian_lat)).fillna(-999)\n",
    "    complete['z'] = (earth_radius * np.cos(radian_lat) * np.sin(radian_long)).fillna(-999)\n",
    "    pca = PCA(n_components=2)\n",
    "    rotated_latlong = pca.fit_transform(complete[['latitude', 'longitude']].fillna(-999))\n",
    "    complete['latlong_pca0'] = rotated_latlong[:,0]\n",
    "    complete['latlong_pca1'] = rotated_latlong[:,1]\n",
    "    dropcols = ['year']\n",
    "    return complete[complete.year == 2016].drop(dropcols, axis=1), complete[complete.year == 2017].drop(dropcols, axis=1)"
   ]
  },
  {
   "cell_type": "code",
   "execution_count": 6,
   "metadata": {
    "_cell_guid": "11a44166-e6f7-49bb-80e9-4ff8891dfc1b",
    "_uuid": "eb9217247052ecd75669acf3adb641949b2e797e",
    "collapsed": true
   },
   "outputs": [],
   "source": [
    "train_2016 = add_date_features(train_2016)\n",
    "train_2017 = add_date_features(train_2017)"
   ]
  },
  {
   "cell_type": "code",
   "execution_count": 7,
   "metadata": {
    "collapsed": true
   },
   "outputs": [],
   "source": [
    "properties_2016 = add_other_features(properties_2016)\n",
    "properties_2017 = add_other_features(properties_2017)\n",
    "properties_2016, properties_2017 = add_geographic_features(properties_2016, properties_2017)"
   ]
  },
  {
   "cell_type": "code",
   "execution_count": 8,
   "metadata": {},
   "outputs": [
    {
     "name": "stdout",
     "output_type": "stream",
     "text": [
      "Train:  (167888, 70)\n"
     ]
    }
   ],
   "source": [
    "train_2016 = train_2016.merge(properties_2016, how='left', on='parcelid')\n",
    "train_2017 = train_2017.merge(properties_2017, how='left', on='parcelid')\n",
    "train_df = train_2016.append(train_2017)\n",
    "test_2016 = test_2016.merge(properties_2016, how='left', on='parcelid')\n",
    "test_2017 = test_2017.merge(properties_2017, how='left', on='parcelid')\n",
    "print(\"Train: \", train_df.shape)"
   ]
  },
  {
   "cell_type": "markdown",
   "metadata": {
    "_cell_guid": "316cb2e8-417b-4923-9ac3-6f22a36bd66c",
    "_uuid": "c9c7096a81696525317c5b9bd2de4c456463daff"
   },
   "source": [
    "# 0.a) Remove missing data fields"
   ]
  },
  {
   "cell_type": "code",
   "execution_count": 9,
   "metadata": {
    "_cell_guid": "8352977d-4c2f-49ac-8a52-eaf571434924",
    "_uuid": "753ffed925fa400f6b8532346660c5a05882c58c"
   },
   "outputs": [
    {
     "name": "stdout",
     "output_type": "stream",
     "text": [
      "We exclude: ['architecturalstyletypeid', 'basementsqft', 'buildingclasstypeid', 'decktypeid', 'finishedsquarefeet13', 'finishedsquarefeet6', 'poolsizesum', 'pooltypeid10', 'pooltypeid2', 'storytypeid', 'typeconstructiontypeid', 'yardbuildingsqft26', 'fireplaceflag']\n",
      "13\n"
     ]
    }
   ],
   "source": [
    "missing_perc_thresh = 0.98\n",
    "exclude_missing = []\n",
    "num_rows = train_df.shape[0]\n",
    "for c in train_df.columns:\n",
    "    num_missing = train_df[c].isnull().sum()\n",
    "    if num_missing == 0:\n",
    "        continue\n",
    "    missing_frac = num_missing / float(num_rows)\n",
    "    if missing_frac > missing_perc_thresh and 'flag' not in c:\n",
    "        exclude_missing.append(c)\n",
    "print(\"We exclude: %s\" % exclude_missing)\n",
    "print(len(exclude_missing))"
   ]
  },
  {
   "cell_type": "markdown",
   "metadata": {
    "_cell_guid": "895a7825-d2bb-418a-8f86-c58dd59d5c30",
    "_uuid": "94278c1a63bfff8a44c2be043a269344cc4de89a"
   },
   "source": [
    "# 0.b) Remove data that is always the same"
   ]
  },
  {
   "cell_type": "code",
   "execution_count": 10,
   "metadata": {
    "_cell_guid": "6f2efae0-2ebb-41b1-8f11-c60a44f69a11",
    "_uuid": "8b127a67bdc436702bc454ea959a73dd38d43324"
   },
   "outputs": [
    {
     "name": "stdout",
     "output_type": "stream",
     "text": [
      "We exclude: ['decktypeid', 'hashottuborspa', 'poolcnt', 'pooltypeid10', 'pooltypeid2', 'pooltypeid7', 'storytypeid', 'fireplaceflag', 'taxdelinquencyflag']\n",
      "9\n"
     ]
    }
   ],
   "source": [
    "# exclude where we only have one unique value :D\n",
    "exclude_unique = []\n",
    "for c in train_df.columns:\n",
    "    num_uniques = len(train_df[c].unique())\n",
    "    if train_df[c].isnull().sum() != 0:\n",
    "        num_uniques -= 1\n",
    "    if num_uniques == 1 and 'flag' not in c:\n",
    "        exclude_unique.append(c)\n",
    "print(\"We exclude: %s\" % exclude_unique)\n",
    "print(len(exclude_unique))"
   ]
  },
  {
   "cell_type": "markdown",
   "metadata": {
    "_cell_guid": "b645ccb4-a935-413f-808f-ceabce6f757d",
    "_uuid": "e3eb67c9f6fe44195579bdb9f58b833f853940c4"
   },
   "source": [
    "# 1.a) Define training features"
   ]
  },
  {
   "cell_type": "code",
   "execution_count": 11,
   "metadata": {
    "_cell_guid": "ab746fa0-7d15-433c-a5aa-9daabe0bbef3",
    "_uuid": "288ad567e88fc7a64b0c87e6d705da4b63461163"
   },
   "outputs": [
    {
     "name": "stdout",
     "output_type": "stream",
     "text": [
      "We use these for training: ['transaction_year', 'transaction_month', 'transaction_quarter', 'sin_month', 'cos_month', 'sin_quarter', 'cos_quarter', 'airconditioningtypeid', 'bathroomcnt', 'bedroomcnt', 'buildingqualitytypeid', 'calculatedbathnbr', 'finishedfloor1squarefeet', 'calculatedfinishedsquarefeet', 'finishedsquarefeet12', 'finishedsquarefeet15', 'finishedsquarefeet50', 'fips', 'fireplacecnt', 'fullbathcnt', 'garagecarcnt', 'garagetotalsqft', 'heatingorsystemtypeid', 'latitude', 'longitude', 'lotsizesquarefeet', 'propertycountylandusecode', 'propertylandusetypeid', 'rawcensustractandblock', 'regionidcity', 'regionidcounty', 'regionidneighborhood', 'regionidzip', 'roomcnt', 'threequarterbathnbr', 'unitcnt', 'yardbuildingsqft17', 'yearbuilt', 'numberofstories', 'structuretaxvaluedollarcnt', 'taxvaluedollarcnt', 'assessmentyear', 'landtaxvaluedollarcnt', 'taxamount', 'taxdelinquencyyear', 'censustractandblock', 'num_missing', 'x', 'y', 'z']\n",
      "50\n"
     ]
    }
   ],
   "source": [
    "exclude_other = ['parcelid', 'logerror', 'propertyzoningdesc', 'fireplacecnt'\n",
    "                 , 'threequarterbathnbr', 'finishedfloor1squarefeet']\n",
    "include_other = ['hashottuborspa']\n",
    "# do not know what this is LARS, 'SHCG' 'COR2YY' 'LNR2RPD-R3' ?!?\n",
    "exclude_other.append()\n",
    "train_features = []\n",
    "for c in train_df.columns:\n",
    "    if c not in exclude_missing \\\n",
    "       and c not in exclude_other and c not in exclude_unique:\n",
    "        train_features.append(c)\n",
    "train_features.append(include_other)\n",
    "print(\"We use these for training: %s\" % train_features)\n",
    "print(len(train_features))"
   ]
  },
  {
   "cell_type": "markdown",
   "metadata": {
    "_cell_guid": "ae0ef91f-7ee6-49fc-bd44-affbdfa128d9",
    "_uuid": "2ac2cbffda8aa023eba4cc2d1d2ad750a432d23f"
   },
   "source": [
    "# 1.b) Define which of these training features are categorical"
   ]
  },
  {
   "cell_type": "code",
   "execution_count": 12,
   "metadata": {
    "_cell_guid": "9c9b7f5d-a31f-4996-9c7e-bccb8cda8654",
    "_uuid": "d3678ded0e754c733101b7097a737e731ae01119"
   },
   "outputs": [
    {
     "name": "stdout",
     "output_type": "stream",
     "text": [
      "Cat features are: ['transaction_year', 'transaction_month', 'transaction_quarter', 'airconditioningtypeid', 'buildingqualitytypeid', 'fips', 'heatingorsystemtypeid', 'propertycountylandusecode', 'propertylandusetypeid', 'rawcensustractandblock', 'regionidcity', 'regionidcounty', 'regionidneighborhood', 'regionidzip', 'yearbuilt', 'assessmentyear', 'taxdelinquencyyear', 'censustractandblock']\n"
     ]
    }
   ],
   "source": [
    "cat_feature_inds = []\n",
    "cat_unique_thresh = 1000\n",
    "for i, c in enumerate(train_features):\n",
    "    num_uniques = len(train_df[c].unique())\n",
    "    if num_uniques < cat_unique_thresh \\\n",
    "       and not 'sqft' in c \\\n",
    "       and not 'cnt' in c \\\n",
    "       and not 'nbr' in c \\\n",
    "       and not 'cos' in c \\\n",
    "       and not 'sin' in c \\\n",
    "       and not 'number' in c \\\n",
    "       or 'cluster' in c \\\n",
    "       or 'id' in c \\\n",
    "       or 'census' in c \\\n",
    "       or 'code' in c \\\n",
    "       or 'desc' in c:\n",
    "        cat_feature_inds.append(i)\n",
    "        if(train_df[c].dtype == np.float64):\n",
    "            train_df[c] = train_df[c].astype(str)\n",
    "            test_2016[c] = test_2016[c].astype(str)\n",
    "            test_2017[c] = test_2017[c].astype(str)\n",
    "        \n",
    "print(\"Cat features are: %s\" % [train_features[ind] for ind in cat_feature_inds])"
   ]
  },
  {
   "cell_type": "markdown",
   "metadata": {
    "_cell_guid": "fd7a9887-61c7-4742-94a4-2982d8be41b0",
    "_uuid": "32696c6609af571797ee8dd10516e50b6e2dfe4a"
   },
   "source": [
    "# 1.c) Fill missing values"
   ]
  },
  {
   "cell_type": "code",
   "execution_count": 13,
   "metadata": {
    "_cell_guid": "26a1755f-88a9-4f7c-b477-4a30465a72fa",
    "_uuid": "c199ecded662aba626f0e75240bb8d5a738cbb92",
    "collapsed": true
   },
   "outputs": [],
   "source": [
    "# some out of range int is a good choice\n",
    "train_df.fillna(-999, inplace=True)\n",
    "test_2016.fillna(-999, inplace=True)\n",
    "test_2017.fillna(-999, inplace=True)"
   ]
  },
  {
   "cell_type": "markdown",
   "metadata": {
    "_cell_guid": "be9d099e-28c9-404e-a37f-4c812ca9b405",
    "_uuid": "68d52b1e117a55dc0a5bb4d98bbcf5f2c57c1339"
   },
   "source": [
    "# 2.a) Training time!"
   ]
  },
  {
   "cell_type": "code",
   "execution_count": 14,
   "metadata": {
    "_cell_guid": "f53d5b61-2803-4066-9ead-cd5714838e86",
    "_uuid": "d22163b09dda59e33e88d50b076795b630ddc2c3"
   },
   "outputs": [
    {
     "name": "stdout",
     "output_type": "stream",
     "text": [
      "(167888, 50) (167888,)\n"
     ]
    }
   ],
   "source": [
    "X_train = train_df[train_features]\n",
    "y_train = train_df.logerror\n",
    "print(X_train.shape, y_train.shape)"
   ]
  },
  {
   "cell_type": "code",
   "execution_count": 15,
   "metadata": {
    "_cell_guid": "7dc0215e-f2f1-41a3-bf68-d3b7e4ca0cd0",
    "_uuid": "101f5048a7fd0874cb7d0b7a49d4f5e27c01bb20"
   },
   "outputs": [
    {
     "name": "stdout",
     "output_type": "stream",
     "text": [
      "Training 0\n",
      "Training 1\n",
      "Training 2\n",
      "Training 3\n",
      "Training 4\n"
     ]
    }
   ],
   "source": [
    "num_ensembles = 5\n",
    "models = []\n",
    "for i in range(num_ensembles):\n",
    "    # TODO(you): Use CV, tune hyperparameters\n",
    "    print('Training ' + str(i))\n",
    "    model = CatBoostRegressor(\n",
    "        depth=6, \n",
    "        l2_leaf_reg=3, \n",
    "        learning_rate=0.03,\n",
    "        iterations=200,\n",
    "        loss_function='MAE',\n",
    "        eval_metric='MAE',\n",
    "        random_seed=i)\n",
    "    model.fit(\n",
    "        X_train, y_train,\n",
    "        cat_features=cat_feature_inds)\n",
    "    models.append(model)"
   ]
  },
  {
   "cell_type": "code",
   "execution_count": 16,
   "metadata": {
    "collapsed": true
   },
   "outputs": [],
   "source": [
    "def predict_result(test, models):\n",
    "    result = 0.0\n",
    "    for model in models:\n",
    "        result += model.predict(test)\n",
    "    return result / len(models)"
   ]
  },
  {
   "cell_type": "markdown",
   "metadata": {
    "_cell_guid": "8cd24363-5267-485b-af89-25dced1a1d1b",
    "_uuid": "02df91a11f913b138ff229d7efec497bf07361d4"
   },
   "source": [
    "# 3.) Create submission"
   ]
  },
  {
   "cell_type": "code",
   "execution_count": 17,
   "metadata": {
    "_cell_guid": "917d47c8-9390-4e31-a3d9-6fc60f3ea2c0",
    "_uuid": "64700590bd836c5d22c4f0e7279e8f151eae8b02"
   },
   "outputs": [
    {
     "name": "stdout",
     "output_type": "stream",
     "text": [
      "Predicting for: 201610 ... \n",
      "Predicting for: 201611 ... \n"
     ]
    },
    {
     "ename": "KeyboardInterrupt",
     "evalue": "",
     "output_type": "error",
     "traceback": [
      "\u001b[0;31m---------------------------------------------------------------------------\u001b[0m",
      "\u001b[0;31mKeyboardInterrupt\u001b[0m                         Traceback (most recent call last)",
      "\u001b[0;32m<ipython-input-17-c8ae2ca4debe>\u001b[0m in \u001b[0;36m<module>\u001b[0;34m()\u001b[0m\n\u001b[1;32m     19\u001b[0m     \u001b[0mtest_2016\u001b[0m\u001b[0;34m[\u001b[0m\u001b[0;34m'transactiondate'\u001b[0m\u001b[0;34m]\u001b[0m \u001b[0;34m=\u001b[0m \u001b[0mtest_date\u001b[0m\u001b[0;34m\u001b[0m\u001b[0m\n\u001b[1;32m     20\u001b[0m     \u001b[0mtest_2016\u001b[0m \u001b[0;34m=\u001b[0m \u001b[0madd_date_features\u001b[0m\u001b[0;34m(\u001b[0m\u001b[0mtest_2016\u001b[0m\u001b[0;34m)\u001b[0m\u001b[0;34m\u001b[0m\u001b[0m\n\u001b[0;32m---> 21\u001b[0;31m     \u001b[0msubmission\u001b[0m\u001b[0;34m[\u001b[0m\u001b[0mlabel\u001b[0m\u001b[0;34m]\u001b[0m \u001b[0;34m=\u001b[0m \u001b[0mpredict_result\u001b[0m\u001b[0;34m(\u001b[0m\u001b[0mtest_2016\u001b[0m\u001b[0;34m[\u001b[0m\u001b[0mtrain_features\u001b[0m\u001b[0;34m]\u001b[0m\u001b[0;34m,\u001b[0m \u001b[0mmodels\u001b[0m\u001b[0;34m)\u001b[0m\u001b[0;34m\u001b[0m\u001b[0m\n\u001b[0m\u001b[1;32m     22\u001b[0m \u001b[0;34m\u001b[0m\u001b[0m\n\u001b[1;32m     23\u001b[0m \u001b[0;32mfor\u001b[0m \u001b[0mlabel\u001b[0m\u001b[0;34m,\u001b[0m \u001b[0mtest_date\u001b[0m \u001b[0;32min\u001b[0m \u001b[0mtest_dates_2017\u001b[0m\u001b[0;34m.\u001b[0m\u001b[0mitems\u001b[0m\u001b[0;34m(\u001b[0m\u001b[0;34m)\u001b[0m\u001b[0;34m:\u001b[0m\u001b[0;34m\u001b[0m\u001b[0m\n",
      "\u001b[0;32m<ipython-input-16-40a0e998a74e>\u001b[0m in \u001b[0;36mpredict_result\u001b[0;34m(test, models)\u001b[0m\n\u001b[1;32m      2\u001b[0m     \u001b[0mresult\u001b[0m \u001b[0;34m=\u001b[0m \u001b[0;36m0.0\u001b[0m\u001b[0;34m\u001b[0m\u001b[0m\n\u001b[1;32m      3\u001b[0m     \u001b[0;32mfor\u001b[0m \u001b[0mmodel\u001b[0m \u001b[0;32min\u001b[0m \u001b[0mmodels\u001b[0m\u001b[0;34m:\u001b[0m\u001b[0;34m\u001b[0m\u001b[0m\n\u001b[0;32m----> 4\u001b[0;31m         \u001b[0mresult\u001b[0m \u001b[0;34m+=\u001b[0m \u001b[0mmodel\u001b[0m\u001b[0;34m.\u001b[0m\u001b[0mpredict\u001b[0m\u001b[0;34m(\u001b[0m\u001b[0mtest\u001b[0m\u001b[0;34m)\u001b[0m\u001b[0;34m\u001b[0m\u001b[0m\n\u001b[0m\u001b[1;32m      5\u001b[0m     \u001b[0;32mreturn\u001b[0m \u001b[0mresult\u001b[0m \u001b[0;34m/\u001b[0m \u001b[0mlen\u001b[0m\u001b[0;34m(\u001b[0m\u001b[0mmodels\u001b[0m\u001b[0;34m)\u001b[0m\u001b[0;34m\u001b[0m\u001b[0m\n",
      "\u001b[0;32m/anaconda/lib/python3.6/site-packages/catboost/core.py\u001b[0m in \u001b[0;36mpredict\u001b[0;34m(self, data, weight, ntree_start, ntree_end, thread_count, verbose)\u001b[0m\n\u001b[1;32m   1361\u001b[0m         \u001b[0mprediction\u001b[0m \u001b[0;34m:\u001b[0m \u001b[0mnumpy\u001b[0m\u001b[0;34m.\u001b[0m\u001b[0marray\u001b[0m\u001b[0;34m\u001b[0m\u001b[0m\n\u001b[1;32m   1362\u001b[0m         \"\"\"\n\u001b[0;32m-> 1363\u001b[0;31m         \u001b[0;32mreturn\u001b[0m \u001b[0mself\u001b[0m\u001b[0;34m.\u001b[0m\u001b[0m_predict\u001b[0m\u001b[0;34m(\u001b[0m\u001b[0mdata\u001b[0m\u001b[0;34m,\u001b[0m \u001b[0mweight\u001b[0m\u001b[0;34m,\u001b[0m \u001b[0;34m\"RawFormulaVal\"\u001b[0m\u001b[0;34m,\u001b[0m \u001b[0mntree_start\u001b[0m\u001b[0;34m,\u001b[0m \u001b[0mntree_end\u001b[0m\u001b[0;34m,\u001b[0m \u001b[0mthread_count\u001b[0m\u001b[0;34m,\u001b[0m \u001b[0mverbose\u001b[0m\u001b[0;34m)\u001b[0m\u001b[0;34m\u001b[0m\u001b[0m\n\u001b[0m\u001b[1;32m   1364\u001b[0m \u001b[0;34m\u001b[0m\u001b[0m\n\u001b[1;32m   1365\u001b[0m     \u001b[0;32mdef\u001b[0m \u001b[0mstaged_predict\u001b[0m\u001b[0;34m(\u001b[0m\u001b[0mself\u001b[0m\u001b[0;34m,\u001b[0m \u001b[0mdata\u001b[0m\u001b[0;34m,\u001b[0m \u001b[0mweight\u001b[0m\u001b[0;34m=\u001b[0m\u001b[0;32mNone\u001b[0m\u001b[0;34m,\u001b[0m \u001b[0mntree_start\u001b[0m\u001b[0;34m=\u001b[0m\u001b[0;36m0\u001b[0m\u001b[0;34m,\u001b[0m \u001b[0mntree_end\u001b[0m\u001b[0;34m=\u001b[0m\u001b[0;36m0\u001b[0m\u001b[0;34m,\u001b[0m \u001b[0meval_period\u001b[0m\u001b[0;34m=\u001b[0m\u001b[0;36m1\u001b[0m\u001b[0;34m,\u001b[0m \u001b[0mthread_count\u001b[0m\u001b[0;34m=\u001b[0m\u001b[0;36m1\u001b[0m\u001b[0;34m,\u001b[0m \u001b[0mverbose\u001b[0m\u001b[0;34m=\u001b[0m\u001b[0;32mNone\u001b[0m\u001b[0;34m)\u001b[0m\u001b[0;34m:\u001b[0m\u001b[0;34m\u001b[0m\u001b[0m\n",
      "\u001b[0;32m/anaconda/lib/python3.6/site-packages/catboost/core.py\u001b[0m in \u001b[0;36m_predict\u001b[0;34m(self, data, weight, prediction_type, ntree_start, ntree_end, thread_count, verbose)\u001b[0m\n\u001b[1;32m    498\u001b[0m             \u001b[0;32mraise\u001b[0m \u001b[0mCatboostError\u001b[0m\u001b[0;34m(\u001b[0m\u001b[0;34m\"There is no trained model to use predict(). Use fit() to train model. Then use predict().\"\u001b[0m\u001b[0;34m)\u001b[0m\u001b[0;34m\u001b[0m\u001b[0m\n\u001b[1;32m    499\u001b[0m         \u001b[0;32mif\u001b[0m \u001b[0;32mnot\u001b[0m \u001b[0misinstance\u001b[0m\u001b[0;34m(\u001b[0m\u001b[0mdata\u001b[0m\u001b[0;34m,\u001b[0m \u001b[0mPool\u001b[0m\u001b[0;34m)\u001b[0m\u001b[0;34m:\u001b[0m\u001b[0;34m\u001b[0m\u001b[0m\n\u001b[0;32m--> 500\u001b[0;31m             \u001b[0mdata\u001b[0m \u001b[0;34m=\u001b[0m \u001b[0mPool\u001b[0m\u001b[0;34m(\u001b[0m\u001b[0mdata\u001b[0m\u001b[0;34m=\u001b[0m\u001b[0mdata\u001b[0m\u001b[0;34m,\u001b[0m \u001b[0mweight\u001b[0m\u001b[0;34m=\u001b[0m\u001b[0mweight\u001b[0m\u001b[0;34m,\u001b[0m \u001b[0mcat_features\u001b[0m\u001b[0;34m=\u001b[0m\u001b[0mself\u001b[0m\u001b[0;34m.\u001b[0m\u001b[0m_get_cat_feature_indices\u001b[0m\u001b[0;34m(\u001b[0m\u001b[0;34m)\u001b[0m\u001b[0;34m)\u001b[0m\u001b[0;34m\u001b[0m\u001b[0m\n\u001b[0m\u001b[1;32m    501\u001b[0m         \u001b[0;32melif\u001b[0m \u001b[0;32mnot\u001b[0m \u001b[0mnp\u001b[0m\u001b[0;34m.\u001b[0m\u001b[0mall\u001b[0m\u001b[0;34m(\u001b[0m\u001b[0msorted\u001b[0m\u001b[0;34m(\u001b[0m\u001b[0mdata\u001b[0m\u001b[0;34m.\u001b[0m\u001b[0mget_cat_feature_indices\u001b[0m\u001b[0;34m(\u001b[0m\u001b[0;34m)\u001b[0m\u001b[0;34m)\u001b[0m \u001b[0;34m==\u001b[0m \u001b[0msorted\u001b[0m\u001b[0;34m(\u001b[0m\u001b[0mself\u001b[0m\u001b[0;34m.\u001b[0m\u001b[0m_get_cat_feature_indices\u001b[0m\u001b[0;34m(\u001b[0m\u001b[0;34m)\u001b[0m\u001b[0;34m)\u001b[0m\u001b[0;34m)\u001b[0m\u001b[0;34m:\u001b[0m\u001b[0;34m\u001b[0m\u001b[0m\n\u001b[1;32m    502\u001b[0m             \u001b[0;32mraise\u001b[0m \u001b[0mCatboostError\u001b[0m\u001b[0;34m(\u001b[0m\u001b[0;34m\"Data cat_features in predict()={} are not equal data cat_features in fit()={}.\"\u001b[0m\u001b[0;34m.\u001b[0m\u001b[0mformat\u001b[0m\u001b[0;34m(\u001b[0m\u001b[0mdata\u001b[0m\u001b[0;34m.\u001b[0m\u001b[0mget_cat_feature_indices\u001b[0m\u001b[0;34m(\u001b[0m\u001b[0;34m)\u001b[0m\u001b[0;34m,\u001b[0m \u001b[0mself\u001b[0m\u001b[0;34m.\u001b[0m\u001b[0m_get_cat_feature_indices\u001b[0m\u001b[0;34m(\u001b[0m\u001b[0;34m)\u001b[0m\u001b[0;34m)\u001b[0m\u001b[0;34m)\u001b[0m\u001b[0;34m\u001b[0m\u001b[0m\n",
      "\u001b[0;32m/anaconda/lib/python3.6/site-packages/catboost/core.py\u001b[0m in \u001b[0;36m__init__\u001b[0;34m(self, data, label, cat_features, column_description, delimiter, has_header, weight, baseline, feature_names, thread_count)\u001b[0m\n\u001b[1;32m    120\u001b[0m                 \u001b[0mself\u001b[0m\u001b[0;34m.\u001b[0m\u001b[0m_read\u001b[0m\u001b[0;34m(\u001b[0m\u001b[0mdata\u001b[0m\u001b[0;34m,\u001b[0m \u001b[0mcolumn_description\u001b[0m\u001b[0;34m,\u001b[0m \u001b[0mdelimiter\u001b[0m\u001b[0;34m,\u001b[0m \u001b[0mhas_header\u001b[0m\u001b[0;34m,\u001b[0m \u001b[0mthread_count\u001b[0m\u001b[0;34m)\u001b[0m\u001b[0;34m\u001b[0m\u001b[0m\n\u001b[1;32m    121\u001b[0m             \u001b[0;32melse\u001b[0m\u001b[0;34m:\u001b[0m\u001b[0;34m\u001b[0m\u001b[0m\n\u001b[0;32m--> 122\u001b[0;31m                 \u001b[0mself\u001b[0m\u001b[0;34m.\u001b[0m\u001b[0m_init\u001b[0m\u001b[0;34m(\u001b[0m\u001b[0mdata\u001b[0m\u001b[0;34m,\u001b[0m \u001b[0mlabel\u001b[0m\u001b[0;34m,\u001b[0m \u001b[0mcat_features\u001b[0m\u001b[0;34m,\u001b[0m \u001b[0mweight\u001b[0m\u001b[0;34m,\u001b[0m \u001b[0mbaseline\u001b[0m\u001b[0;34m,\u001b[0m \u001b[0mfeature_names\u001b[0m\u001b[0;34m)\u001b[0m\u001b[0;34m\u001b[0m\u001b[0m\n\u001b[0m\u001b[1;32m    123\u001b[0m         \u001b[0msuper\u001b[0m\u001b[0;34m(\u001b[0m\u001b[0mPool\u001b[0m\u001b[0;34m,\u001b[0m \u001b[0mself\u001b[0m\u001b[0;34m)\u001b[0m\u001b[0;34m.\u001b[0m\u001b[0m__init__\u001b[0m\u001b[0;34m(\u001b[0m\u001b[0;34m)\u001b[0m\u001b[0;34m\u001b[0m\u001b[0m\n\u001b[1;32m    124\u001b[0m \u001b[0;34m\u001b[0m\u001b[0m\n",
      "\u001b[0;32m/anaconda/lib/python3.6/site-packages/catboost/core.py\u001b[0m in \u001b[0;36m_init\u001b[0;34m(self, data_matrix, label, cat_features, weight, baseline, feature_names)\u001b[0m\n\u001b[1;32m    329\u001b[0m         \u001b[0;32mif\u001b[0m \u001b[0mfeature_names\u001b[0m \u001b[0;32mis\u001b[0m \u001b[0;32mnot\u001b[0m \u001b[0;32mNone\u001b[0m\u001b[0;34m:\u001b[0m\u001b[0;34m\u001b[0m\u001b[0m\n\u001b[1;32m    330\u001b[0m             \u001b[0mself\u001b[0m\u001b[0;34m.\u001b[0m\u001b[0m_check_feature_names\u001b[0m\u001b[0;34m(\u001b[0m\u001b[0mfeature_names\u001b[0m\u001b[0;34m,\u001b[0m \u001b[0mdata_shape\u001b[0m\u001b[0;34m[\u001b[0m\u001b[0;36m1\u001b[0m\u001b[0;34m]\u001b[0m\u001b[0;34m)\u001b[0m\u001b[0;34m\u001b[0m\u001b[0m\n\u001b[0;32m--> 331\u001b[0;31m         \u001b[0mself\u001b[0m\u001b[0;34m.\u001b[0m\u001b[0m_init_pool\u001b[0m\u001b[0;34m(\u001b[0m\u001b[0mdata_matrix\u001b[0m\u001b[0;34m,\u001b[0m \u001b[0mlabel\u001b[0m\u001b[0;34m,\u001b[0m \u001b[0mweight\u001b[0m\u001b[0;34m,\u001b[0m \u001b[0mbaseline\u001b[0m\u001b[0;34m,\u001b[0m \u001b[0mfeature_names\u001b[0m\u001b[0;34m)\u001b[0m\u001b[0;34m\u001b[0m\u001b[0m\n\u001b[0m\u001b[1;32m    332\u001b[0m \u001b[0;34m\u001b[0m\u001b[0m\n\u001b[1;32m    333\u001b[0m \u001b[0;34m\u001b[0m\u001b[0m\n",
      "\u001b[0;32m_catboost.pyx\u001b[0m in \u001b[0;36m_catboost._PoolBase._init_pool (/Users/donskov/.ya/build/build_root/lqvw/00034f/catboost/python-package/catboost/_catboost.pyx.cpp:6511)\u001b[0;34m()\u001b[0m\n",
      "\u001b[0;32m_catboost.pyx\u001b[0m in \u001b[0;36m_catboost._PoolBase._init_pool (/Users/donskov/.ya/build/build_root/lqvw/00034f/catboost/python-package/catboost/_catboost.pyx.cpp:6236)\u001b[0;34m()\u001b[0m\n",
      "\u001b[0;32m_catboost.pyx\u001b[0m in \u001b[0;36m_catboost._PoolBase._set_data (/Users/donskov/.ya/build/build_root/lqvw/00034f/catboost/python-package/catboost/_catboost.pyx.cpp:6954)\u001b[0;34m()\u001b[0m\n",
      "\u001b[0;31mKeyboardInterrupt\u001b[0m: "
     ]
    }
   ],
   "source": [
    "submission = pd.DataFrame({\n",
    "    'ParcelId': test_2016['parcelid'],\n",
    "})\n",
    "# https://www.kaggle.com/c/zillow-prize-1/discussion/33899, Oct,Nov,Dec\n",
    "test_dates_2016 = {\n",
    "    '201610': pd.Timestamp('2016-10-30'),\n",
    "    '201611': pd.Timestamp('2016-11-30'),\n",
    "    '201612': pd.Timestamp('2016-12-30')\n",
    "}\n",
    "test_dates_2017 = {\n",
    "    '201710': pd.Timestamp('2017-10-30'),\n",
    "    '201711': pd.Timestamp('2017-11-30'),\n",
    "    '201712': pd.Timestamp('2017-12-30')\n",
    "}\n",
    "\n",
    "for label, test_date in test_dates_2016.items():\n",
    "    print(\"Predicting for: %s ... \" % (label))\n",
    "    # TODO(you): predict for every `test_date`\n",
    "    test_2016['transactiondate'] = test_date\n",
    "    test_2016 = add_date_features(test_2016)\n",
    "    submission[label] = predict_result(test_2016[train_features], models)\n",
    "\n",
    "for label, test_date in test_dates_2017.items():\n",
    "    print(\"Predicting for: %s ... \" % (label))\n",
    "    # TODO(you): predict for every `test_date`\n",
    "    test_2017['transactiondate'] = test_date\n",
    "    test_2017 = add_date_features(test_2017)\n",
    "    submission[label] = predict_result(test_2017[train_features], models)\n",
    "\n",
    "submission_major = 1\n",
    "submission.to_csv(\n",
    "    'submission_%03d.csv' % (submission_major),\n",
    "    float_format='%.4f',\n",
    "    index=False)\n",
    "print(\"Done! Good luck with submission #%d :)\" % submission_major)"
   ]
  },
  {
   "cell_type": "code",
   "execution_count": null,
   "metadata": {
    "collapsed": true
   },
   "outputs": [],
   "source": [
    "density_cluster = DBSCAN()\n",
    "density_cluster.fit_predict(complete[['latitude', 'longitude']])"
   ]
  },
  {
   "cell_type": "code",
   "execution_count": null,
   "metadata": {
    "collapsed": true
   },
   "outputs": [],
   "source": [
    "complete['longitude'].isnull().sum()"
   ]
  },
  {
   "cell_type": "code",
   "execution_count": null,
   "metadata": {
    "collapsed": true
   },
   "outputs": [],
   "source": []
  }
 ],
 "metadata": {
  "kernelspec": {
   "display_name": "Python 3",
   "language": "python",
   "name": "python3"
  },
  "language_info": {
   "codemirror_mode": {
    "name": "ipython",
    "version": 3
   },
   "file_extension": ".py",
   "mimetype": "text/x-python",
   "name": "python",
   "nbconvert_exporter": "python",
   "pygments_lexer": "ipython3",
   "version": "3.6.2"
  }
 },
 "nbformat": 4,
 "nbformat_minor": 1
}
