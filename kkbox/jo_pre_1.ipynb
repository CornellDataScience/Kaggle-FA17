{
 "cells": [
  {
   "cell_type": "code",
   "execution_count": 2,
   "metadata": {
    "collapsed": true
   },
   "outputs": [],
   "source": [
    "import numpy as np\n",
    "import pandas as pd\n",
    "import dask.dataframe as dd"
   ]
  },
  {
   "cell_type": "code",
   "execution_count": 6,
   "metadata": {
    "collapsed": true
   },
   "outputs": [],
   "source": [
    "def merge_by(ind, train, test, new):\n",
    "    train = pd.merge(train, new, how='left', on=ind)\n",
    "    test = pd.merge(test, new, how='left', on=ind)\n",
    "    return train, test"
   ]
  },
  {
   "cell_type": "markdown",
   "metadata": {},
   "source": [
    "### Loading up base templates for train and test"
   ]
  },
  {
   "cell_type": "code",
   "execution_count": 3,
   "metadata": {
    "collapsed": true
   },
   "outputs": [],
   "source": [
    "df_train = pd.read_csv(\"train.csv\")\n",
    "df_test = pd.read_csv(\"sample_submission_zero.csv\")"
   ]
  },
  {
   "cell_type": "markdown",
   "metadata": {},
   "source": [
    "### Members => train, test"
   ]
  },
  {
   "cell_type": "code",
   "execution_count": 4,
   "metadata": {
    "collapsed": true
   },
   "outputs": [],
   "source": [
    "df_members = pd.read_csv(\"members.csv\")\n",
    "df_train, df_test = merge_by(\"msno\", df_train, df_test, df_members)\n",
    "\n",
    "gender = {'male':1, 'female':2}\n",
    "df_train['gender'] = df_train['gender'].map(gender)\n",
    "df_test['gender'] = df_test['gender'].map(gender)"
   ]
  },
  {
   "cell_type": "markdown",
   "metadata": {},
   "source": [
    "### Transactions => train, test"
   ]
  },
  {
   "cell_type": "code",
   "execution_count": 8,
   "metadata": {},
   "outputs": [],
   "source": [
    "df_transactions = pd.read_csv(\"transactions.csv\")\n",
    "\n",
    "# Count of transactions for a certain user\n",
    "trans_count = pd.DataFrame(df_transactions['msno'].value_counts().reset_index())\n",
    "trans_count.columns = ['msno','trans_count']\n",
    "\n",
    "df_train, df_test = merge_by(\"msno\", df_train, df_test, trans_count)\n",
    "\n",
    "# Info from latest transaction for user\n",
    "trans_latest = df_transactions.sort_values(by=['transaction_date'], ascending=[False]).reset_index(drop=True)\n",
    "trans_latest = df_transactions.drop_duplicates(subset=['msno'], keep='first')\n",
    "\n",
    "df_train, df_test = merge_by(\"msno\", df_train, df_test, trans_latest)"
   ]
  },
  {
   "cell_type": "code",
   "execution_count": 9,
   "metadata": {
    "collapsed": true
   },
   "outputs": [],
   "source": [
    "# df_userlogs = dd.read_csv(\"user_logs.csv\")"
   ]
  },
  {
   "cell_type": "code",
   "execution_count": 10,
   "metadata": {},
   "outputs": [
    {
     "name": "stdout",
     "output_type": "stream",
     "text": [
      "                                           msno  is_churn  city    bd  gender  \\\n",
      "0  waLDQMmcOu2jLDaV1ddDkgCrB/jl6sD66Xzs0Vqax1Y=         1  18.0  36.0     2.0   \n",
      "1  QA7uiXy8vIbUSPOkCf9RwQ3FsT8jVq2OxDr8zqa7bRQ=         1  10.0  38.0     1.0   \n",
      "2  fGwBva6hikQmTJzrbz/2Ezjm5Cth5jZUNvXigKK2AFA=         1  11.0  27.0     2.0   \n",
      "3  mT5V8rEpa+8wuqi6x0DoVd3H5icMKkE9Prt49UlmK+4=         1  13.0  23.0     2.0   \n",
      "4  XaPhtGLk/5UvvOYHcONTwsnH97P4eGECeq+BARGItRw=         1   3.0  27.0     1.0   \n",
      "\n",
      "   registered_via  registration_init_time  expiration_date  trans_count_x  \\\n",
      "0             9.0              20050406.0       20170907.0              2   \n",
      "1             9.0              20050407.0       20170321.0             23   \n",
      "2             9.0              20051016.0       20170203.0             10   \n",
      "3             9.0              20051102.0       20170926.0              2   \n",
      "4             9.0              20051228.0       20170927.0              8   \n",
      "\n",
      "   trans_count_y  payment_method_id  payment_plan_days  plan_list_price  \\\n",
      "0              2                 38                  7                0   \n",
      "1             23                 39                 30              149   \n",
      "2             10                 39                 30              149   \n",
      "3              2                 38                410             1788   \n",
      "4              8                 38                195              894   \n",
      "\n",
      "   actual_amount_paid  is_auto_renew  transaction_date  \\\n",
      "0                   0              0          20161031   \n",
      "1                 149              1          20161031   \n",
      "2                 149              1          20170112   \n",
      "3                1788              0          20160106   \n",
      "4                 894              0          20160427   \n",
      "\n",
      "   membership_expire_date  is_cancel  \n",
      "0                20161107          0  \n",
      "1                20161221          0  \n",
      "2                20170203          1  \n",
      "3                20170220          0  \n",
      "4                20161127          0  \n"
     ]
    }
   ],
   "source": [
    "df_train = df_train.fillna(-999)\n",
    "df_test = df_test.fillna(-999)\n",
    "\n",
    "print(df_train.head())"
   ]
  },
  {
   "cell_type": "code",
   "execution_count": 11,
   "metadata": {
    "collapsed": true
   },
   "outputs": [],
   "source": [
    "df_train.to_csv(\"_train.csv\", index = False)\n",
    "df_test.to_csv(\"_test.csv\", index = False)"
   ]
  },
  {
   "cell_type": "code",
   "execution_count": null,
   "metadata": {
    "collapsed": true
   },
   "outputs": [],
   "source": []
  }
 ],
 "metadata": {
  "kernelspec": {
   "display_name": "Python 3",
   "language": "python",
   "name": "python3"
  },
  "language_info": {
   "codemirror_mode": {
    "name": "ipython",
    "version": 3
   },
   "file_extension": ".py",
   "mimetype": "text/x-python",
   "name": "python",
   "nbconvert_exporter": "python",
   "pygments_lexer": "ipython3",
   "version": "3.6.2"
  }
 },
 "nbformat": 4,
 "nbformat_minor": 2
}
