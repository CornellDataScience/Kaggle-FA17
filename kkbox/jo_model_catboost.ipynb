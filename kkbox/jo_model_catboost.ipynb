{
 "cells": [
  {
   "cell_type": "code",
   "execution_count": 7,
   "metadata": {
    "collapsed": true
   },
   "outputs": [],
   "source": [
    "import pandas as pd"
   ]
  },
  {
   "cell_type": "code",
   "execution_count": 8,
   "metadata": {
    "collapsed": true
   },
   "outputs": [],
   "source": [
    "train = pd.read_csv(\"_train.csv\")\n",
    "test = pd.read_csv(\"_test.csv\")"
   ]
  },
  {
   "cell_type": "code",
   "execution_count": null,
   "metadata": {
    "collapsed": true
   },
   "outputs": [],
   "source": [
    "x_train = df.loc[:, df.columns != 'b']"
   ]
  },
  {
   "cell_type": "code",
   "execution_count": 22,
   "metadata": {},
   "outputs": [
    {
     "name": "stdout",
     "output_type": "stream",
     "text": [
      "                                           msno  is_churn  city    bd  gender  \\\n",
      "0  waLDQMmcOu2jLDaV1ddDkgCrB/jl6sD66Xzs0Vqax1Y=         1  18.0  36.0     2.0   \n",
      "1  QA7uiXy8vIbUSPOkCf9RwQ3FsT8jVq2OxDr8zqa7bRQ=         1  10.0  38.0     1.0   \n",
      "2  fGwBva6hikQmTJzrbz/2Ezjm5Cth5jZUNvXigKK2AFA=         1  11.0  27.0     2.0   \n",
      "3  mT5V8rEpa+8wuqi6x0DoVd3H5icMKkE9Prt49UlmK+4=         1  13.0  23.0     2.0   \n",
      "4  XaPhtGLk/5UvvOYHcONTwsnH97P4eGECeq+BARGItRw=         1   3.0  27.0     1.0   \n",
      "\n",
      "   registered_via  registration_init_time  expiration_date  trans_count  \n",
      "0             9.0              20050406.0       20170907.0            2  \n",
      "1             9.0              20050407.0       20170321.0           23  \n",
      "2             9.0              20051016.0       20170203.0           10  \n",
      "3             9.0              20051102.0       20170926.0            2  \n",
      "4             9.0              20051228.0       20170927.0            8  \n"
     ]
    }
   ],
   "source": [
    "print(train.head())"
   ]
  },
  {
   "cell_type": "code",
   "execution_count": 16,
   "metadata": {},
   "outputs": [],
   "source": [
    "from catboost import CatBoostClassifier"
   ]
  },
  {
   "cell_type": "code",
   "execution_count": 20,
   "metadata": {},
   "outputs": [],
   "source": [
    "model = CatBoostClassifier(\n",
    "        depth=6, \n",
    "        l2_leaf_reg=3, \n",
    "        learning_rate=0.03,\n",
    "        iterations=200,\n",
    "        loss_function='Logloss',\n",
    "        eval_metric='Logloss',\n",
    "        random_seed=1337)"
   ]
  },
  {
   "cell_type": "code",
   "execution_count": 27,
   "metadata": {},
   "outputs": [
    {
     "name": "stdout",
     "output_type": "stream",
     "text": [
      "Borders for float features generated\n",
      "0:\tlearn 0.6397290301\ttotal: 280ms\tremaining: 55.7s\n",
      "1:\tlearn 0.5877367601\ttotal: 593ms\tremaining: 58.7s\n",
      "2:\tlearn 0.5450155117\ttotal: 898ms\tremaining: 59s\n",
      "3:\tlearn 0.5078068225\ttotal: 1.2s\tremaining: 58.6s\n",
      "4:\tlearn 0.4710384018\ttotal: 1.5s\tremaining: 58.4s\n",
      "5:\tlearn 0.4393221848\ttotal: 1.8s\tremaining: 58.3s\n",
      "6:\tlearn 0.4132597314\ttotal: 2.1s\tremaining: 57.9s\n",
      "7:\tlearn 0.3893920665\ttotal: 2.42s\tremaining: 58.1s\n",
      "8:\tlearn 0.3656174748\ttotal: 2.71s\tremaining: 57.5s\n",
      "9:\tlearn 0.3438027713\ttotal: 3.02s\tremaining: 57.4s\n",
      "10:\tlearn 0.3248946316\ttotal: 3.32s\tremaining: 57s\n",
      "11:\tlearn 0.3083068762\ttotal: 3.63s\tremaining: 56.8s\n",
      "12:\tlearn 0.2942767031\ttotal: 3.94s\tremaining: 56.6s\n",
      "13:\tlearn 0.2800156632\ttotal: 4.23s\tremaining: 56.1s\n",
      "14:\tlearn 0.2673497723\ttotal: 4.53s\tremaining: 55.9s\n",
      "15:\tlearn 0.2554243877\ttotal: 4.83s\tremaining: 55.6s\n",
      "16:\tlearn 0.244734831\ttotal: 5.12s\tremaining: 55.2s\n",
      "17:\tlearn 0.2354110635\ttotal: 5.42s\tremaining: 54.8s\n",
      "18:\tlearn 0.2269080509\ttotal: 5.72s\tremaining: 54.5s\n",
      "19:\tlearn 0.2190092458\ttotal: 6.01s\tremaining: 54.1s\n",
      "20:\tlearn 0.2115772202\ttotal: 6.29s\tremaining: 53.6s\n",
      "21:\tlearn 0.2055578526\ttotal: 6.6s\tremaining: 53.4s\n",
      "22:\tlearn 0.1995399415\ttotal: 6.88s\tremaining: 53s\n",
      "23:\tlearn 0.1940145463\ttotal: 7.17s\tremaining: 52.6s\n",
      "24:\tlearn 0.1892502851\ttotal: 7.48s\tremaining: 52.4s\n",
      "25:\tlearn 0.1849670182\ttotal: 7.78s\tremaining: 52s\n",
      "26:\tlearn 0.1808721537\ttotal: 8.08s\tremaining: 51.8s\n",
      "27:\tlearn 0.1772745143\ttotal: 8.39s\tremaining: 51.6s\n",
      "28:\tlearn 0.1728319065\ttotal: 8.7s\tremaining: 51.3s\n",
      "29:\tlearn 0.1696429856\ttotal: 8.99s\tremaining: 50.9s\n",
      "30:\tlearn 0.1665225715\ttotal: 9.3s\tremaining: 50.7s\n",
      "31:\tlearn 0.1637162268\ttotal: 9.59s\tremaining: 50.3s\n",
      "32:\tlearn 0.1610610026\ttotal: 9.87s\tremaining: 49.9s\n",
      "33:\tlearn 0.1585276061\ttotal: 10.2s\tremaining: 49.6s\n",
      "34:\tlearn 0.1550656455\ttotal: 10.5s\tremaining: 49.3s\n",
      "35:\tlearn 0.1529522725\ttotal: 10.8s\tremaining: 49s\n",
      "36:\tlearn 0.1513776559\ttotal: 11.1s\tremaining: 48.7s\n",
      "37:\tlearn 0.1499683211\ttotal: 11.4s\tremaining: 48.4s\n",
      "38:\tlearn 0.148174158\ttotal: 11.7s\tremaining: 48.2s\n",
      "39:\tlearn 0.1466439272\ttotal: 12s\tremaining: 47.8s\n",
      "40:\tlearn 0.1450145622\ttotal: 12.3s\tremaining: 47.6s\n",
      "41:\tlearn 0.1439286157\ttotal: 12.6s\tremaining: 47.3s\n",
      "42:\tlearn 0.1428111115\ttotal: 12.9s\tremaining: 47s\n",
      "43:\tlearn 0.1415220015\ttotal: 13.2s\tremaining: 46.7s\n",
      "44:\tlearn 0.1405824323\ttotal: 13.5s\tremaining: 46.4s\n",
      "45:\tlearn 0.1393829777\ttotal: 13.8s\tremaining: 46.1s\n",
      "46:\tlearn 0.1381569969\ttotal: 14.1s\tremaining: 45.8s\n",
      "47:\tlearn 0.1373856767\ttotal: 14.4s\tremaining: 45.6s\n",
      "48:\tlearn 0.1364058863\ttotal: 14.7s\tremaining: 45.3s\n",
      "49:\tlearn 0.135645214\ttotal: 15s\tremaining: 45s\n",
      "50:\tlearn 0.1350145467\ttotal: 15.3s\tremaining: 44.7s\n",
      "51:\tlearn 0.1342681516\ttotal: 15.6s\tremaining: 44.3s\n",
      "52:\tlearn 0.1336641943\ttotal: 15.9s\tremaining: 44s\n",
      "53:\tlearn 0.1331168919\ttotal: 16.2s\tremaining: 43.7s\n",
      "54:\tlearn 0.1325401956\ttotal: 16.6s\tremaining: 43.6s\n",
      "55:\tlearn 0.1320636913\ttotal: 16.9s\tremaining: 43.4s\n",
      "56:\tlearn 0.1310076891\ttotal: 17.2s\tremaining: 43.1s\n",
      "57:\tlearn 0.1305760647\ttotal: 17.5s\tremaining: 42.8s\n",
      "58:\tlearn 0.1299578909\ttotal: 17.8s\tremaining: 42.5s\n",
      "59:\tlearn 0.1294443123\ttotal: 18.1s\tremaining: 42.1s\n",
      "60:\tlearn 0.1290775453\ttotal: 18.4s\tremaining: 41.8s\n",
      "61:\tlearn 0.1285649305\ttotal: 18.7s\tremaining: 41.6s\n",
      "62:\tlearn 0.1283182916\ttotal: 19s\tremaining: 41.2s\n",
      "63:\tlearn 0.1275948435\ttotal: 19.2s\tremaining: 40.9s\n",
      "64:\tlearn 0.1273675547\ttotal: 19.6s\tremaining: 40.6s\n",
      "65:\tlearn 0.1267454552\ttotal: 19.9s\tremaining: 40.3s\n",
      "66:\tlearn 0.1265618258\ttotal: 20.1s\tremaining: 40s\n",
      "67:\tlearn 0.1262370636\ttotal: 20.4s\tremaining: 39.7s\n",
      "68:\tlearn 0.1260396271\ttotal: 20.7s\tremaining: 39.4s\n",
      "69:\tlearn 0.125884444\ttotal: 21s\tremaining: 39.1s\n",
      "70:\tlearn 0.1256307419\ttotal: 21.3s\tremaining: 38.8s\n",
      "71:\tlearn 0.1251742\ttotal: 21.6s\tremaining: 38.5s\n",
      "72:\tlearn 0.1248693995\ttotal: 21.9s\tremaining: 38.1s\n",
      "73:\tlearn 0.1246472923\ttotal: 22.2s\tremaining: 37.8s\n",
      "74:\tlearn 0.1244185248\ttotal: 22.5s\tremaining: 37.5s\n",
      "75:\tlearn 0.1242785193\ttotal: 22.8s\tremaining: 37.2s\n",
      "76:\tlearn 0.1240855003\ttotal: 23.1s\tremaining: 36.9s\n",
      "77:\tlearn 0.1240081928\ttotal: 23.4s\tremaining: 36.6s\n",
      "78:\tlearn 0.1237811661\ttotal: 23.7s\tremaining: 36.3s\n",
      "79:\tlearn 0.1236899309\ttotal: 24s\tremaining: 36s\n",
      "80:\tlearn 0.1235230157\ttotal: 24.3s\tremaining: 35.7s\n",
      "81:\tlearn 0.1232556522\ttotal: 24.6s\tremaining: 35.3s\n",
      "82:\tlearn 0.1231216601\ttotal: 24.9s\tremaining: 35s\n",
      "83:\tlearn 0.1230024363\ttotal: 25.1s\tremaining: 34.7s\n",
      "84:\tlearn 0.1229019534\ttotal: 25.5s\tremaining: 34.4s\n",
      "85:\tlearn 0.1227711855\ttotal: 25.7s\tremaining: 34.1s\n",
      "86:\tlearn 0.1224656493\ttotal: 26s\tremaining: 33.8s\n",
      "87:\tlearn 0.1222946415\ttotal: 26.4s\tremaining: 33.5s\n",
      "88:\tlearn 0.1220527021\ttotal: 26.7s\tremaining: 33.2s\n",
      "89:\tlearn 0.1219127014\ttotal: 26.9s\tremaining: 32.9s\n",
      "90:\tlearn 0.1218658091\ttotal: 27.2s\tremaining: 32.6s\n",
      "91:\tlearn 0.1217223009\ttotal: 27.5s\tremaining: 32.3s\n",
      "92:\tlearn 0.1216249775\ttotal: 27.8s\tremaining: 32s\n",
      "93:\tlearn 0.1214917708\ttotal: 28.1s\tremaining: 31.7s\n",
      "94:\tlearn 0.1212778961\ttotal: 28.4s\tremaining: 31.4s\n",
      "95:\tlearn 0.1211957172\ttotal: 28.7s\tremaining: 31.1s\n",
      "96:\tlearn 0.1209474678\ttotal: 29s\tremaining: 30.8s\n",
      "97:\tlearn 0.120886511\ttotal: 29.3s\tremaining: 30.5s\n",
      "98:\tlearn 0.1208209346\ttotal: 29.6s\tremaining: 30.2s\n",
      "99:\tlearn 0.1207896196\ttotal: 29.9s\tremaining: 29.9s\n",
      "100:\tlearn 0.1206046349\ttotal: 30.2s\tremaining: 29.6s\n",
      "101:\tlearn 0.1205560366\ttotal: 30.5s\tremaining: 29.3s\n",
      "102:\tlearn 0.1204706262\ttotal: 30.8s\tremaining: 29s\n",
      "103:\tlearn 0.120396719\ttotal: 31.1s\tremaining: 28.7s\n",
      "104:\tlearn 0.1203004578\ttotal: 31.4s\tremaining: 28.4s\n",
      "105:\tlearn 0.1201972824\ttotal: 31.7s\tremaining: 28.1s\n",
      "106:\tlearn 0.1201303222\ttotal: 32s\tremaining: 27.8s\n",
      "107:\tlearn 0.1201055036\ttotal: 32.3s\tremaining: 27.5s\n",
      "108:\tlearn 0.1200725895\ttotal: 32.6s\tremaining: 27.2s\n",
      "109:\tlearn 0.1200091035\ttotal: 32.9s\tremaining: 26.9s\n",
      "110:\tlearn 0.1199592503\ttotal: 33.2s\tremaining: 26.6s\n",
      "111:\tlearn 0.1199392736\ttotal: 33.5s\tremaining: 26.3s\n",
      "112:\tlearn 0.1197986974\ttotal: 33.8s\tremaining: 26s\n",
      "113:\tlearn 0.1196501132\ttotal: 34.1s\tremaining: 25.7s\n",
      "114:\tlearn 0.1195313751\ttotal: 34.4s\tremaining: 25.4s\n",
      "115:\tlearn 0.1194823696\ttotal: 34.7s\tremaining: 25.1s\n",
      "116:\tlearn 0.1193482964\ttotal: 35s\tremaining: 24.8s\n",
      "117:\tlearn 0.1192871482\ttotal: 35.3s\tremaining: 24.5s\n",
      "118:\tlearn 0.1192333056\ttotal: 35.6s\tremaining: 24.2s\n",
      "119:\tlearn 0.1190841787\ttotal: 35.8s\tremaining: 23.9s\n",
      "120:\tlearn 0.1189672454\ttotal: 36.1s\tremaining: 23.6s\n",
      "121:\tlearn 0.1189306339\ttotal: 36.4s\tremaining: 23.3s\n",
      "122:\tlearn 0.1188537299\ttotal: 36.7s\tremaining: 23s\n",
      "123:\tlearn 0.1188205596\ttotal: 37s\tremaining: 22.7s\n",
      "124:\tlearn 0.1187033812\ttotal: 37.4s\tremaining: 22.4s\n",
      "125:\tlearn 0.1186603009\ttotal: 37.7s\tremaining: 22.1s\n",
      "126:\tlearn 0.1186035693\ttotal: 38s\tremaining: 21.8s\n",
      "127:\tlearn 0.1185273696\ttotal: 38.2s\tremaining: 21.5s\n",
      "128:\tlearn 0.118428248\ttotal: 38.6s\tremaining: 21.2s\n",
      "129:\tlearn 0.1183916726\ttotal: 38.8s\tremaining: 20.9s\n",
      "130:\tlearn 0.1183052876\ttotal: 39.1s\tremaining: 20.6s\n",
      "131:\tlearn 0.1182481585\ttotal: 39.4s\tremaining: 20.3s\n",
      "132:\tlearn 0.1181962707\ttotal: 39.7s\tremaining: 20s\n",
      "133:\tlearn 0.1181774969\ttotal: 40s\tremaining: 19.7s\n",
      "134:\tlearn 0.1181362826\ttotal: 40.3s\tremaining: 19.4s\n",
      "135:\tlearn 0.1181127066\ttotal: 40.6s\tremaining: 19.1s\n",
      "136:\tlearn 0.1180962058\ttotal: 40.9s\tremaining: 18.8s\n",
      "137:\tlearn 0.1180637063\ttotal: 41.2s\tremaining: 18.5s\n",
      "138:\tlearn 0.1180255\ttotal: 41.5s\tremaining: 18.2s\n",
      "139:\tlearn 0.1179815207\ttotal: 41.8s\tremaining: 17.9s\n",
      "140:\tlearn 0.1179408996\ttotal: 42.1s\tremaining: 17.6s\n",
      "141:\tlearn 0.1179033828\ttotal: 42.4s\tremaining: 17.3s\n",
      "142:\tlearn 0.1178871037\ttotal: 42.7s\tremaining: 17s\n",
      "143:\tlearn 0.1178715545\ttotal: 43s\tremaining: 16.7s\n",
      "144:\tlearn 0.1178522997\ttotal: 43.4s\tremaining: 16.4s\n",
      "145:\tlearn 0.1177931653\ttotal: 43.6s\tremaining: 16.1s\n",
      "146:\tlearn 0.1177807514\ttotal: 43.9s\tremaining: 15.8s\n",
      "147:\tlearn 0.117736611\ttotal: 44.2s\tremaining: 15.5s\n",
      "148:\tlearn 0.1176990456\ttotal: 44.5s\tremaining: 15.2s\n",
      "149:\tlearn 0.1176209351\ttotal: 44.8s\tremaining: 14.9s\n",
      "150:\tlearn 0.1175940896\ttotal: 45.1s\tremaining: 14.6s\n",
      "151:\tlearn 0.1175437862\ttotal: 45.4s\tremaining: 14.3s\n",
      "152:\tlearn 0.117528941\ttotal: 45.7s\tremaining: 14s\n",
      "153:\tlearn 0.1175074608\ttotal: 46s\tremaining: 13.7s\n",
      "154:\tlearn 0.1174684697\ttotal: 46.4s\tremaining: 13.5s\n"
     ]
    },
    {
     "name": "stdout",
     "output_type": "stream",
     "text": [
      "155:\tlearn 0.1174416515\ttotal: 46.7s\tremaining: 13.2s\n",
      "156:\tlearn 0.11742726\ttotal: 47s\tremaining: 12.9s\n",
      "157:\tlearn 0.1173747034\ttotal: 47.3s\tremaining: 12.6s\n",
      "158:\tlearn 0.1173509014\ttotal: 47.7s\tremaining: 12.3s\n",
      "159:\tlearn 0.1173255911\ttotal: 48.1s\tremaining: 12s\n",
      "160:\tlearn 0.1173103013\ttotal: 48.4s\tremaining: 11.7s\n",
      "161:\tlearn 0.1172723482\ttotal: 48.7s\tremaining: 11.4s\n",
      "162:\tlearn 0.1172620172\ttotal: 49s\tremaining: 11.1s\n",
      "163:\tlearn 0.1172290314\ttotal: 49.3s\tremaining: 10.8s\n",
      "164:\tlearn 0.1172136495\ttotal: 49.6s\tremaining: 10.5s\n",
      "165:\tlearn 0.1171962746\ttotal: 49.9s\tremaining: 10.2s\n",
      "166:\tlearn 0.1171648867\ttotal: 50.2s\tremaining: 9.92s\n",
      "167:\tlearn 0.1171443601\ttotal: 50.5s\tremaining: 9.62s\n",
      "168:\tlearn 0.1170988365\ttotal: 50.8s\tremaining: 9.32s\n",
      "169:\tlearn 0.1170807719\ttotal: 51.1s\tremaining: 9.02s\n",
      "170:\tlearn 0.1170729186\ttotal: 51.4s\tremaining: 8.72s\n",
      "171:\tlearn 0.1170343819\ttotal: 51.7s\tremaining: 8.41s\n",
      "172:\tlearn 0.1170005886\ttotal: 52s\tremaining: 8.11s\n",
      "173:\tlearn 0.1169776875\ttotal: 52.3s\tremaining: 7.81s\n",
      "174:\tlearn 0.1169441942\ttotal: 52.6s\tremaining: 7.51s\n",
      "175:\tlearn 0.1168707945\ttotal: 52.9s\tremaining: 7.21s\n",
      "176:\tlearn 0.1168422737\ttotal: 53.2s\tremaining: 6.91s\n",
      "177:\tlearn 0.1168179815\ttotal: 53.5s\tremaining: 6.61s\n",
      "178:\tlearn 0.1167789777\ttotal: 53.8s\tremaining: 6.31s\n",
      "179:\tlearn 0.1167492055\ttotal: 54s\tremaining: 6s\n",
      "180:\tlearn 0.1167338627\ttotal: 54.4s\tremaining: 5.71s\n",
      "181:\tlearn 0.1166712565\ttotal: 54.7s\tremaining: 5.41s\n",
      "182:\tlearn 0.1166508525\ttotal: 55s\tremaining: 5.11s\n",
      "183:\tlearn 0.1166115431\ttotal: 55.4s\tremaining: 4.81s\n",
      "184:\tlearn 0.1165648661\ttotal: 55.8s\tremaining: 4.52s\n",
      "185:\tlearn 0.1165575414\ttotal: 56.2s\tremaining: 4.23s\n",
      "186:\tlearn 0.1165479294\ttotal: 56.5s\tremaining: 3.93s\n",
      "187:\tlearn 0.1165296684\ttotal: 56.8s\tremaining: 3.63s\n",
      "188:\tlearn 0.1165060911\ttotal: 57.1s\tremaining: 3.32s\n",
      "189:\tlearn 0.1164933242\ttotal: 57.4s\tremaining: 3.02s\n",
      "190:\tlearn 0.1164596892\ttotal: 57.7s\tremaining: 2.72s\n",
      "191:\tlearn 0.1164345396\ttotal: 58s\tremaining: 2.42s\n",
      "192:\tlearn 0.1164066434\ttotal: 58.3s\tremaining: 2.11s\n",
      "193:\tlearn 0.1163883562\ttotal: 58.6s\tremaining: 1.81s\n",
      "194:\tlearn 0.1163665199\ttotal: 58.9s\tremaining: 1.51s\n",
      "195:\tlearn 0.1163545872\ttotal: 59.3s\tremaining: 1.21s\n",
      "196:\tlearn 0.1163333428\ttotal: 59.6s\tremaining: 907ms\n",
      "197:\tlearn 0.1163018793\ttotal: 59.9s\tremaining: 605ms\n",
      "198:\tlearn 0.1162770207\ttotal: 1m\tremaining: 302ms\n",
      "199:\tlearn 0.116261519\ttotal: 1m\tremaining: 0us\n"
     ]
    },
    {
     "data": {
      "text/plain": [
       "<catboost.core.CatBoostClassifier at 0x7ff9851e4c50>"
      ]
     },
     "execution_count": 27,
     "metadata": {},
     "output_type": "execute_result"
    }
   ],
   "source": [
    "model.fit(\n",
    "        train.drop(['is_churn', 'msno'], axis=1), train[[\"is_churn\"]],\n",
    "        verbose = True)"
   ]
  },
  {
   "cell_type": "code",
   "execution_count": 36,
   "metadata": {},
   "outputs": [],
   "source": [
    "# print(test.head())\n",
    "result = model.predict(test.drop([\"msno\", \"is_churn\"], axis = 1))"
   ]
  },
  {
   "cell_type": "code",
   "execution_count": 37,
   "metadata": {},
   "outputs": [],
   "source": [
    "test[[\"is_churn\"]] = result"
   ]
  },
  {
   "cell_type": "code",
   "execution_count": null,
   "metadata": {},
   "outputs": [],
   "source": []
  },
  {
   "cell_type": "code",
   "execution_count": 43,
   "metadata": {},
   "outputs": [],
   "source": [
    "(test[[\"msno\", \"is_churn\"]]).to_csv(\"submission.csv\", index = False)"
   ]
  },
  {
   "cell_type": "code",
   "execution_count": null,
   "metadata": {
    "collapsed": true
   },
   "outputs": [],
   "source": []
  }
 ],
 "metadata": {
  "kernelspec": {
   "display_name": "Python 3",
   "language": "python",
   "name": "python3"
  },
  "language_info": {
   "codemirror_mode": {
    "name": "ipython",
    "version": 3
   },
   "file_extension": ".py",
   "mimetype": "text/x-python",
   "name": "python",
   "nbconvert_exporter": "python",
   "pygments_lexer": "ipython3",
   "version": "3.6.2"
  }
 },
 "nbformat": 4,
 "nbformat_minor": 2
}
