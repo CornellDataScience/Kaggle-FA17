{
 "cells": [
  {
   "cell_type": "code",
   "execution_count": 1,
   "metadata": {
    "collapsed": true
   },
   "outputs": [],
   "source": [
    "import math\n",
    "import os.path as path\n",
    "import numpy as np\n",
    "import pandas as pd\n",
    "from skimage.util.montage import montage2d\n",
    "import matplotlib.pyplot as plt"
   ]
  },
  {
   "cell_type": "code",
   "execution_count": 2,
   "metadata": {
    "collapsed": true
   },
   "outputs": [],
   "source": [
    "train = pd.read_json(\"../train.json\")"
   ]
  },
  {
   "cell_type": "code",
   "execution_count": 3,
   "metadata": {
    "collapsed": true
   },
   "outputs": [],
   "source": [
    "agg_df = train.groupby('inc_angle').agg({\"is_iceberg\": [len, np.sum]}).sort_values([('is_iceberg', 'len')], ascending=False)"
   ]
  },
  {
   "cell_type": "code",
   "execution_count": 4,
   "metadata": {},
   "outputs": [
    {
     "name": "stdout",
     "output_type": "stream",
     "text": [
      "          is_iceberg    \n",
      "                 len sum\n",
      "inc_angle               \n",
      "na               133   0\n",
      "34.4721           23  23\n",
      "42.5591           16  16\n",
      "36.1061           15  15\n",
      "33.6352           15  15\n",
      "39.234            13  13\n",
      "38.4755           11  11\n",
      "39.2166           11  11\n",
      "39.9784           11  11\n",
      "45.2814           11  11\n",
      "34.4709           10  10\n",
      "42.559            10  10\n",
      "45.2859           10  10\n",
      "40.7118            9   9\n",
      "40.7129            9   9\n",
      "39.2325            9   9\n",
      "34.4718            9   9\n",
      "37.6877            9   9\n",
      "38.4591            9   9\n",
      "35.7863            9   0\n",
      "35.2957            8   8\n",
      "37.6866            8   8\n",
      "38.0736            8   8\n",
      "38.8594            7   7\n",
      "42.5644            7   7\n",
      "40.3904            7   7\n",
      "43.2611            7   7\n",
      "36.9034            7   7\n",
      "42.5598            6   6\n",
      "42.5128            6   0\n",
      "...              ...  ..\n",
      "38.7812            1   0\n",
      "38.8069            1   0\n",
      "38.8085            1   1\n",
      "38.8159            1   1\n",
      "38.8248            1   1\n",
      "38.8275            1   1\n",
      "38.1605            1   0\n",
      "38.1595            1   0\n",
      "38.05              1   1\n",
      "38.1572            1   0\n",
      "38.0583            1   0\n",
      "38.0648            1   1\n",
      "38.0669            1   1\n",
      "38.1024            1   0\n",
      "38.1062            1   1\n",
      "38.1067            1   1\n",
      "38.1079            1   0\n",
      "38.1108            1   0\n",
      "38.1164            1   1\n",
      "38.1229            1   0\n",
      "38.1357            1   0\n",
      "38.137             1   0\n",
      "38.1382            1   0\n",
      "38.1386            1   0\n",
      "38.1445            1   0\n",
      "38.1493            1   0\n",
      "38.1497            1   0\n",
      "38.1535            1   0\n",
      "38.1562            1   0\n",
      "39.6438            1   0\n",
      "\n",
      "[879 rows x 2 columns]\n"
     ]
    }
   ],
   "source": [
    "print(agg_df)"
   ]
  },
  {
   "cell_type": "code",
   "execution_count": 5,
   "metadata": {
    "collapsed": true
   },
   "outputs": [],
   "source": [
    "from subprocess import check_output\n",
    "from mpl_toolkits.axes_grid1 import ImageGrid"
   ]
  },
  {
   "cell_type": "code",
   "execution_count": 6,
   "metadata": {},
   "outputs": [
    {
     "ename": "NameError",
     "evalue": "name 'plot_bands' is not defined",
     "output_type": "error",
     "traceback": [
      "\u001b[0;31m---------------------------------------------------------------------------\u001b[0m",
      "\u001b[0;31mNameError\u001b[0m                                 Traceback (most recent call last)",
      "\u001b[0;32m<ipython-input-6-6a2b7b31e670>\u001b[0m in \u001b[0;36m<module>\u001b[0;34m()\u001b[0m\n\u001b[0;32m----> 1\u001b[0;31m \u001b[0mplot_bands\u001b[0m\u001b[0;34m(\u001b[0m\u001b[0mcombined\u001b[0m\u001b[0;34m,\u001b[0m \u001b[0;36m42.5128\u001b[0m\u001b[0;34m)\u001b[0m\u001b[0;34m\u001b[0m\u001b[0m\n\u001b[0m",
      "\u001b[0;31mNameError\u001b[0m: name 'plot_bands' is not defined"
     ]
    }
   ],
   "source": [
    "plot_bands(combined, 42.5128)"
   ]
  },
  {
   "cell_type": "code",
   "execution_count": 24,
   "metadata": {},
   "outputs": [
    {
     "name": "stdout",
     "output_type": "stream",
     "text": [
      "na         133\n",
      "34.4721     23\n",
      "42.5591     16\n",
      "33.6352     15\n",
      "36.1061     15\n",
      "39.234      13\n",
      "45.2814     11\n",
      "39.2166     11\n",
      "38.4755     11\n",
      "39.9784     11\n",
      "34.4709     10\n",
      "42.559      10\n",
      "45.2859     10\n",
      "35.7863      9\n",
      "39.2325      9\n",
      "37.6877      9\n",
      "40.7129      9\n",
      "34.4718      9\n",
      "38.4591      9\n",
      "40.7118      9\n",
      "37.6866      8\n",
      "35.2957      8\n",
      "38.0736      8\n",
      "36.9034      7\n",
      "40.3904      7\n",
      "42.5644      7\n",
      "38.8594      7\n",
      "43.2611      7\n",
      "33.634       6\n",
      "35.2954      6\n",
      "          ... \n",
      "41.1289      1\n",
      "44.6188      1\n",
      "38.4589      1\n",
      "34.79        1\n",
      "38.8723      1\n",
      "40.6971      1\n",
      "44.5862      1\n",
      "36.4733      1\n",
      "38.1079      1\n",
      "33.9214      1\n",
      "31.3954      1\n",
      "45.2652      1\n",
      "39.6484      1\n",
      "34.9642      1\n",
      "41.8505      1\n",
      "35.7409      1\n",
      "31.5507      1\n",
      "30.4373      1\n",
      "24.7546      1\n",
      "40.3085      1\n",
      "37.1941      1\n",
      "40.3416      1\n",
      "37.3669      1\n",
      "36.5189      1\n",
      "36.6134      1\n",
      "43.951       1\n",
      "36.5572      1\n",
      "36.4444      1\n",
      "36.5593      1\n",
      "35.7411      1\n",
      "Name: inc_angle, Length: 879, dtype: int64\n"
     ]
    }
   ],
   "source": [
    "print(train['inc_angle'].value_counts())"
   ]
  },
  {
   "cell_type": "code",
   "execution_count": 29,
   "metadata": {},
   "outputs": [
    {
     "data": {
      "text/plain": [
       "(1604, 5)"
      ]
     },
     "execution_count": 29,
     "metadata": {},
     "output_type": "execute_result"
    }
   ],
   "source": [
    "train.shape"
   ]
  },
  {
   "cell_type": "code",
   "execution_count": null,
   "metadata": {
    "collapsed": true
   },
   "outputs": [],
   "source": []
  }
 ],
 "metadata": {
  "kernelspec": {
   "display_name": "Python 3",
   "language": "python",
   "name": "python3"
  },
  "language_info": {
   "codemirror_mode": {
    "name": "ipython",
    "version": 3
   },
   "file_extension": ".py",
   "mimetype": "text/x-python",
   "name": "python",
   "nbconvert_exporter": "python",
   "pygments_lexer": "ipython3",
   "version": "3.6.2"
  }
 },
 "nbformat": 4,
 "nbformat_minor": 2
}
