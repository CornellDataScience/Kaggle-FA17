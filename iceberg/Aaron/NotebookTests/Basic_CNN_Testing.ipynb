{
 "cells": [
  {
   "cell_type": "code",
   "execution_count": 2,
   "metadata": {},
   "outputs": [],
   "source": [
    "import math\n",
    "import os.path as path\n",
    "import numpy as np\n",
    "import pandas as pd\n",
    "from skimage.util.montage import montage2d\n",
    "import matplotlib.pyplot as plt\n",
    "from sklearn.model_selection import train_test_split\n",
    "from sklearn.decomposition import PCA\n",
    "from keras.utils.np_utils import to_categorical\n",
    "from keras.models import Sequential, Model\n",
    "from keras.callbacks import EarlyStopping\n",
    "from keras.layers import Conv2D, BatchNormalization, Dropout, MaxPooling2D, Dense, Flatten, ZeroPadding2D, Activation\n",
    "from keras.preprocessing.image import ImageDataGenerator\n",
    "from keras.regularizers import l2\n",
    "from keras.layers import average, Input, Concatenate\n",
    "#from extra_functions import *"
   ]
  },
  {
   "cell_type": "code",
   "execution_count": 3,
   "metadata": {},
   "outputs": [
    {
     "ename": "ValueError",
     "evalue": "Could not reserve memory block",
     "output_type": "error",
     "traceback": [
      "\u001b[0;31m---------------------------------------------------------------------------\u001b[0m",
      "\u001b[0;31mValueError\u001b[0m                                Traceback (most recent call last)",
      "\u001b[0;32m<ipython-input-3-30da0fa77103>\u001b[0m in \u001b[0;36m<module>\u001b[0;34m()\u001b[0m\n\u001b[1;32m     10\u001b[0m \u001b[0;34m\u001b[0m\u001b[0m\n\u001b[1;32m     11\u001b[0m \u001b[0mtrain_df\u001b[0m\u001b[0;34m,\u001b[0m \u001b[0mtrain_images\u001b[0m \u001b[0;34m=\u001b[0m \u001b[0mload_and_format\u001b[0m\u001b[0;34m(\u001b[0m\u001b[0mtrain_path\u001b[0m\u001b[0;34m)\u001b[0m\u001b[0;34m\u001b[0m\u001b[0m\n\u001b[0;32m---> 12\u001b[0;31m \u001b[0mtest_df\u001b[0m\u001b[0;34m,\u001b[0m \u001b[0mtest_images\u001b[0m \u001b[0;34m=\u001b[0m \u001b[0mload_and_format\u001b[0m\u001b[0;34m(\u001b[0m\u001b[0mtest_path\u001b[0m\u001b[0;34m)\u001b[0m\u001b[0;34m\u001b[0m\u001b[0m\n\u001b[0m",
      "\u001b[0;32m<ipython-input-3-30da0fa77103>\u001b[0m in \u001b[0;36mload_and_format\u001b[0;34m(in_path)\u001b[0m\n\u001b[1;32m      1\u001b[0m \u001b[0;32mdef\u001b[0m \u001b[0mload_and_format\u001b[0m\u001b[0;34m(\u001b[0m\u001b[0min_path\u001b[0m\u001b[0;34m)\u001b[0m\u001b[0;34m:\u001b[0m\u001b[0;34m\u001b[0m\u001b[0m\n\u001b[0;32m----> 2\u001b[0;31m     \u001b[0mout_df\u001b[0m \u001b[0;34m=\u001b[0m \u001b[0mpd\u001b[0m\u001b[0;34m.\u001b[0m\u001b[0mread_json\u001b[0m\u001b[0;34m(\u001b[0m\u001b[0min_path\u001b[0m\u001b[0;34m)\u001b[0m\u001b[0;34m\u001b[0m\u001b[0m\n\u001b[0m\u001b[1;32m      3\u001b[0m     \u001b[0mout_images\u001b[0m \u001b[0;34m=\u001b[0m \u001b[0mout_df\u001b[0m\u001b[0;34m.\u001b[0m\u001b[0mapply\u001b[0m\u001b[0;34m(\u001b[0m\u001b[0;32mlambda\u001b[0m \u001b[0mc_row\u001b[0m\u001b[0;34m:\u001b[0m \u001b[0;34m[\u001b[0m\u001b[0mnp\u001b[0m\u001b[0;34m.\u001b[0m\u001b[0mstack\u001b[0m\u001b[0;34m(\u001b[0m\u001b[0;34m[\u001b[0m\u001b[0mc_row\u001b[0m\u001b[0;34m[\u001b[0m\u001b[0;34m'band_1'\u001b[0m\u001b[0;34m]\u001b[0m\u001b[0;34m,\u001b[0m\u001b[0mc_row\u001b[0m\u001b[0;34m[\u001b[0m\u001b[0;34m'band_2'\u001b[0m\u001b[0;34m]\u001b[0m\u001b[0;34m]\u001b[0m\u001b[0;34m,\u001b[0m \u001b[0;34m-\u001b[0m\u001b[0;36m1\u001b[0m\u001b[0;34m)\u001b[0m\u001b[0;34m.\u001b[0m\u001b[0mreshape\u001b[0m\u001b[0;34m(\u001b[0m\u001b[0;34m(\u001b[0m\u001b[0;36m75\u001b[0m\u001b[0;34m,\u001b[0m\u001b[0;36m75\u001b[0m\u001b[0;34m,\u001b[0m\u001b[0;36m2\u001b[0m\u001b[0;34m)\u001b[0m\u001b[0;34m)\u001b[0m\u001b[0;34m]\u001b[0m\u001b[0;34m,\u001b[0m\u001b[0;36m1\u001b[0m\u001b[0;34m)\u001b[0m\u001b[0;34m\u001b[0m\u001b[0m\n\u001b[1;32m      4\u001b[0m     \u001b[0mout_images\u001b[0m \u001b[0;34m=\u001b[0m \u001b[0mnp\u001b[0m\u001b[0;34m.\u001b[0m\u001b[0mstack\u001b[0m\u001b[0;34m(\u001b[0m\u001b[0mout_images\u001b[0m\u001b[0;34m)\u001b[0m\u001b[0;34m.\u001b[0m\u001b[0msqueeze\u001b[0m\u001b[0;34m(\u001b[0m\u001b[0;34m)\u001b[0m\u001b[0;34m\u001b[0m\u001b[0m\n\u001b[1;32m      5\u001b[0m     \u001b[0;32mreturn\u001b[0m \u001b[0mout_df\u001b[0m\u001b[0;34m,\u001b[0m \u001b[0mout_images\u001b[0m\u001b[0;34m\u001b[0m\u001b[0m\n",
      "\u001b[0;32m~/anaconda3/lib/python3.6/site-packages/pandas/io/json/json.py\u001b[0m in \u001b[0;36mread_json\u001b[0;34m(path_or_buf, orient, typ, dtype, convert_axes, convert_dates, keep_default_dates, numpy, precise_float, date_unit, encoding, lines)\u001b[0m\n\u001b[1;32m    352\u001b[0m         obj = FrameParser(json, orient, dtype, convert_axes, convert_dates,\n\u001b[1;32m    353\u001b[0m                           \u001b[0mkeep_default_dates\u001b[0m\u001b[0;34m,\u001b[0m \u001b[0mnumpy\u001b[0m\u001b[0;34m,\u001b[0m \u001b[0mprecise_float\u001b[0m\u001b[0;34m,\u001b[0m\u001b[0;34m\u001b[0m\u001b[0m\n\u001b[0;32m--> 354\u001b[0;31m                           date_unit).parse()\n\u001b[0m\u001b[1;32m    355\u001b[0m \u001b[0;34m\u001b[0m\u001b[0m\n\u001b[1;32m    356\u001b[0m     \u001b[0;32mif\u001b[0m \u001b[0mtyp\u001b[0m \u001b[0;34m==\u001b[0m \u001b[0;34m'series'\u001b[0m \u001b[0;32mor\u001b[0m \u001b[0mobj\u001b[0m \u001b[0;32mis\u001b[0m \u001b[0;32mNone\u001b[0m\u001b[0;34m:\u001b[0m\u001b[0;34m\u001b[0m\u001b[0m\n",
      "\u001b[0;32m~/anaconda3/lib/python3.6/site-packages/pandas/io/json/json.py\u001b[0m in \u001b[0;36mparse\u001b[0;34m(self)\u001b[0m\n\u001b[1;32m    420\u001b[0m \u001b[0;34m\u001b[0m\u001b[0m\n\u001b[1;32m    421\u001b[0m         \u001b[0;32melse\u001b[0m\u001b[0;34m:\u001b[0m\u001b[0;34m\u001b[0m\u001b[0m\n\u001b[0;32m--> 422\u001b[0;31m             \u001b[0mself\u001b[0m\u001b[0;34m.\u001b[0m\u001b[0m_parse_no_numpy\u001b[0m\u001b[0;34m(\u001b[0m\u001b[0;34m)\u001b[0m\u001b[0;34m\u001b[0m\u001b[0m\n\u001b[0m\u001b[1;32m    423\u001b[0m \u001b[0;34m\u001b[0m\u001b[0m\n\u001b[1;32m    424\u001b[0m         \u001b[0;32mif\u001b[0m \u001b[0mself\u001b[0m\u001b[0;34m.\u001b[0m\u001b[0mobj\u001b[0m \u001b[0;32mis\u001b[0m \u001b[0;32mNone\u001b[0m\u001b[0;34m:\u001b[0m\u001b[0;34m\u001b[0m\u001b[0m\n",
      "\u001b[0;32m~/anaconda3/lib/python3.6/site-packages/pandas/io/json/json.py\u001b[0m in \u001b[0;36m_parse_no_numpy\u001b[0;34m(self)\u001b[0m\n\u001b[1;32m    637\u001b[0m         \u001b[0;32mif\u001b[0m \u001b[0morient\u001b[0m \u001b[0;34m==\u001b[0m \u001b[0;34m\"columns\"\u001b[0m\u001b[0;34m:\u001b[0m\u001b[0;34m\u001b[0m\u001b[0m\n\u001b[1;32m    638\u001b[0m             self.obj = DataFrame(\n\u001b[0;32m--> 639\u001b[0;31m                 loads(json, precise_float=self.precise_float), dtype=None)\n\u001b[0m\u001b[1;32m    640\u001b[0m         \u001b[0;32melif\u001b[0m \u001b[0morient\u001b[0m \u001b[0;34m==\u001b[0m \u001b[0;34m\"split\"\u001b[0m\u001b[0;34m:\u001b[0m\u001b[0;34m\u001b[0m\u001b[0m\n\u001b[1;32m    641\u001b[0m             decoded = dict((str(k), v)\n",
      "\u001b[0;31mValueError\u001b[0m: Could not reserve memory block"
     ]
    }
   ],
   "source": [
    "def load_and_format(in_path):\n",
    "    out_df = pd.read_json(in_path)\n",
    "    out_images = out_df.apply(lambda c_row: [np.stack([c_row['band_1'],c_row['band_2']], -1).reshape((75,75,2))],1)\n",
    "    out_images = np.stack(out_images).squeeze()\n",
    "    return out_df, out_images\n",
    "\n",
    "dir_path = path.abspath(path.join('__file__',\"../..\"))\n",
    "train_path = dir_path + \"/train.json\"\n",
    "test_path = dir_path + \"/test.json\"\n",
    "\n",
    "train_df, train_images = load_and_format(train_path)\n",
    "test_df, test_images = load_and_format(test_path)"
   ]
  },
  {
   "cell_type": "code",
   "execution_count": 4,
   "metadata": {},
   "outputs": [
    {
     "data": {
      "text/plain": [
       "(1604, 5)"
      ]
     },
     "execution_count": 4,
     "metadata": {},
     "output_type": "execute_result"
    }
   ],
   "source": [
    "train_df.shape"
   ]
  },
  {
   "cell_type": "code",
   "execution_count": 5,
   "metadata": {},
   "outputs": [
    {
     "name": "stdout",
     "output_type": "stream",
     "text": [
      "0       [-27.878360999999998, -27.15416, -28.668615, -...\n",
      "1       [-12.242375, -14.920304999999999, -14.920363, ...\n",
      "2       [-24.603676, -24.603714, -24.871029, -23.15277...\n",
      "3       [-22.454607, -23.082819, -23.998013, -23.99805...\n",
      "4       [-26.006956, -23.164886, -23.164886, -26.89116...\n",
      "5       [-20.769371, -20.769434, -25.906025, -25.90602...\n",
      "6       [-26.673811, -23.666162, -27.622442, -28.31768...\n",
      "7       [-24.989119, -27.755224, -25.817074, -24.98927...\n",
      "8       [-17.146641, -17.146572, -17.994583, -19.44553...\n",
      "9       [-24.020853, -23.551275, -27.18819, -29.126434...\n",
      "10      [-21.397552, -19.753859, -23.426783, -24.65221...\n",
      "11      [-22.020813, -22.020864, -20.345379, -18.07829...\n",
      "12      [-21.112206, -21.638832, -25.436468, -23.22255...\n",
      "13      [-23.864258, -27.755791, -26.047226, -24.62014...\n",
      "14      [-20.558899, -21.328135, -19.585205, -19.71788...\n",
      "15      [-28.282215, -27.896156, -25.882795, -25.88279...\n",
      "16      [-21.345695, -21.345734, -21.166676, -20.65056...\n",
      "17      [-19.261189, -19.812914, -23.263891, -25.41662...\n",
      "18      [-25.950783, -26.571512, -22.943153, -21.94372...\n",
      "19      [-21.557806, -22.084446, -19.187838, -16.91901...\n",
      "20      [-27.674824, -26.335936, -26.979677, -31.19679...\n",
      "21      [-26.345797, -26.05139, -26.650714999999998, -...\n",
      "22      [-15.745731, -14.04358, -14.653421, -16.111671...\n",
      "23      [-14.6148, -14.6148, -16.136662, -15.342532, -...\n",
      "24      [-16.015327, -16.015327, -14.87892, -16.899502...\n",
      "25      [-19.261448, -19.671938, -20.712574, -20.10284...\n",
      "26      [-10.99748, -11.994458, -11.209444, -11.209444...\n",
      "27      [-31.042643, -31.60326, -32.202568, -30.51619,...\n",
      "28      [-27.995171, -23.865738, -22.165567, -22.76487...\n",
      "29      [-26.390104, -28.888929, -28.888929, -27.72913...\n",
      "                              ...                        \n",
      "1574    [-21.309566, -20.840015, -22.515629, -21.15040...\n",
      "1575    [-20.215452, -19.626303, -18.941971, -19.07453...\n",
      "1576    [-23.334843, -25.328943, -26.213058, -25.90830...\n",
      "1577    [-25.666952, -25.942781, -24.64403, -24.174473...\n",
      "1578    [-19.281799, -17.870247, -18.202303, -18.78553...\n",
      "1579    [-18.215658, -17.459957, -17.564053, -19.68742...\n",
      "1580    [-17.248318, -16.214254, -15.532733, -15.95249...\n",
      "1581    [-24.588913, -24.588951, -24.85627, -23.363632...\n",
      "1582    [-24.811455, -25.078775, -24.055771, -20.69634...\n",
      "1583    [-19.654991, -24.04619, -21.321854, -18.991802...\n",
      "1584    [-19.815434, -20.994926, -19.954279, -17.52577...\n",
      "1585    [-18.443468, -17.668488, -21.296959, -21.79350...\n",
      "1586    [-21.710968, -21.162241, -24.336622, -22.92503...\n",
      "1587    [-20.982038, -17.765095, -17.460377, -17.36119...\n",
      "1588    [-13.383982, -12.767777, -14.186477, -17.88528...\n",
      "1589    [-22.688837, -21.349943, -22.898233, -22.89827...\n",
      "1590    [-22.613323, -20.475389, -19.295786, -19.15894...\n",
      "1591    [-16.95768, -21.794147, -24.581587, -24.819641...\n",
      "1592    [-5.64585, -7.455446, -8.050229, -8.050307, -8...\n",
      "1593    [-28.554342, -26.37149, -25.17157, -25.171608,...\n",
      "1594    [-25.950792, -26.255636, -23.834808, -25.09588...\n",
      "1595    [-25.31617, -25.895485, -24.773212, -23.779497...\n",
      "1596    [-14.463013, -15.378237, -14.535848, -14.83290...\n",
      "1597    [-19.997332, -18.115284, -15.673027, -14.26133...\n",
      "1598    [-14.200315, -15.292111, -15.60808, -18.324097...\n",
      "1599    [-30.999878, -29.976866, -28.233906, -29.50732...\n",
      "1600    [-25.31155, -26.511555, -28.694487, -27.180115...\n",
      "1601    [-18.141895, -18.141844, -19.01737, -19.701599...\n",
      "1602    [-22.455633, -25.794661, -26.954567, -22.83354...\n",
      "1603    [-19.909191, -20.678406, -20.208834, -18.42441...\n",
      "Name: band_1, Length: 1604, dtype: object\n"
     ]
    }
   ],
   "source": [
    "print(train_df[\"band_1\"])"
   ]
  },
  {
   "cell_type": "code",
   "execution_count": 6,
   "metadata": {},
   "outputs": [
    {
     "data": {
      "text/plain": [
       "(1604, 75, 75, 2)"
      ]
     },
     "execution_count": 6,
     "metadata": {},
     "output_type": "execute_result"
    }
   ],
   "source": [
    "train_images.shape"
   ]
  },
  {
   "cell_type": "code",
   "execution_count": 9,
   "metadata": {},
   "outputs": [
    {
     "data": {
      "text/plain": [
       "(1604, 75, 75)"
      ]
     },
     "execution_count": 9,
     "metadata": {},
     "output_type": "execute_result"
    }
   ],
   "source": [
    "train_images[:, :, :, 0].shape"
   ]
  },
  {
   "cell_type": "code",
   "execution_count": 10,
   "metadata": {
    "collapsed": true
   },
   "outputs": [],
   "source": [
    "import sys\n",
    "sys.path.insert(0, '../Aaron/Filters')\n",
    "\n",
    "import lee"
   ]
  },
  {
   "cell_type": "code",
   "execution_count": 11,
   "metadata": {
    "collapsed": true
   },
   "outputs": [],
   "source": [
    "band1 = lee.lee_filter_df(train_images[:, :, :, 0])"
   ]
  },
  {
   "cell_type": "code",
   "execution_count": 13,
   "metadata": {},
   "outputs": [
    {
     "data": {
      "text/plain": [
       "array([[-27.878361, -27.15416 , -28.668615, ..., -25.573483, -26.488674,\n",
       "        -30.507013],\n",
       "       [-28.66853 , -27.878401, -27.508776, ..., -26.488632, -28.671562,\n",
       "        -31.594166],\n",
       "       [-28.66853 , -27.15416 , -25.865042, ..., -27.157106, -27.881393,\n",
       "        -32.837124],\n",
       "       ..., \n",
       "       [-29.092905, -28.669163, -30.504612, ..., -30.011005, -25.868538,\n",
       "        -26.489265],\n",
       "       [-31.591682, -27.878992, -28.669205, ..., -27.512272, -26.817074,\n",
       "        -27.512358],\n",
       "       [-29.092905, -26.814081, -27.154791, ..., -26.817032, -27.881983,\n",
       "        -28.268127]])"
      ]
     },
     "execution_count": 13,
     "metadata": {},
     "output_type": "execute_result"
    }
   ],
   "source": [
    "train_images[0, :, :, 0]"
   ]
  },
  {
   "cell_type": "code",
   "execution_count": 14,
   "metadata": {},
   "outputs": [
    {
     "data": {
      "text/plain": [
       "array([[-27.878361  , -27.5162605 , -27.9113875 , ..., -26.0310365 ,\n",
       "        -26.0310785 , -28.4978435 ],\n",
       "       [-28.2734455 , -27.894863  , -27.802488  , ..., -26.25982375,\n",
       "        -26.80558775, -29.31535375],\n",
       "       [-28.66853   , -28.09240525, -27.10159475, ..., -26.42694225,\n",
       "        -27.54967325, -30.24606125],\n",
       "       ..., \n",
       "       [-27.479226  , -27.784235  , -29.296928  , ..., -27.56370875,\n",
       "        -27.46355725, -26.67178725],\n",
       "       [-30.3422935 , -29.3081855 , -28.930493  , ..., -28.64421175,\n",
       "        -27.55222225, -26.67180875],\n",
       "       [-30.3422935 , -28.844415  , -27.62926725, ..., -28.2416355 ,\n",
       "        -27.25709025, -27.6198855 ]])"
      ]
     },
     "execution_count": 14,
     "metadata": {},
     "output_type": "execute_result"
    }
   ],
   "source": [
    "band1[0]"
   ]
  },
  {
   "cell_type": "code",
   "execution_count": null,
   "metadata": {
    "collapsed": true
   },
   "outputs": [],
   "source": []
  }
 ],
 "metadata": {
  "kernelspec": {
   "display_name": "Python 3",
   "language": "python",
   "name": "python3"
  },
  "language_info": {
   "codemirror_mode": {
    "name": "ipython",
    "version": 3
   },
   "file_extension": ".py",
   "mimetype": "text/x-python",
   "name": "python",
   "nbconvert_exporter": "python",
   "pygments_lexer": "ipython3",
   "version": "3.6.2"
  }
 },
 "nbformat": 4,
 "nbformat_minor": 2
}
