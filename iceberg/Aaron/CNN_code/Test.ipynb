{
 "cells": [
  {
   "cell_type": "code",
   "execution_count": 15,
   "metadata": {},
   "outputs": [],
   "source": [
    "#Mean is slightly better ~91% w/o gaussian angles\n",
    "#Mean is slightly worse ~87% w/ gaussian angles\n",
    "import math\n",
    "import os.path as path\n",
    "import numpy as np\n",
    "import pandas as pd\n",
    "from skimage.util.montage import montage2d\n",
    "import matplotlib.pyplot as plt\n",
    "from sklearn.model_selection import train_test_split\n",
    "from sklearn.decomposition import PCA\n",
    "from keras.utils.np_utils import to_categorical\n",
    "from keras.models import Sequential, Model\n",
    "from keras.callbacks import EarlyStopping\n",
    "from keras.layers import Conv2D, BatchNormalization, Dropout, MaxPooling2D, Dense, Flatten, ZeroPadding2D, Activation\n",
    "from keras.preprocessing.image import ImageDataGenerator\n",
    "from keras.regularizers import l2\n",
    "from keras.layers import average, Input, Concatenate\n",
    "\n",
    "#Import lee filter\n",
    "import sys\n",
    "sys.path.insert(0, '../Filters')\n",
    "sys.path.insert(0, '../../Kevin')\n",
    "\n",
    "from extra_functions import *\n",
    "import mean\n",
    "\n",
    "#Import date time\n",
    "import datetime\n",
    "\n",
    "def load_and_format(in_path):\n",
    "    out_df = pd.read_json(in_path)\n",
    "    out_images = out_df.apply(lambda c_row: [np.stack([c_row['band_1'],c_row['band_2']], -1).reshape((75,75,2))],1)\n",
    "    out_images = np.stack(out_images).squeeze()\n",
    "    return out_df, out_images\n",
    "\n",
    "dir_path = path.abspath(path.join('__file__',\"../..\"))\n",
    "train_path = \"../../train.json\"\n",
    "test_path =  \"../../test.json\"\n",
    "\n",
    "train_df, train_images = load_and_format(train_path)\n",
    "test_df, test_images = load_and_format(test_path)\n",
    "#train_df.inc_angle = train_df.inc_angle.replace('na', 0)\n",
    "#train_df.inc_angle = train_df.inc_angle.astype(float).fillna(0.0)\n",
    "train_df.inc_angle = train_df.inc_angle.replace('na', np.random.normal(37.5, 7.5, 1)[0])\n",
    "train_df.inc_angle = train_df.inc_angle.astype(float).fillna(np.random.normal(37.5, 7.5, 1)[0])\n",
    "x_angle_train = np.array(train_df.inc_angle)\n",
    "x_angle_test = np.array(test_df.inc_angle)   \n",
    "y_train = to_categorical(train_df[\"is_iceberg\"])"
   ]
  },
  {
   "cell_type": "code",
   "execution_count": 16,
   "metadata": {},
   "outputs": [
    {
     "data": {
      "text/plain": [
       "array([[-12.242375, -14.920305, -14.920363, ..., -10.633402, -11.956054,\n",
       "        -14.379026],\n",
       "       [-13.046626, -14.077841, -12.728542, ..., -11.243189, -11.786291,\n",
       "        -14.379026],\n",
       "       [-15.248114, -14.0779  , -12.604514, ..., -15.680162, -13.51685 ,\n",
       "        -14.454887],\n",
       "       ..., \n",
       "       [-15.589596, -16.899685, -17.527912, ..., -11.78711 , -10.883234,\n",
       "        -12.306804],\n",
       "       [-14.761801, -15.503286, -15.333027, ...,  -9.793052,  -8.062263,\n",
       "         -9.882715],\n",
       "       [-13.178177, -15.503286, -14.375814, ..., -11.087559,  -8.246684,\n",
       "         -8.666801]])"
      ]
     },
     "execution_count": 16,
     "metadata": {},
     "output_type": "execute_result"
    }
   ],
   "source": [
    "train_images[1,:,:,0]"
   ]
  },
  {
   "cell_type": "code",
   "execution_count": 17,
   "metadata": {},
   "outputs": [
    {
     "name": "stderr",
     "output_type": "stream",
     "text": [
      "100%|██████████| 1604/1604 [00:53<00:00, 29.20it/s]\n"
     ]
    }
   ],
   "source": [
    "train_images[:,:,:,0] = mean.mean_filter_df(train_images[:, :, :, 0])"
   ]
  }
 ],
 "metadata": {
  "kernelspec": {
   "display_name": "Python 3",
   "language": "python",
   "name": "python3"
  },
  "language_info": {
   "codemirror_mode": {
    "name": "ipython",
    "version": 3
   },
   "file_extension": ".py",
   "mimetype": "text/x-python",
   "name": "python",
   "nbconvert_exporter": "python",
   "pygments_lexer": "ipython3",
   "version": "3.6.2"
  }
 },
 "nbformat": 4,
 "nbformat_minor": 2
}
