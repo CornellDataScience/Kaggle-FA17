{
 "cells": [
  {
   "cell_type": "code",
   "execution_count": null,
   "metadata": {
    "collapsed": true
   },
   "outputs": [],
   "source": [
    "import numpy as np # linear algebra\n",
    "import pandas as pd # data processing, CSV file I/O (e.g. pd.read_csv)\n",
    "import keras\n",
    "from sklearn import preprocessing\n",
    "from sklearn import model_selection\n",
    "from keras.models import Sequential, Model\n",
    "from keras.layers import Input, Conv2D, MaxPooling2D, Dense, Dropout, ZeroPadding2D, Flatten\n",
    "from keras.optimizers import Adam\n",
    "# Input data files are available in the \"../input/\" directory.\n",
    "# For example, running this (by clicking run or pressing Shift+Enter) will list the files in the input directory\n",
    "\n",
    "from subprocess import check_output\n",
    "print(check_output([\"ls\", \"../input\"]).decode(\"utf8\"))\n",
    "\n",
    "# Any results you write to the current directory are saved as output."
   ]
  },
  {
   "cell_type": "code",
   "execution_count": null,
   "metadata": {
    "collapsed": true
   },
   "outputs": [],
   "source": [
    "df_train = pd.read_json(\"../input/train.json\")\n",
    "df_test = pd.read_json(\"../input/test.json\")\n",
    "df_train.inc_angle = df_train.inc_angle.replace('na', 0)\n",
    "df_train.inc_angle = df_train.inc_angle.astype(float).fillna(0.0)"
   ]
  },
  {
   "cell_type": "code",
   "execution_count": null,
   "metadata": {
    "collapsed": true
   },
   "outputs": [],
   "source": [
    "# Train data\n",
    "x_band1 = np.array([np.array(band).astype(np.float32).reshape(75, 75) for band in df_train[\"band_1\"]])\n",
    "x_band2 = np.array([np.array(band).astype(np.float32).reshape(75, 75) for band in df_train[\"band_2\"]])\n",
    "x_train = np.concatenate([x_band1[:, :, :, np.newaxis], x_band2[:, :, :, np.newaxis]], axis=-1)\n",
    "y_train = np.array(df_train[\"is_iceberg\"])\n",
    "print(\"xtrain:\", x_train.shape)\n",
    "\n",
    "# Test data\n",
    "x_band1 = np.array([np.array(band).astype(np.float32).reshape(75, 75) for band in df_test[\"band_1\"]])\n",
    "x_band2 = np.array([np.array(band).astype(np.float32).reshape(75, 75) for band in df_test[\"band_2\"]])\n",
    "x_test = np.concatenate([x_band1[:, :, :, np.newaxis], x_band2[:, :, :, np.newaxis]], axis=-1)\n",
    "print(\"xtest:\", x_test.shape)"
   ]
  },
  {
   "cell_type": "code",
   "execution_count": null,
   "metadata": {
    "collapsed": true
   },
   "outputs": [],
   "source": [
    "X_train, X_valid, Y_train, Y_valid = model_selection.train_test_split(x_train, y_train, test_size=0.3, random_state=1)"
   ]
  },
  {
   "cell_type": "code",
   "execution_count": null,
   "metadata": {
    "collapsed": true
   },
   "outputs": [],
   "source": [
    "inp = Input(shape=(75, 75, 2))\n",
    "\n",
    "conv1 = Conv2D(32, (3,3), padding='same', activation='relu', kernel_initializer='glorot_normal')(inp)\n",
    "conv2 = Conv2D(32, (3,3), padding='same', activation='relu', kernel_initializer='glorot_normal')(conv1)\n",
    "pool1 = MaxPooling2D((2,2), strides=(2,2))(conv2)\n",
    "\n",
    "conv3 = Conv2D(32, (3,3), padding='same', activation='relu', kernel_initializer='glorot_normal')(pool1)\n",
    "conv4 = Conv2D(32, (3,3), padding='same', activation='relu', kernel_initializer='glorot_normal')(conv3)\n",
    "pool2 = MaxPooling2D((2,2), strides=(2,2))(conv4)\n",
    "\n",
    "conv5 = Conv2D(32, (3,3), padding='same', activation='relu', kernel_initializer='glorot_normal')(pool2)\n",
    "conv6 = Conv2D(32, (3,3), padding='same', activation='relu', kernel_initializer='glorot_normal')(conv5)\n",
    "pool3 = MaxPooling2D((2,2), strides=(2,2))(conv6)\n",
    "\n",
    "conv7 = Conv2D(64, (3,3), padding='same', activation='relu', kernel_initializer='glorot_normal')(pool3)\n",
    "conv8 = Conv2D(64, (3,3), padding='same', activation='relu', kernel_initializer='glorot_normal')(conv7)\n",
    "pool4 = MaxPooling2D((2,2), strides=(2,2))(conv8)\n",
    "\n",
    "conv9 = Conv2D(64, (3,3), padding='same', activation='relu', kernel_initializer='glorot_normal')(pool4)\n",
    "conv10 = Conv2D(64, (3,3), padding='same', activation='relu', kernel_initializer='glorot_normal')(conv9)\n",
    "pool5 = MaxPooling2D((2,2), strides=(2,2))(conv10)\n",
    "\n",
    "conv11 = Conv2D(128, (3,3), padding='same', activation='relu', kernel_initializer='glorot_normal')(pool5)\n",
    "conv12 = Conv2D(128, (3,3), padding='same', activation='relu', kernel_initializer='glorot_normal')(conv11)\n",
    "conv13 = Conv2D(128, (3,3), padding='same', activation='relu', kernel_initializer='glorot_normal')(conv12)\n",
    "pool6 = MaxPooling2D((2,2), strides=(2,2))(conv13)\n",
    "\n",
    "flat = Flatten()(pool6)\n",
    "\n",
    "dense1 = Dense(1024, activation='relu', kernel_initializer='glorot_normal')(flat)\n",
    "drop1 = Dropout(0.5)(dense1)\n",
    "out = Dense(1, activation='sigmoid')(drop1)"
   ]
  },
  {
   "cell_type": "code",
   "execution_count": null,
   "metadata": {
    "collapsed": true
   },
   "outputs": [],
   "source": [
    "model = Model(inputs=inp, outputs=out)\n",
    "optimizer = Adam(lr=1e-4, beta_1=0.9, beta_2=0.999, epsilon=1e-08, decay=0.0)\n",
    "model.compile(loss='binary_crossentropy', optimizer=optimizer, metrics=['accuracy']) \n",
    "callbacks_list = [keras.callbacks.EarlyStopping(monitor='val_acc', patience=3, verbose=1)]\n",
    "model.summary()"
   ]
  },
  {
   "cell_type": "code",
   "execution_count": null,
   "metadata": {
    "collapsed": true
   },
   "outputs": [],
   "source": [
    "model.fit(X_train, Y_train, batch_size=32, epochs=40, validation_data=(X_valid, Y_valid), verbose=1)"
   ]
  },
  {
   "cell_type": "code",
   "execution_count": null,
   "metadata": {
    "collapsed": true
   },
   "outputs": [],
   "source": [
    "preds = model.predict(x_test, verbose=1)"
   ]
  },
  {
   "cell_type": "code",
   "execution_count": null,
   "metadata": {
    "collapsed": true
   },
   "outputs": [],
   "source": [
    "submission = pd.DataFrame({'id': df_test[\"id\"], 'is_iceberg': preds.reshape((preds.shape[0]))})\n",
    "submission.head(200)"
   ]
  },
  {
   "cell_type": "code",
   "execution_count": null,
   "metadata": {
    "collapsed": true
   },
   "outputs": [],
   "source": [
    "submission.to_csv(\"./submission.csv\", index=False)"
   ]
  }
 ],
 "metadata": {
  "kernelspec": {
   "display_name": "Python 3",
   "language": "python",
   "name": "python3"
  },
  "language_info": {
   "codemirror_mode": {
    "name": "ipython",
    "version": 3
   },
   "file_extension": ".py",
   "mimetype": "text/x-python",
   "name": "python",
   "nbconvert_exporter": "python",
   "pygments_lexer": "ipython3",
   "version": "3.6.1"
  }
 },
 "nbformat": 4,
 "nbformat_minor": 2
}
