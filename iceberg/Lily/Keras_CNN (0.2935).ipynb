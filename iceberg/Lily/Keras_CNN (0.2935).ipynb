{
 "cells": [
  {
   "cell_type": "code",
   "execution_count": 2,
   "metadata": {},
   "outputs": [],
   "source": [
    "# This Python 3 environment comes with many helpful analytics libraries installed\n",
    "# It is defined by the kaggle/python docker image: https://github.com/kaggle/docker-python\n",
    "# For example, here's several helpful packages to load in \n",
    "\n",
    "import numpy as np # linear algebra\n",
    "import pandas as pd # data processing, CSV file I/O (e.g. pd.read_csv)"
   ]
  },
  {
   "cell_type": "code",
   "execution_count": 3,
   "metadata": {
    "collapsed": true
   },
   "outputs": [],
   "source": [
    "import numpy as np\n",
    "import pandas as pd\n",
    "from sklearn.model_selection import train_test_split\n",
    "from os.path import join as opj\n",
    "from matplotlib import pyplot as plt\n",
    "from mpl_toolkits.mplot3d import Axes3D\n",
    "import pylab\n",
    "plt.rcParams['figure.figsize'] = 10, 10\n",
    "%matplotlib inline"
   ]
  },
  {
   "cell_type": "code",
   "execution_count": 5,
   "metadata": {},
   "outputs": [],
   "source": [
    "#Load the data.\n",
    "train = pd.read_json(\"../train.json\")\n",
    "test = pd.read_json(\"../test.json\")"
   ]
  },
  {
   "cell_type": "code",
   "execution_count": 6,
   "metadata": {
    "collapsed": true
   },
   "outputs": [],
   "source": [
    "#Generate the training data\n",
    "#Create 3 bands having HH, HV and avg of both\n",
    "X_band_1=np.array([np.array(band).astype(np.float32).reshape(75, 75) for band in train[\"band_1\"]])\n",
    "X_band_2=np.array([np.array(band).astype(np.float32).reshape(75, 75) for band in train[\"band_2\"]])\n",
    "X_train = np.concatenate([X_band_1[:, :, :, np.newaxis], X_band_2[:, :, :, np.newaxis],((X_band_1+X_band_2)/2)[:, :, :, np.newaxis]], axis=-1)"
   ]
  },
  {
   "cell_type": "code",
   "execution_count": 7,
   "metadata": {},
   "outputs": [
    {
     "name": "stderr",
     "output_type": "stream",
     "text": [
      "Using TensorFlow backend.\n"
     ]
    }
   ],
   "source": [
    "#Import Keras.\n",
    "from matplotlib import pyplot\n",
    "from keras.preprocessing.image import ImageDataGenerator\n",
    "from keras.models import Sequential\n",
    "from keras.layers import Conv2D, MaxPooling2D, Dense, Dropout, Input, Flatten, Activation\n",
    "from keras.layers import GlobalMaxPooling2D\n",
    "from keras.layers.normalization import BatchNormalization\n",
    "from keras.layers.merge import Concatenate\n",
    "from keras.models import Model\n",
    "from keras import initializers\n",
    "from keras.optimizers import Adam\n",
    "from keras.callbacks import ModelCheckpoint, Callback, EarlyStopping"
   ]
  },
  {
   "cell_type": "code",
   "execution_count": 12,
   "metadata": {
    "collapsed": true
   },
   "outputs": [],
   "source": [
    "#define our model\n",
    "def getModel():\n",
    "    #Building the model\n",
    "    gmodel=Sequential()\n",
    "    #Conv Layer 1\n",
    "    gmodel.add(Conv2D(32, kernel_size=(3, 3),activation='relu', input_shape=(75, 75, 3)))\n",
    "    gmodel.add(MaxPooling2D(pool_size=(3, 3), strides=(2, 2)))\n",
    "    gmodel.add(Dropout(0.2))\n",
    "\n",
    "    #Conv Layer 2\n",
    "    gmodel.add(Conv2D(64, kernel_size=(3, 3), activation='relu' ))\n",
    "    gmodel.add(MaxPooling2D(pool_size=(2, 2), strides=(2, 2)))\n",
    "    gmodel.add(Dropout(0.2))\n",
    "\n",
    "    #Conv Layer 3\n",
    "    gmodel.add(Conv2D(128, kernel_size=(3, 3), activation='relu'))\n",
    "    gmodel.add(MaxPooling2D(pool_size=(2, 2), strides=(2, 2)))\n",
    "    gmodel.add(Dropout(0.2))\n",
    "\n",
    "    #Conv Layer 4\n",
    "    gmodel.add(Conv2D(128, kernel_size=(3, 3), activation='relu'))\n",
    "    gmodel.add(MaxPooling2D(pool_size=(2, 2), strides=(2, 2)))\n",
    "    gmodel.add(Dropout(0.2))\n",
    "\n",
    "    #Flatten the data for upcoming dense layers\n",
    "    gmodel.add(Flatten())\n",
    "\n",
    "    #Dense Layers\n",
    "    gmodel.add(Dense(256))\n",
    "    gmodel.add(Activation('relu'))\n",
    "    gmodel.add(Dropout(0.2))\n",
    "\n",
    "    #Dense Layer 2\n",
    "    gmodel.add(Dense(128))\n",
    "    gmodel.add(Activation('relu'))\n",
    "    gmodel.add(Dropout(0.2))\n",
    "\n",
    "    #Sigmoid Layer\n",
    "    gmodel.add(Dense(1))\n",
    "    gmodel.add(Activation('sigmoid'))\n",
    "\n",
    "    mypotim=Adam(lr=0.001, beta_1=0.9, beta_2=0.999, epsilon=1e-08, decay=0.0)\n",
    "    gmodel.compile(loss='binary_crossentropy',\n",
    "                  optimizer=mypotim,\n",
    "                  metrics=['accuracy'])\n",
    "    gmodel.summary()\n",
    "    return gmodel\n",
    "\n",
    "\n",
    "def get_callbacks(filepath, patience=2):\n",
    "    es = EarlyStopping('val_loss', patience=patience, mode=\"min\")\n",
    "    msave = ModelCheckpoint(filepath, save_best_only=True)\n",
    "    return [es, msave]\n",
    "file_path = \".model_weights.hdf5\"\n",
    "callbacks = get_callbacks(filepath=file_path, patience=5)"
   ]
  },
  {
   "cell_type": "code",
   "execution_count": 13,
   "metadata": {},
   "outputs": [
    {
     "name": "stderr",
     "output_type": "stream",
     "text": [
      "/home/joseph/anaconda3/lib/python3.6/site-packages/sklearn/model_selection/_split.py:2010: FutureWarning: From version 0.21, test_size will always complement train_size unless both are specified.\n",
      "  FutureWarning)\n"
     ]
    }
   ],
   "source": [
    "target_train=train['is_iceberg']\n",
    "X_train_cv, X_valid, y_train_cv, y_valid = train_test_split(X_train, target_train, random_state=1, train_size=0.75)"
   ]
  },
  {
   "cell_type": "code",
   "execution_count": 15,
   "metadata": {},
   "outputs": [
    {
     "name": "stdout",
     "output_type": "stream",
     "text": [
      "_________________________________________________________________\n",
      "Layer (type)                 Output Shape              Param #   \n",
      "=================================================================\n",
      "conv2d_13 (Conv2D)           (None, 73, 73, 32)        896       \n",
      "_________________________________________________________________\n",
      "max_pooling2d_13 (MaxPooling (None, 36, 36, 32)        0         \n",
      "_________________________________________________________________\n",
      "dropout_19 (Dropout)         (None, 36, 36, 32)        0         \n",
      "_________________________________________________________________\n",
      "conv2d_14 (Conv2D)           (None, 34, 34, 64)        18496     \n",
      "_________________________________________________________________\n",
      "max_pooling2d_14 (MaxPooling (None, 17, 17, 64)        0         \n",
      "_________________________________________________________________\n",
      "dropout_20 (Dropout)         (None, 17, 17, 64)        0         \n",
      "_________________________________________________________________\n",
      "conv2d_15 (Conv2D)           (None, 15, 15, 128)       73856     \n",
      "_________________________________________________________________\n",
      "max_pooling2d_15 (MaxPooling (None, 7, 7, 128)         0         \n",
      "_________________________________________________________________\n",
      "dropout_21 (Dropout)         (None, 7, 7, 128)         0         \n",
      "_________________________________________________________________\n",
      "conv2d_16 (Conv2D)           (None, 5, 5, 128)         147584    \n",
      "_________________________________________________________________\n",
      "max_pooling2d_16 (MaxPooling (None, 2, 2, 128)         0         \n",
      "_________________________________________________________________\n",
      "dropout_22 (Dropout)         (None, 2, 2, 128)         0         \n",
      "_________________________________________________________________\n",
      "flatten_4 (Flatten)          (None, 512)               0         \n",
      "_________________________________________________________________\n",
      "dense_10 (Dense)             (None, 256)               131328    \n",
      "_________________________________________________________________\n",
      "activation_10 (Activation)   (None, 256)               0         \n",
      "_________________________________________________________________\n",
      "dropout_23 (Dropout)         (None, 256)               0         \n",
      "_________________________________________________________________\n",
      "dense_11 (Dense)             (None, 128)               32896     \n",
      "_________________________________________________________________\n",
      "activation_11 (Activation)   (None, 128)               0         \n",
      "_________________________________________________________________\n",
      "dropout_24 (Dropout)         (None, 128)               0         \n",
      "_________________________________________________________________\n",
      "dense_12 (Dense)             (None, 1)                 129       \n",
      "_________________________________________________________________\n",
      "activation_12 (Activation)   (None, 1)                 0         \n",
      "=================================================================\n",
      "Total params: 405,185\n",
      "Trainable params: 405,185\n",
      "Non-trainable params: 0\n",
      "_________________________________________________________________\n",
      "Train on 1203 samples, validate on 401 samples\n",
      "Epoch 1/50\n",
      "1203/1203 [==============================] - 1s - loss: 1.0378 - acc: 0.5187 - val_loss: 0.6741 - val_acc: 0.5312\n",
      "Epoch 2/50\n",
      "1203/1203 [==============================] - 0s - loss: 0.6143 - acc: 0.6035 - val_loss: 0.5936 - val_acc: 0.6783\n",
      "Epoch 3/50\n",
      "1203/1203 [==============================] - 0s - loss: 0.5587 - acc: 0.6517 - val_loss: 0.5535 - val_acc: 0.7157\n",
      "Epoch 4/50\n",
      "1203/1203 [==============================] - 0s - loss: 0.5212 - acc: 0.6991 - val_loss: 0.5594 - val_acc: 0.7556\n",
      "Epoch 5/50\n",
      "1203/1203 [==============================] - 0s - loss: 0.5091 - acc: 0.7332 - val_loss: 0.6418 - val_acc: 0.6908\n",
      "Epoch 6/50\n",
      "1203/1203 [==============================] - 0s - loss: 0.4642 - acc: 0.7706 - val_loss: 0.4127 - val_acc: 0.8105\n",
      "Epoch 7/50\n",
      "1203/1203 [==============================] - 0s - loss: 0.4119 - acc: 0.7930 - val_loss: 0.4551 - val_acc: 0.8080\n",
      "Epoch 8/50\n",
      "1203/1203 [==============================] - 0s - loss: 0.4149 - acc: 0.7972 - val_loss: 0.4814 - val_acc: 0.8180\n",
      "Epoch 9/50\n",
      "1203/1203 [==============================] - 0s - loss: 0.4098 - acc: 0.8221 - val_loss: 0.3369 - val_acc: 0.8529\n",
      "Epoch 10/50\n",
      "1203/1203 [==============================] - 0s - loss: 0.3916 - acc: 0.8188 - val_loss: 0.3954 - val_acc: 0.8204\n",
      "Epoch 11/50\n",
      "1203/1203 [==============================] - 0s - loss: 0.3708 - acc: 0.8313 - val_loss: 0.3915 - val_acc: 0.8229\n",
      "Epoch 12/50\n",
      "1203/1203 [==============================] - 0s - loss: 0.3599 - acc: 0.8329 - val_loss: 0.3306 - val_acc: 0.8828\n",
      "Epoch 13/50\n",
      "1203/1203 [==============================] - 0s - loss: 0.3564 - acc: 0.8412 - val_loss: 0.3227 - val_acc: 0.8529\n",
      "Epoch 14/50\n",
      "1203/1203 [==============================] - 0s - loss: 0.3531 - acc: 0.8429 - val_loss: 0.3492 - val_acc: 0.8354\n",
      "Epoch 15/50\n",
      "1203/1203 [==============================] - 0s - loss: 0.3484 - acc: 0.8354 - val_loss: 0.3270 - val_acc: 0.8853\n",
      "Epoch 16/50\n",
      "1203/1203 [==============================] - 0s - loss: 0.3107 - acc: 0.8545 - val_loss: 0.3318 - val_acc: 0.8529\n",
      "Epoch 17/50\n",
      "1203/1203 [==============================] - 0s - loss: 0.3077 - acc: 0.8579 - val_loss: 0.3006 - val_acc: 0.8728\n",
      "Epoch 18/50\n",
      "1203/1203 [==============================] - 0s - loss: 0.2880 - acc: 0.8653 - val_loss: 0.2840 - val_acc: 0.8803\n",
      "Epoch 19/50\n",
      "1203/1203 [==============================] - 0s - loss: 0.2934 - acc: 0.8712 - val_loss: 0.3115 - val_acc: 0.8603\n",
      "Epoch 20/50\n",
      "1203/1203 [==============================] - 0s - loss: 0.2981 - acc: 0.8570 - val_loss: 0.2739 - val_acc: 0.8753\n",
      "Epoch 21/50\n",
      "1203/1203 [==============================] - 0s - loss: 0.2708 - acc: 0.8770 - val_loss: 0.3253 - val_acc: 0.8204\n",
      "Epoch 22/50\n",
      "1203/1203 [==============================] - 0s - loss: 0.2796 - acc: 0.8803 - val_loss: 0.2832 - val_acc: 0.8728\n",
      "Epoch 23/50\n",
      "1203/1203 [==============================] - 0s - loss: 0.2409 - acc: 0.8944 - val_loss: 0.2931 - val_acc: 0.8678\n",
      "Epoch 24/50\n",
      "1203/1203 [==============================] - 0s - loss: 0.2637 - acc: 0.8761 - val_loss: 0.3029 - val_acc: 0.8728\n",
      "Epoch 25/50\n",
      "1203/1203 [==============================] - 0s - loss: 0.2489 - acc: 0.8845 - val_loss: 0.2707 - val_acc: 0.8753\n",
      "Epoch 26/50\n",
      "1203/1203 [==============================] - 0s - loss: 0.2691 - acc: 0.8670 - val_loss: 0.2694 - val_acc: 0.8878\n",
      "Epoch 27/50\n",
      "1203/1203 [==============================] - 0s - loss: 0.2701 - acc: 0.8745 - val_loss: 0.2915 - val_acc: 0.8903\n",
      "Epoch 28/50\n",
      "1203/1203 [==============================] - 0s - loss: 0.2526 - acc: 0.8969 - val_loss: 0.4359 - val_acc: 0.8180\n",
      "Epoch 29/50\n",
      "1203/1203 [==============================] - 0s - loss: 0.2974 - acc: 0.8678 - val_loss: 0.4074 - val_acc: 0.8204\n",
      "Epoch 30/50\n",
      "1203/1203 [==============================] - 0s - loss: 0.2434 - acc: 0.8861 - val_loss: 0.3374 - val_acc: 0.8603\n",
      "Epoch 31/50\n",
      "1203/1203 [==============================] - 0s - loss: 0.2338 - acc: 0.8928 - val_loss: 0.2957 - val_acc: 0.8853\n",
      "Epoch 32/50\n",
      "1203/1203 [==============================] - 0s - loss: 0.2246 - acc: 0.8994 - val_loss: 0.3367 - val_acc: 0.8554\n"
     ]
    },
    {
     "data": {
      "text/plain": [
       "<keras.callbacks.History at 0x7f2365d9fe10>"
      ]
     },
     "execution_count": 15,
     "metadata": {},
     "output_type": "execute_result"
    }
   ],
   "source": [
    "#Without denoising, core features.\n",
    "import os\n",
    "gmodel=getModel()\n",
    "gmodel.fit(X_train_cv, y_train_cv,\n",
    "          batch_size=32,\n",
    "          epochs=50,\n",
    "          verbose=1,\n",
    "          validation_data=(X_valid, y_valid),\n",
    "          callbacks=callbacks)"
   ]
  },
  {
   "cell_type": "code",
   "execution_count": 16,
   "metadata": {},
   "outputs": [
    {
     "name": "stdout",
     "output_type": "stream",
     "text": [
      "Test loss: 0.336691929367\n",
      "Test accuracy: 0.855361596456\n"
     ]
    }
   ],
   "source": [
    "score = gmodel.evaluate(X_valid, y_valid, verbose=0)\n",
    "print('Test loss:', score[0])\n",
    "print('Test accuracy:', score[1])"
   ]
  },
  {
   "cell_type": "code",
   "execution_count": 18,
   "metadata": {},
   "outputs": [
    {
     "name": "stdout",
     "output_type": "stream",
     "text": [
      "8424/8424 [==============================] - 1s     \n"
     ]
    }
   ],
   "source": [
    "X_band_test_1=np.array([np.array(band).astype(np.float32).reshape(75, 75) for band in test[\"band_1\"]])\n",
    "X_band_test_2=np.array([np.array(band).astype(np.float32).reshape(75, 75) for band in test[\"band_2\"]])\n",
    "X_test = np.concatenate([X_band_test_1[:, :, :, np.newaxis]\n",
    "                          , X_band_test_2[:, :, :, np.newaxis]\n",
    "                         , ((X_band_test_1+X_band_test_2)/2)[:, :, :, np.newaxis]], axis=-1)\n",
    "predicted_test=gmodel.predict_proba(X_test)"
   ]
  },
  {
   "cell_type": "code",
   "execution_count": 19,
   "metadata": {
    "collapsed": true
   },
   "outputs": [],
   "source": [
    "submission = pd.DataFrame()\n",
    "submission['id']=test['id']\n",
    "submission['is_iceberg']=predicted_test.reshape((predicted_test.shape[0]))\n",
    "submission.to_csv('sub.csv', index=False)"
   ]
  },
  {
   "cell_type": "code",
   "execution_count": null,
   "metadata": {
    "collapsed": true
   },
   "outputs": [],
   "source": []
  }
 ],
 "metadata": {
  "kernelspec": {
   "display_name": "Python 3",
   "language": "python",
   "name": "python3"
  },
  "language_info": {
   "codemirror_mode": {
    "name": "ipython",
    "version": 3
   },
   "file_extension": ".py",
   "mimetype": "text/x-python",
   "name": "python",
   "nbconvert_exporter": "python",
   "pygments_lexer": "ipython3",
   "version": "3.6.2"
  }
 },
 "nbformat": 4,
 "nbformat_minor": 2
}
