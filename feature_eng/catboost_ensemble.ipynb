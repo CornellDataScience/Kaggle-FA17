{
 "cells": [
  {
   "cell_type": "code",
   "execution_count": 43,
   "metadata": {
    "_cell_guid": "d0f0ce4d-75b9-475d-add9-5bc6f24357f9",
    "_uuid": "00e6bfcd2da6d0199d09e9f1c3341745029c7235",
    "collapsed": true
   },
   "outputs": [],
   "source": [
    "import pandas as pd\n",
    "import numpy as np\n",
    "from catboost import CatBoostRegressor\n",
    "from tqdm import tqdm"
   ]
  },
  {
   "cell_type": "markdown",
   "metadata": {
    "_cell_guid": "b36ca855-dcf0-4956-b3a3-1badba0a4cd5",
    "_uuid": "b13eb7681d1664b73e4d54ca80ce0a7d5331aa57"
   },
   "source": [
    "> ## Data loading, we parse transactiondate"
   ]
  },
  {
   "cell_type": "code",
   "execution_count": 44,
   "metadata": {
    "_cell_guid": "0b0142aa-8a69-407c-8ed6-647f52c2c79c",
    "_uuid": "a7a5c89651983966017b964bd25853c026e79613",
    "collapsed": true
   },
   "outputs": [],
   "source": [
    "train_2016 = pd.read_csv('../datasets/train_2016_v2.csv', parse_dates=['transactiondate'], low_memory=False)\n",
    "train_2017 = pd.read_csv('../datasets/train_2017.csv', parse_dates=['transactiondate'], low_memory=False)\n",
    "properties_2016 = pd.read_csv('../datasets/properties_2016.csv', low_memory=False)\n",
    "properties_2017 = pd.read_csv('../datasets/properties_2017.csv', low_memory=False)\n",
    "test_2016 = pd.read_csv('../datasets/sample_submission.csv', low_memory=False)\n",
    "test_2017 = pd.read_csv('../datasets/sample_submission.csv', low_memory=False)\n",
    "# field is named differently in submission\n",
    "test_2016['parcelid'] = test_2016['ParcelId']\n",
    "test_2017['parcelid'] = test_2017['ParcelId']"
   ]
  },
  {
   "cell_type": "code",
   "execution_count": 45,
   "metadata": {
    "_cell_guid": "49c98a71-c4eb-4adc-ba9e-3257ad3112a6",
    "_uuid": "1c24a39df7a2e4d27afe429b883976b31438444d",
    "collapsed": true
   },
   "outputs": [],
   "source": [
    "# similar to the1owl\n",
    "def add_date_features(df):\n",
    "    df[\"transaction_year\"] = df[\"transactiondate\"].dt.year\n",
    "    df[\"transaction_month\"] = df[\"transactiondate\"].dt.month\n",
    "    df[\"transaction_quarter\"] = df[\"transactiondate\"].dt.quarter\n",
    "    df.drop([\"transactiondate\"], inplace=True, axis=1)\n",
    "    return df"
   ]
  },
  {
   "cell_type": "code",
   "execution_count": 46,
   "metadata": {
    "_cell_guid": "11a44166-e6f7-49bb-80e9-4ff8891dfc1b",
    "_uuid": "eb9217247052ecd75669acf3adb641949b2e797e"
   },
   "outputs": [
    {
     "name": "stdout",
     "output_type": "stream",
     "text": [
      "Train:  (167888, 62)\n"
     ]
    }
   ],
   "source": [
    "train_2016 = add_date_features(train_2016)\n",
    "train_2017 = add_date_features(train_2017)\n",
    "train_2016 = train_2016.merge(properties_2016, how='left', on='parcelid')\n",
    "train_2017 = train_2017.merge(properties_2017, how='left', on='parcelid')\n",
    "train_df = train_2016.append(train_2017)\n",
    "#train_df = train_df[train_df.logerror > -0.4]\n",
    "#train_df = train_df[train_df.logerror < .42]\n",
    "test_2016 = test_2016.merge(properties_2016, how='left', on='parcelid')\n",
    "test_2017 = test_2017.merge(properties_2017, how='left', on='parcelid')\n",
    "print(\"Train: \", train_df.shape)"
   ]
  },
  {
   "cell_type": "markdown",
   "metadata": {
    "_cell_guid": "316cb2e8-417b-4923-9ac3-6f22a36bd66c",
    "_uuid": "c9c7096a81696525317c5b9bd2de4c456463daff"
   },
   "source": [
    "# 0.a) Remove missing data fields"
   ]
  },
  {
   "cell_type": "code",
   "execution_count": 47,
   "metadata": {
    "_cell_guid": "8352977d-4c2f-49ac-8a52-eaf571434924",
    "_uuid": "753ffed925fa400f6b8532346660c5a05882c58c"
   },
   "outputs": [
    {
     "name": "stdout",
     "output_type": "stream",
     "text": [
      "We exclude: ['architecturalstyletypeid', 'basementsqft', 'buildingclasstypeid', 'decktypeid', 'finishedsquarefeet13', 'finishedsquarefeet6', 'poolsizesum', 'pooltypeid10', 'pooltypeid2', 'storytypeid', 'typeconstructiontypeid', 'yardbuildingsqft26', 'fireplaceflag']\n",
      "13\n"
     ]
    }
   ],
   "source": [
    "missing_perc_thresh = 0.98\n",
    "exclude_missing = []\n",
    "num_rows = train_df.shape[0]\n",
    "for c in train_df.columns:\n",
    "    num_missing = train_df[c].isnull().sum()\n",
    "    if num_missing == 0:\n",
    "        continue\n",
    "    missing_frac = num_missing / float(num_rows)\n",
    "    if missing_frac > missing_perc_thresh:\n",
    "        exclude_missing.append(c)\n",
    "print(\"We exclude: %s\" % exclude_missing)\n",
    "print(len(exclude_missing))"
   ]
  },
  {
   "cell_type": "markdown",
   "metadata": {
    "_cell_guid": "895a7825-d2bb-418a-8f86-c58dd59d5c30",
    "_uuid": "94278c1a63bfff8a44c2be043a269344cc4de89a"
   },
   "source": [
    "# 0.b) Remove data that is always the same"
   ]
  },
  {
   "cell_type": "code",
   "execution_count": 48,
   "metadata": {
    "_cell_guid": "6f2efae0-2ebb-41b1-8f11-c60a44f69a11",
    "_uuid": "8b127a67bdc436702bc454ea959a73dd38d43324"
   },
   "outputs": [
    {
     "name": "stdout",
     "output_type": "stream",
     "text": [
      "We exclude: ['decktypeid', 'hashottuborspa', 'poolcnt', 'pooltypeid10', 'pooltypeid2', 'pooltypeid7', 'storytypeid', 'fireplaceflag', 'taxdelinquencyflag']\n",
      "9\n"
     ]
    }
   ],
   "source": [
    "# exclude where we only have one unique value :D\n",
    "exclude_unique = []\n",
    "for c in train_df.columns:\n",
    "    num_uniques = len(train_df[c].unique())\n",
    "    if train_df[c].isnull().sum() != 0:\n",
    "        num_uniques -= 1\n",
    "    if num_uniques == 1:\n",
    "        exclude_unique.append(c)\n",
    "print(\"We exclude: %s\" % exclude_unique)\n",
    "print(len(exclude_unique))"
   ]
  },
  {
   "cell_type": "markdown",
   "metadata": {
    "_cell_guid": "b645ccb4-a935-413f-808f-ceabce6f757d",
    "_uuid": "e3eb67c9f6fe44195579bdb9f58b833f853940c4"
   },
   "source": [
    "# 1.a) Define training features"
   ]
  },
  {
   "cell_type": "code",
   "execution_count": 49,
   "metadata": {
    "_cell_guid": "ab746fa0-7d15-433c-a5aa-9daabe0bbef3",
    "_uuid": "288ad567e88fc7a64b0c87e6d705da4b63461163"
   },
   "outputs": [
    {
     "name": "stdout",
     "output_type": "stream",
     "text": [
      "We use these for training: ['transaction_year', 'transaction_month', 'transaction_quarter', 'airconditioningtypeid', 'bathroomcnt', 'bedroomcnt', 'buildingqualitytypeid', 'calculatedbathnbr', 'finishedfloor1squarefeet', 'calculatedfinishedsquarefeet', 'finishedsquarefeet12', 'finishedsquarefeet15', 'finishedsquarefeet50', 'fips', 'fireplacecnt', 'fullbathcnt', 'garagecarcnt', 'garagetotalsqft', 'heatingorsystemtypeid', 'latitude', 'longitude', 'lotsizesquarefeet', 'propertycountylandusecode', 'propertylandusetypeid', 'rawcensustractandblock', 'regionidcity', 'regionidcounty', 'regionidneighborhood', 'regionidzip', 'roomcnt', 'threequarterbathnbr', 'unitcnt', 'yardbuildingsqft17', 'yearbuilt', 'numberofstories', 'structuretaxvaluedollarcnt', 'taxvaluedollarcnt', 'assessmentyear', 'landtaxvaluedollarcnt', 'taxamount', 'taxdelinquencyyear', 'censustractandblock']\n",
      "42\n"
     ]
    }
   ],
   "source": [
    "exclude_other = ['parcelid', 'logerror']  # for indexing/training only\n",
    "# do not know what this is LARS, 'SHCG' 'COR2YY' 'LNR2RPD-R3' ?!?\n",
    "exclude_other.append('propertyzoningdesc')\n",
    "train_features = []\n",
    "for c in train_df.columns:\n",
    "    if c not in exclude_missing \\\n",
    "       and c not in exclude_other and c not in exclude_unique:\n",
    "        train_features.append(c)\n",
    "print(\"We use these for training: %s\" % train_features)\n",
    "print(len(train_features))"
   ]
  },
  {
   "cell_type": "markdown",
   "metadata": {
    "_cell_guid": "ae0ef91f-7ee6-49fc-bd44-affbdfa128d9",
    "_uuid": "2ac2cbffda8aa023eba4cc2d1d2ad750a432d23f"
   },
   "source": [
    "# 1.b) Define which of these training features are categorical"
   ]
  },
  {
   "cell_type": "code",
   "execution_count": 50,
   "metadata": {
    "_cell_guid": "9c9b7f5d-a31f-4996-9c7e-bccb8cda8654",
    "_uuid": "d3678ded0e754c733101b7097a737e731ae01119"
   },
   "outputs": [
    {
     "name": "stdout",
     "output_type": "stream",
     "text": [
      "Cat features are: ['transaction_year', 'transaction_month', 'transaction_quarter', 'airconditioningtypeid', 'buildingqualitytypeid', 'fips', 'heatingorsystemtypeid', 'propertycountylandusecode', 'propertylandusetypeid', 'regionidcity', 'regionidcounty', 'regionidneighborhood', 'regionidzip', 'yearbuilt', 'assessmentyear', 'taxdelinquencyyear']\n"
     ]
    }
   ],
   "source": [
    "cat_feature_inds = []\n",
    "cat_unique_thresh = 1000\n",
    "for i, c in enumerate(train_features):\n",
    "    num_uniques = len(train_df[c].unique())\n",
    "    if num_uniques < cat_unique_thresh \\\n",
    "       and not 'sqft' in c \\\n",
    "       and not 'cnt' in c \\\n",
    "       and not 'nbr' in c \\\n",
    "       and not 'number' in c:\n",
    "        cat_feature_inds.append(i)\n",
    "        \n",
    "print(\"Cat features are: %s\" % [train_features[ind] for ind in cat_feature_inds])"
   ]
  },
  {
   "cell_type": "markdown",
   "metadata": {
    "_cell_guid": "fd7a9887-61c7-4742-94a4-2982d8be41b0",
    "_uuid": "32696c6609af571797ee8dd10516e50b6e2dfe4a"
   },
   "source": [
    "# 1.c) Fill missing values"
   ]
  },
  {
   "cell_type": "code",
   "execution_count": 51,
   "metadata": {
    "_cell_guid": "26a1755f-88a9-4f7c-b477-4a30465a72fa",
    "_uuid": "c199ecded662aba626f0e75240bb8d5a738cbb92",
    "collapsed": true
   },
   "outputs": [],
   "source": [
    "# some out of range int is a good choice\n",
    "train_df.fillna(-999, inplace=True)\n",
    "#train_df = train_df[train_df.logerror > -0.4]\n",
    "#train_df = train_df[train_df.logerror < .42]\n",
    "test_2016.fillna(-999, inplace=True)\n",
    "test_2017.fillna(-999, inplace=True)"
   ]
  },
  {
   "cell_type": "markdown",
   "metadata": {
    "_cell_guid": "be9d099e-28c9-404e-a37f-4c812ca9b405",
    "_uuid": "68d52b1e117a55dc0a5bb4d98bbcf5f2c57c1339"
   },
   "source": [
    "# 2.a) Training time!"
   ]
  },
  {
   "cell_type": "code",
   "execution_count": 52,
   "metadata": {
    "_cell_guid": "f53d5b61-2803-4066-9ead-cd5714838e86",
    "_uuid": "d22163b09dda59e33e88d50b076795b630ddc2c3"
   },
   "outputs": [
    {
     "name": "stdout",
     "output_type": "stream",
     "text": [
      "(164481, 42) (164481,)\n"
     ]
    }
   ],
   "source": [
    "X_train = train_df[train_features]\n",
    "y_train = train_df.logerror\n",
    "print(X_train.shape, y_train.shape)"
   ]
  },
  {
   "cell_type": "code",
   "execution_count": null,
   "metadata": {
    "_cell_guid": "7dc0215e-f2f1-41a3-bf68-d3b7e4ca0cd0",
    "_uuid": "101f5048a7fd0874cb7d0b7a49d4f5e27c01bb20"
   },
   "outputs": [
    {
     "name": "stdout",
     "output_type": "stream",
     "text": [
      "Training 0\n",
      "Training 1\n",
      "Training 2\n",
      "Training 3\n",
      "Training 4\n"
     ]
    }
   ],
   "source": [
    "num_ensembles = 5\n",
    "models = []\n",
    "for i in range(num_ensembles):\n",
    "    # TODO(you): Use CV, tune hyperparameters\n",
    "    print('Training ' + str(i))\n",
    "    model = CatBoostRegressor(\n",
    "        iterations=200, learning_rate=0.03,\n",
    "        depth=6, l2_leaf_reg=3,\n",
    "        loss_function='MAE',\n",
    "        eval_metric='MAE',\n",
    "        random_seed=i)\n",
    "    model.fit(\n",
    "        X_train, y_train,\n",
    "        cat_features=cat_feature_inds)\n",
    "    models.append(model)\n",
    "    \n",
    "def predict_result(test, models, num_ensembles):\n",
    "    result = 0.0\n",
    "    for model in models:\n",
    "        result += model.predict(test)\n",
    "    result /= num_ensembles\n",
    "    return result"
   ]
  },
  {
   "cell_type": "markdown",
   "metadata": {
    "_cell_guid": "8cd24363-5267-485b-af89-25dced1a1d1b",
    "_uuid": "02df91a11f913b138ff229d7efec497bf07361d4"
   },
   "source": [
    "# 3.) Create submission"
   ]
  },
  {
   "cell_type": "code",
   "execution_count": null,
   "metadata": {
    "_cell_guid": "917d47c8-9390-4e31-a3d9-6fc60f3ea2c0",
    "_uuid": "64700590bd836c5d22c4f0e7279e8f151eae8b02"
   },
   "outputs": [
    {
     "name": "stdout",
     "output_type": "stream",
     "text": [
      "Predicting for: 201610 ... \n",
      "Predicting for: 201611 ... \n"
     ]
    }
   ],
   "source": [
    "submission = pd.DataFrame({\n",
    "    'ParcelId': test_2016['parcelid'],\n",
    "})\n",
    "# https://www.kaggle.com/c/zillow-prize-1/discussion/33899, Oct,Nov,Dec\n",
    "test_dates_2016 = {\n",
    "    '201610': pd.Timestamp('2016-10-30'),\n",
    "    '201611': pd.Timestamp('2016-11-30'),\n",
    "    '201612': pd.Timestamp('2016-12-30')\n",
    "}\n",
    "test_dates_2017 = {\n",
    "    '201710': pd.Timestamp('2017-10-30'),\n",
    "    '201711': pd.Timestamp('2017-11-30'),\n",
    "    '201712': pd.Timestamp('2017-12-30')\n",
    "}\n",
    "\n",
    "for label, test_date in test_dates_2016.items():\n",
    "    print(\"Predicting for: %s ... \" % (label))\n",
    "    # TODO(you): predict for every `test_date`\n",
    "    test_2016['transactiondate'] = test_date\n",
    "    test_2016 = add_date_features(test_2016)\n",
    "    submission[label] = predict_result(test_2016[train_features], models, num_ensembles)\n",
    "\n",
    "for label, test_date in test_dates_2017.items():\n",
    "    print(\"Predicting for: %s ... \" % (label))\n",
    "    # TODO(you): predict for every `test_date`\n",
    "    test_2017['transactiondate'] = test_date\n",
    "    test_2017 = add_date_features(test_2017)\n",
    "    submission[label] = predict_result(test_2017[train_features], models, num_ensembles)\n",
    "\n",
    "submission_major = 1\n",
    "submission.to_csv(\n",
    "    'submission_%03d.csv' % (submission_major),\n",
    "    float_format='%.4f',\n",
    "    index=False)\n",
    "print(\"Done! Good luck with submission #%d :)\" % submission_major)"
   ]
  },
  {
   "cell_type": "code",
   "execution_count": null,
   "metadata": {
    "_uuid": "14d7083e2f0d76efa0791413dc66257903fad5db",
    "collapsed": true
   },
   "outputs": [],
   "source": [
    "for model in models:\n",
    "    model.]"
   ]
  },
  {
   "cell_type": "code",
   "execution_count": null,
   "metadata": {
    "_uuid": "b5cb3c41de44115c102ae3b3e71a5e255a6ad1f2",
    "collapsed": true
   },
   "outputs": [],
   "source": [
    "cat_feature_inds"
   ]
  },
  {
   "cell_type": "code",
   "execution_count": null,
   "metadata": {
    "collapsed": true
   },
   "outputs": [],
   "source": []
  }
 ],
 "metadata": {
  "kernelspec": {
   "display_name": "Python 3",
   "language": "python",
   "name": "python3"
  },
  "language_info": {
   "codemirror_mode": {
    "name": "ipython",
    "version": 3
   },
   "file_extension": ".py",
   "mimetype": "text/x-python",
   "name": "python",
   "nbconvert_exporter": "python",
   "pygments_lexer": "ipython3",
   "version": "3.6.1"
  }
 },
 "nbformat": 4,
 "nbformat_minor": 1
}
