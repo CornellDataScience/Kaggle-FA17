{
 "cells": [
  {
   "cell_type": "code",
   "execution_count": 1,
   "metadata": {
    "collapsed": true
   },
   "outputs": [],
   "source": [
    "import numpy as np\n",
    "import pandas as pd"
   ]
  },
  {
   "cell_type": "code",
   "execution_count": 2,
   "metadata": {},
   "outputs": [
    {
     "name": "stdout",
     "output_type": "stream",
     "text": [
      "\n",
      "Reading Files\n"
     ]
    }
   ],
   "source": [
    "print(\"\\nReading Files\")\n",
    "df_train = pd.read_csv('../labels.csv')\n",
    "df_test = pd.read_csv('../sample_submission.csv')"
   ]
  },
  {
   "cell_type": "code",
   "execution_count": 3,
   "metadata": {},
   "outputs": [
    {
     "name": "stdout",
     "output_type": "stream",
     "text": [
      "Formatting Data and Submission Type\n"
     ]
    }
   ],
   "source": [
    "#Format data into sample submission format\n",
    "print(\"Formatting Data and Submission Type\")\n",
    "targets_series = pd.Series(df_train['breed'])\n",
    "one_hot = pd.get_dummies(targets_series, sparse = True)\n",
    "one_hot_labels = np.asarray(one_hot)"
   ]
  },
  {
   "cell_type": "code",
   "execution_count": 4,
   "metadata": {},
   "outputs": [
    {
     "name": "stdout",
     "output_type": "stream",
     "text": [
      "0                        boston_bull\n",
      "1                              dingo\n",
      "2                           pekinese\n",
      "3                           bluetick\n",
      "4                   golden_retriever\n",
      "5                 bedlington_terrier\n",
      "6                 bedlington_terrier\n",
      "7                             borzoi\n",
      "8                            basenji\n",
      "9                 scottish_deerhound\n",
      "10                 shetland_sheepdog\n",
      "11                      walker_hound\n",
      "12                       maltese_dog\n",
      "13                          bluetick\n",
      "14                   norfolk_terrier\n",
      "15               african_hunting_dog\n",
      "16           wire-haired_fox_terrier\n",
      "17                           redbone\n",
      "18                  lakeland_terrier\n",
      "19                             boxer\n",
      "20                          doberman\n",
      "21                        otterhound\n",
      "22                        otterhound\n",
      "23                bedlington_terrier\n",
      "24                             dingo\n",
      "25                  golden_retriever\n",
      "26                standard_schnauzer\n",
      "27               irish_water_spaniel\n",
      "28           black-and-tan_coonhound\n",
      "29                             cairn\n",
      "                    ...             \n",
      "10192                 border_terrier\n",
      "10193                    appenzeller\n",
      "10194    west_highland_white_terrier\n",
      "10195                        basenji\n",
      "10196                          boxer\n",
      "10197                  affenpinscher\n",
      "10198               golden_retriever\n",
      "10199                        whippet\n",
      "10200                    maltese_dog\n",
      "10201             bedlington_terrier\n",
      "10202               sealyham_terrier\n",
      "10203                  affenpinscher\n",
      "10204                    maltese_dog\n",
      "10205               english_springer\n",
      "10206                irish_wolfhound\n",
      "10207                        basenji\n",
      "10208               english_foxhound\n",
      "10209                     weimaraner\n",
      "10210                     great_dane\n",
      "10211                   irish_setter\n",
      "10212                tibetan_terrier\n",
      "10213               english_foxhound\n",
      "10214                         briard\n",
      "10215                       airedale\n",
      "10216                        samoyed\n",
      "10217                         borzoi\n",
      "10218                 dandie_dinmont\n",
      "10219                       airedale\n",
      "10220             miniature_pinscher\n",
      "10221       chesapeake_bay_retriever\n",
      "Name: breed, Length: 10222, dtype: object\n"
     ]
    }
   ],
   "source": [
    "print(targets_series)"
   ]
  },
  {
   "cell_type": "code",
   "execution_count": 6,
   "metadata": {},
   "outputs": [
    {
     "name": "stdout",
     "output_type": "stream",
     "text": [
      "                                     id                        breed\n",
      "0      000bec180eb18c7604dcecc8fe0dba07                  boston_bull\n",
      "1      001513dfcb2ffafc82cccf4d8bbaba97                        dingo\n",
      "2      001cdf01b096e06d78e9e5112d419397                     pekinese\n",
      "3      00214f311d5d2247d5dfe4fe24b2303d                     bluetick\n",
      "4      0021f9ceb3235effd7fcde7f7538ed62             golden_retriever\n",
      "5      002211c81b498ef88e1b40b9abf84e1d           bedlington_terrier\n",
      "6      00290d3e1fdd27226ba27a8ce248ce85           bedlington_terrier\n",
      "7      002a283a315af96eaea0e28e7163b21b                       borzoi\n",
      "8      003df8b8a8b05244b1d920bb6cf451f9                      basenji\n",
      "9      0042188c895a2f14ef64a918ed9c7b64           scottish_deerhound\n",
      "10     004396df1acd0f1247b740ca2b14616e            shetland_sheepdog\n",
      "11     0067dc3eab0b3c3ef0439477624d85d6                 walker_hound\n",
      "12     00693b8bc2470375cc744a6391d397ec                  maltese_dog\n",
      "13     006cc3ddb9dc1bd827479569fcdc52dc                     bluetick\n",
      "14     0075dc49dab4024d12fafe67074d8a81              norfolk_terrier\n",
      "15     00792e341f3c6eb33663e415d0715370          african_hunting_dog\n",
      "16     007b5a16db9d9ff9d7ad39982703e429      wire-haired_fox_terrier\n",
      "17     007b8a07882822475a4ce6581e70b1f8                      redbone\n",
      "18     007ff9a78eba2aebb558afea3a51c469             lakeland_terrier\n",
      "19     008887054b18ba3c7601792b6a453cc3                        boxer\n",
      "20     008b1271ed1addaccf93783b39deab45                     doberman\n",
      "21     008ba178d6dfc1a583617470d19c1673                   otterhound\n",
      "22     009509be3ca7cce0ff9e37c8b09b1125                   otterhound\n",
      "23     0097c6242c6f3071762d9f85c3ef1b2f           bedlington_terrier\n",
      "24     00a338a92e4e7bf543340dc849230e75                        dingo\n",
      "25     00a366d4b4a9bbb6c8a63126697b7656             golden_retriever\n",
      "26     00a862390341c5be090dd72bd2bc19ef           standard_schnauzer\n",
      "27     00b7d114bc5166a629a3cc03d9329120          irish_water_spaniel\n",
      "28     00ba244566e36e0af3d979320fd3017f      black-and-tan_coonhound\n",
      "29     00bee065dcec471f26394855c5c2f3de                        cairn\n",
      "...                                 ...                          ...\n",
      "10192  ff4afeb51a1473f7ba18669a8ff48bc9               border_terrier\n",
      "10193  ff4bb57ce419cd637dd511a1b5474bff                  appenzeller\n",
      "10194  ff52a3909f5801a71161cec95d213107  west_highland_white_terrier\n",
      "10195  ff54d45962b3123bb67052e8e29a60e7                      basenji\n",
      "10196  ff63ed894f068da8e2bbdfda50a9a9f8                        boxer\n",
      "10197  ff63fa05a58473138848f80840064d23                affenpinscher\n",
      "10198  ff6f47aa8e181b6efa4d0be7b09b5628             golden_retriever\n",
      "10199  ff7334b06cee8667a7f30eb00e0b93cf                      whippet\n",
      "10200  ff7d9c08091acc3b18b869951feeb013                  maltese_dog\n",
      "10201  ff84992beff3edd99b72718bec9448d2           bedlington_terrier\n",
      "10202  ff8e3fa7e04faca99af85195507ee54d             sealyham_terrier\n",
      "10203  ff91c3c095a50d3d7f1ab52b60e93638                affenpinscher\n",
      "10204  ffa0055ec324829882186bae29491645                  maltese_dog\n",
      "10205  ffa0ad682c6670db3defce2575a2587f             english_springer\n",
      "10206  ffa16727a9ee462ee3f386be865b199e              irish_wolfhound\n",
      "10207  ffa4e1bf959425bad9228b04af40ac76                      basenji\n",
      "10208  ffa6a8d29ce57eb760d0f182abada4bf             english_foxhound\n",
      "10209  ffbbf7536ba86dcef3f360bda41181b4                   weimaraner\n",
      "10210  ffc1717fc5b5f7a6c76d0e4ea7c8f93a                   great_dane\n",
      "10211  ffc2b6b9133a6413c4a013cff29f9ed2                 irish_setter\n",
      "10212  ffc532991d3cd7880d27a449ed1c4770              tibetan_terrier\n",
      "10213  ffca1c97cea5fada05b8646998a5b788             english_foxhound\n",
      "10214  ffcb610e811817766085054616551f9c                       briard\n",
      "10215  ffcde16e7da0872c357fbc7e2168c05f                     airedale\n",
      "10216  ffcffab7e4beef9a9b8076ef2ca51909                      samoyed\n",
      "10217  ffd25009d635cfd16e793503ac5edef0                       borzoi\n",
      "10218  ffd3f636f7f379c51ba3648a9ff8254f               dandie_dinmont\n",
      "10219  ffe2ca6c940cddfee68fa3cc6c63213f                     airedale\n",
      "10220  ffe5f6d8e2bff356e9482a80a6e29aac           miniature_pinscher\n",
      "10221  fff43b07992508bc822f33d8ffd902ae     chesapeake_bay_retriever\n",
      "\n",
      "[10222 rows x 2 columns]\n"
     ]
    }
   ],
   "source": [
    "print(df_train)"
   ]
  },
  {
   "cell_type": "code",
   "execution_count": 8,
   "metadata": {},
   "outputs": [],
   "source": [
    "counts = targets_series.value_counts()"
   ]
  },
  {
   "cell_type": "code",
   "execution_count": 9,
   "metadata": {},
   "outputs": [
    {
     "name": "stdout",
     "output_type": "stream",
     "text": [
      "scottish_deerhound                126\n",
      "maltese_dog                       117\n",
      "afghan_hound                      116\n",
      "entlebucher                       115\n",
      "bernese_mountain_dog              114\n",
      "shih-tzu                          112\n",
      "great_pyrenees                    111\n",
      "pomeranian                        111\n",
      "basenji                           110\n",
      "samoyed                           109\n",
      "airedale                          107\n",
      "tibetan_terrier                   107\n",
      "leonberg                          106\n",
      "cairn                             106\n",
      "japanese_spaniel                  105\n",
      "beagle                            105\n",
      "miniature_pinscher                102\n",
      "blenheim_spaniel                  102\n",
      "australian_terrier                102\n",
      "irish_wolfhound                   101\n",
      "saluki                             99\n",
      "lakeland_terrier                   99\n",
      "papillon                           96\n",
      "whippet                            95\n",
      "siberian_husky                     95\n",
      "norwegian_elkhound                 95\n",
      "pug                                94\n",
      "chow                               93\n",
      "pembroke                           92\n",
      "italian_greyhound                  92\n",
      "                                 ... \n",
      "bull_mastiff                       75\n",
      "pekinese                           75\n",
      "borzoi                             75\n",
      "great_dane                         75\n",
      "english_springer                   75\n",
      "cocker_spaniel                     74\n",
      "doberman                           74\n",
      "american_staffordshire_terrier     74\n",
      "brittany_spaniel                   73\n",
      "malinois                           73\n",
      "flat-coated_retriever              72\n",
      "curly-coated_retriever             72\n",
      "redbone                            72\n",
      "border_collie                      72\n",
      "standard_schnauzer                 72\n",
      "chihuahua                          71\n",
      "kuvasz                             71\n",
      "soft-coated_wheaten_terrier        71\n",
      "french_bulldog                     70\n",
      "vizsla                             70\n",
      "otterhound                         69\n",
      "giant_schnauzer                    69\n",
      "tibetan_mastiff                    69\n",
      "german_shepherd                    69\n",
      "walker_hound                       69\n",
      "golden_retriever                   67\n",
      "komondor                           67\n",
      "brabancon_griffon                  67\n",
      "briard                             66\n",
      "eskimo_dog                         66\n",
      "Name: breed, Length: 120, dtype: int64\n"
     ]
    }
   ],
   "source": [
    "print(counts)"
   ]
  },
  {
   "cell_type": "code",
   "execution_count": 10,
   "metadata": {},
   "outputs": [
    {
     "name": "stdout",
     "output_type": "stream",
     "text": [
      "(10357, 121)\n"
     ]
    }
   ],
   "source": [
    "print(df_test.shape)"
   ]
  },
  {
   "cell_type": "code",
   "execution_count": null,
   "metadata": {
    "collapsed": true
   },
   "outputs": [],
   "source": []
  }
 ],
 "metadata": {
  "kernelspec": {
   "display_name": "Python 3",
   "language": "python",
   "name": "python3"
  },
  "language_info": {
   "codemirror_mode": {
    "name": "ipython",
    "version": 3
   },
   "file_extension": ".py",
   "mimetype": "text/x-python",
   "name": "python",
   "nbconvert_exporter": "python",
   "pygments_lexer": "ipython3",
   "version": "3.6.2"
  }
 },
 "nbformat": 4,
 "nbformat_minor": 2
}
