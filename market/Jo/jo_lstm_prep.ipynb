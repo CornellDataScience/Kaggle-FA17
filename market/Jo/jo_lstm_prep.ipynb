{
 "cells": [
  {
   "cell_type": "code",
   "execution_count": 1,
   "metadata": {
    "collapsed": true
   },
   "outputs": [],
   "source": [
    "import pandas as pd\n",
    "from datetime import timedelta\n",
    "\n",
    "dtypes = {'id':'int64', 'item_nbr':'int32', 'store_nbr':'int8'}\n",
    "\n",
    "train = pd.read_csv('train.csv', usecols=[1,2,3,4], dtype=dtypes, parse_dates=['date'],\n",
    "                    skiprows=range(1, 101688779) #Skip dates before 2017-01-01\n",
    "                    )\n",
    "\n",
    "train.loc[(train.unit_sales<0),'unit_sales'] = 0 # eliminate negatives\n",
    "#train['unit_sales'] =  train['unit_sales'].apply(pd.np.log1p) #logarithm conversion\n",
    "\n",
    "# creating records for all items, in all markets on all dates\n",
    "# for correct calculation of daily unit sales averages.\n",
    "u_dates = train.date.unique()\n",
    "u_stores = train.store_nbr.unique()\n",
    "u_items = train.item_nbr.unique()\n",
    "train.set_index([\"date\", \"store_nbr\", \"item_nbr\"], inplace=True)\n",
    "train = train.reindex(\n",
    "    pd.MultiIndex.from_product(\n",
    "        (u_dates, u_stores, u_items),\n",
    "        names=[\"date\", \"store_nbr\", \"item_nbr\"]\n",
    "    )\n",
    ")\n",
    "\n",
    "del u_dates, u_stores, u_items\n",
    "\n",
    "train.loc[:, \"unit_sales\"].fillna(0, inplace=True)\n",
    "train.reset_index(inplace=True) # reset index and restoring unique columns  \n",
    "lastdate = train.iloc[train.shape[0]-1].date"
   ]
  },
  {
   "cell_type": "code",
   "execution_count": null,
   "metadata": {
    "collapsed": true
   },
   "outputs": [],
   "source": []
  },
  {
   "cell_type": "code",
   "execution_count": 2,
   "metadata": {
    "collapsed": true
   },
   "outputs": [],
   "source": [
    "import numpy as np\n",
    "look_back = 7\n",
    "\n",
    "# convert an array of values into a dataset matrix\n",
    "def create_dataset(dataset, look_back=1):\n",
    "    dataX, dataY = [], []\n",
    "    for i in range(len(dataset)-look_back-1):\n",
    "        a = dataset[i:(i+look_back), :]\n",
    "        dataX.append(a)\n",
    "        dataY.append(dataset[i + look_back, :])\n",
    "    return np.array(dataX), np.array(dataY)"
   ]
  },
  {
   "cell_type": "code",
   "execution_count": 3,
   "metadata": {},
   "outputs": [
    {
     "name": "stdout",
     "output_type": "stream",
     "text": [
      "               date  store_nbr  item_nbr  unit_sales\n",
      "0        2016-12-31         54   2048674         1.0\n",
      "1        2017-01-01         25     99197         1.0\n",
      "2        2017-01-01         25    103665         7.0\n",
      "3        2017-01-01         25    105574         1.0\n",
      "4        2017-01-01         25    105857         4.0\n",
      "5        2017-01-01         25    106716         2.0\n",
      "6        2017-01-01         25    108698         2.0\n",
      "7        2017-01-01         25    108786         1.0\n",
      "8        2017-01-01         25    108797         1.0\n",
      "9        2017-01-01         25    108862         1.0\n",
      "10       2017-01-01         25    108952         2.0\n",
      "11       2017-01-01         25    114790         2.0\n",
      "12       2017-01-01         25    114800         6.0\n",
      "13       2017-01-01         25    115267         2.0\n",
      "14       2017-01-01         25    115693         1.0\n",
      "15       2017-01-01         25    115720         6.0\n",
      "16       2017-01-01         25    115850         1.0\n",
      "17       2017-01-01         25    115891        12.0\n",
      "18       2017-01-01         25    115892         3.0\n",
      "19       2017-01-01         25    115893         3.0\n",
      "20       2017-01-01         25    115894         7.0\n",
      "21       2017-01-01         25    119026         1.0\n",
      "22       2017-01-01         25    119624         3.0\n",
      "23       2017-01-01         25    121964         1.0\n",
      "24       2017-01-01         25    122095         1.0\n",
      "25       2017-01-01         25    123347         8.0\n",
      "26       2017-01-01         25    123927         1.0\n",
      "27       2017-01-01         25    127547         3.0\n",
      "28       2017-01-01         25    129635         7.0\n",
      "29       2017-01-01         25    153078         1.0\n",
      "...             ...        ...       ...         ...\n",
      "23806599 2017-08-15         52   2086882         7.0\n",
      "23806600 2017-08-15         52   2087567        10.0\n",
      "23806601 2017-08-15         52   2087374         7.0\n",
      "23806602 2017-08-15         52   2087543        11.0\n",
      "23806603 2017-08-15         52   2108569         1.0\n",
      "23806604 2017-08-15         52   2108843         2.0\n",
      "23806605 2017-08-15         52   2105347         2.0\n",
      "23806606 2017-08-15         52   2111870        18.0\n",
      "23806607 2017-08-15         52   2112404        23.0\n",
      "23806608 2017-08-15         52   2087978         1.0\n",
      "23806609 2017-08-15         52   2088946         1.0\n",
      "23806610 2017-08-15         52   1421429         1.0\n",
      "23806611 2017-08-15         52   2088922        22.0\n",
      "23806612 2017-08-15         52   2011471         2.0\n",
      "23806613 2017-08-15         52   2106464        55.0\n",
      "23806614 2017-08-15         52   2111684         2.0\n",
      "23806615 2017-08-15         52   2110456         6.0\n",
      "23806616 2017-08-15         52   2113914         2.0\n",
      "23806617 2017-08-15         52   2109909        10.0\n",
      "23806618 2017-08-15         52   2114566         1.0\n",
      "23806619 2017-08-15         52   2116416         2.0\n",
      "23806620 2017-08-15         52   2054300         4.0\n",
      "23806621 2017-08-15         52   2113343         7.0\n",
      "23806622 2017-08-15         52   2124052         1.0\n",
      "23806623 2017-08-15         52   2127114         4.0\n",
      "23806624 2017-08-15         52   2122188         3.0\n",
      "23806625 2017-08-15         52   1463898         1.0\n",
      "23806626 2017-08-15         52   2122676         1.0\n",
      "23806627 2017-08-15         52   2116238         1.0\n",
      "23806628 2017-08-15         52   2123468         1.0\n",
      "\n",
      "[23806629 rows x 4 columns]\n"
     ]
    }
   ],
   "source": [
    "print(train[(train[\"unit_sales\"]>0)].reset_index(drop=True))"
   ]
  },
  {
   "cell_type": "code",
   "execution_count": 4,
   "metadata": {},
   "outputs": [
    {
     "ename": "ValueError",
     "evalue": "Can only tuple-index with a MultiIndex",
     "output_type": "error",
     "traceback": [
      "\u001b[0;31m---------------------------------------------------------------------------\u001b[0m",
      "\u001b[0;31mValueError\u001b[0m                                Traceback (most recent call last)",
      "\u001b[0;32m<ipython-input-4-6aaa2e4b8565>\u001b[0m in \u001b[0;36m<module>\u001b[0;34m()\u001b[0m\n\u001b[1;32m     14\u001b[0m \u001b[0;31m#t_105857 = scaler2.fit_transform(t_105857.values.reshape(-1,1))\u001b[0m\u001b[0;34m\u001b[0m\u001b[0;34m\u001b[0m\u001b[0m\n\u001b[1;32m     15\u001b[0m \u001b[0;34m\u001b[0m\u001b[0m\n\u001b[0;32m---> 16\u001b[0;31m \u001b[0mt_123347_in\u001b[0m\u001b[0;34m,\u001b[0m \u001b[0mt_123347_ot\u001b[0m \u001b[0;34m=\u001b[0m \u001b[0mcreate_dataset\u001b[0m\u001b[0;34m(\u001b[0m\u001b[0mt_123347\u001b[0m\u001b[0;34m,\u001b[0m \u001b[0mlook_back\u001b[0m\u001b[0;34m)\u001b[0m\u001b[0;34m\u001b[0m\u001b[0m\n\u001b[0m\u001b[1;32m     17\u001b[0m \u001b[0mt_105857_in\u001b[0m\u001b[0;34m,\u001b[0m \u001b[0mt_105857_ot\u001b[0m \u001b[0;34m=\u001b[0m \u001b[0mcreate_dataset\u001b[0m\u001b[0;34m(\u001b[0m\u001b[0mt_105857\u001b[0m\u001b[0;34m,\u001b[0m \u001b[0mlook_back\u001b[0m\u001b[0;34m)\u001b[0m\u001b[0;34m\u001b[0m\u001b[0m\n\u001b[1;32m     18\u001b[0m \u001b[0;34m\u001b[0m\u001b[0m\n",
      "\u001b[0;32m<ipython-input-2-fd8177baf25d>\u001b[0m in \u001b[0;36mcreate_dataset\u001b[0;34m(dataset, look_back)\u001b[0m\n\u001b[1;32m      6\u001b[0m     \u001b[0mdataX\u001b[0m\u001b[0;34m,\u001b[0m \u001b[0mdataY\u001b[0m \u001b[0;34m=\u001b[0m \u001b[0;34m[\u001b[0m\u001b[0;34m]\u001b[0m\u001b[0;34m,\u001b[0m \u001b[0;34m[\u001b[0m\u001b[0;34m]\u001b[0m\u001b[0;34m\u001b[0m\u001b[0m\n\u001b[1;32m      7\u001b[0m     \u001b[0;32mfor\u001b[0m \u001b[0mi\u001b[0m \u001b[0;32min\u001b[0m \u001b[0mrange\u001b[0m\u001b[0;34m(\u001b[0m\u001b[0mlen\u001b[0m\u001b[0;34m(\u001b[0m\u001b[0mdataset\u001b[0m\u001b[0;34m)\u001b[0m\u001b[0;34m-\u001b[0m\u001b[0mlook_back\u001b[0m\u001b[0;34m-\u001b[0m\u001b[0;36m1\u001b[0m\u001b[0;34m)\u001b[0m\u001b[0;34m:\u001b[0m\u001b[0;34m\u001b[0m\u001b[0m\n\u001b[0;32m----> 8\u001b[0;31m         \u001b[0ma\u001b[0m \u001b[0;34m=\u001b[0m \u001b[0mdataset\u001b[0m\u001b[0;34m[\u001b[0m\u001b[0mi\u001b[0m\u001b[0;34m:\u001b[0m\u001b[0;34m(\u001b[0m\u001b[0mi\u001b[0m\u001b[0;34m+\u001b[0m\u001b[0mlook_back\u001b[0m\u001b[0;34m)\u001b[0m\u001b[0;34m,\u001b[0m \u001b[0;34m:\u001b[0m\u001b[0;34m]\u001b[0m\u001b[0;34m\u001b[0m\u001b[0m\n\u001b[0m\u001b[1;32m      9\u001b[0m         \u001b[0mdataX\u001b[0m\u001b[0;34m.\u001b[0m\u001b[0mappend\u001b[0m\u001b[0;34m(\u001b[0m\u001b[0ma\u001b[0m\u001b[0;34m)\u001b[0m\u001b[0;34m\u001b[0m\u001b[0m\n\u001b[1;32m     10\u001b[0m         \u001b[0mdataY\u001b[0m\u001b[0;34m.\u001b[0m\u001b[0mappend\u001b[0m\u001b[0;34m(\u001b[0m\u001b[0mdataset\u001b[0m\u001b[0;34m[\u001b[0m\u001b[0mi\u001b[0m \u001b[0;34m+\u001b[0m \u001b[0mlook_back\u001b[0m\u001b[0;34m,\u001b[0m \u001b[0;34m:\u001b[0m\u001b[0;34m]\u001b[0m\u001b[0;34m)\u001b[0m\u001b[0;34m\u001b[0m\u001b[0m\n",
      "\u001b[0;32m~/anaconda3/lib/python3.6/site-packages/pandas/core/series.py\u001b[0m in \u001b[0;36m__getitem__\u001b[0;34m(self, key)\u001b[0m\n\u001b[1;32m    640\u001b[0m             \u001b[0mkey\u001b[0m \u001b[0;34m=\u001b[0m \u001b[0mcheck_bool_indexer\u001b[0m\u001b[0;34m(\u001b[0m\u001b[0mself\u001b[0m\u001b[0;34m.\u001b[0m\u001b[0mindex\u001b[0m\u001b[0;34m,\u001b[0m \u001b[0mkey\u001b[0m\u001b[0;34m)\u001b[0m\u001b[0;34m\u001b[0m\u001b[0m\n\u001b[1;32m    641\u001b[0m \u001b[0;34m\u001b[0m\u001b[0m\n\u001b[0;32m--> 642\u001b[0;31m         \u001b[0;32mreturn\u001b[0m \u001b[0mself\u001b[0m\u001b[0;34m.\u001b[0m\u001b[0m_get_with\u001b[0m\u001b[0;34m(\u001b[0m\u001b[0mkey\u001b[0m\u001b[0;34m)\u001b[0m\u001b[0;34m\u001b[0m\u001b[0m\n\u001b[0m\u001b[1;32m    643\u001b[0m \u001b[0;34m\u001b[0m\u001b[0m\n\u001b[1;32m    644\u001b[0m     \u001b[0;32mdef\u001b[0m \u001b[0m_get_with\u001b[0m\u001b[0;34m(\u001b[0m\u001b[0mself\u001b[0m\u001b[0;34m,\u001b[0m \u001b[0mkey\u001b[0m\u001b[0;34m)\u001b[0m\u001b[0;34m:\u001b[0m\u001b[0;34m\u001b[0m\u001b[0m\n",
      "\u001b[0;32m~/anaconda3/lib/python3.6/site-packages/pandas/core/series.py\u001b[0m in \u001b[0;36m_get_with\u001b[0;34m(self, key)\u001b[0m\n\u001b[1;32m    653\u001b[0m             \u001b[0;32mif\u001b[0m \u001b[0misinstance\u001b[0m\u001b[0;34m(\u001b[0m\u001b[0mkey\u001b[0m\u001b[0;34m,\u001b[0m \u001b[0mtuple\u001b[0m\u001b[0;34m)\u001b[0m\u001b[0;34m:\u001b[0m\u001b[0;34m\u001b[0m\u001b[0m\n\u001b[1;32m    654\u001b[0m                 \u001b[0;32mtry\u001b[0m\u001b[0;34m:\u001b[0m\u001b[0;34m\u001b[0m\u001b[0m\n\u001b[0;32m--> 655\u001b[0;31m                     \u001b[0;32mreturn\u001b[0m \u001b[0mself\u001b[0m\u001b[0;34m.\u001b[0m\u001b[0m_get_values_tuple\u001b[0m\u001b[0;34m(\u001b[0m\u001b[0mkey\u001b[0m\u001b[0;34m)\u001b[0m\u001b[0;34m\u001b[0m\u001b[0m\n\u001b[0m\u001b[1;32m    656\u001b[0m                 \u001b[0;32mexcept\u001b[0m\u001b[0;34m:\u001b[0m\u001b[0;34m\u001b[0m\u001b[0m\n\u001b[1;32m    657\u001b[0m                     \u001b[0;32mif\u001b[0m \u001b[0mlen\u001b[0m\u001b[0;34m(\u001b[0m\u001b[0mkey\u001b[0m\u001b[0;34m)\u001b[0m \u001b[0;34m==\u001b[0m \u001b[0;36m1\u001b[0m\u001b[0;34m:\u001b[0m\u001b[0;34m\u001b[0m\u001b[0m\n",
      "\u001b[0;32m~/anaconda3/lib/python3.6/site-packages/pandas/core/series.py\u001b[0m in \u001b[0;36m_get_values_tuple\u001b[0;34m(self, key)\u001b[0m\n\u001b[1;32m    698\u001b[0m \u001b[0;34m\u001b[0m\u001b[0m\n\u001b[1;32m    699\u001b[0m         \u001b[0;32mif\u001b[0m \u001b[0;32mnot\u001b[0m \u001b[0misinstance\u001b[0m\u001b[0;34m(\u001b[0m\u001b[0mself\u001b[0m\u001b[0;34m.\u001b[0m\u001b[0mindex\u001b[0m\u001b[0;34m,\u001b[0m \u001b[0mMultiIndex\u001b[0m\u001b[0;34m)\u001b[0m\u001b[0;34m:\u001b[0m\u001b[0;34m\u001b[0m\u001b[0m\n\u001b[0;32m--> 700\u001b[0;31m             \u001b[0;32mraise\u001b[0m \u001b[0mValueError\u001b[0m\u001b[0;34m(\u001b[0m\u001b[0;34m'Can only tuple-index with a MultiIndex'\u001b[0m\u001b[0;34m)\u001b[0m\u001b[0;34m\u001b[0m\u001b[0m\n\u001b[0m\u001b[1;32m    701\u001b[0m \u001b[0;34m\u001b[0m\u001b[0m\n\u001b[1;32m    702\u001b[0m         \u001b[0;31m# If key is contained, would have returned by now\u001b[0m\u001b[0;34m\u001b[0m\u001b[0;34m\u001b[0m\u001b[0m\n",
      "\u001b[0;31mValueError\u001b[0m: Can only tuple-index with a MultiIndex"
     ]
    }
   ],
   "source": [
    "# 123347 - calm, medium amp\n",
    "# 119624 - weird spike?\n",
    "# 2113343 - new prod\n",
    "# 123347 - \n",
    "# 105857\n",
    "\n",
    "t_123347 = train[(train[\"item_nbr\"]==123347) & (train[\"store_nbr\"]==1)][\"unit_sales\"].reset_index(drop=True)\n",
    "t_105857 = train[(train[\"item_nbr\"]==105857) & (train[\"store_nbr\"]==1)][\"unit_sales\"].reset_index(drop=True)\n",
    "\n",
    "from sklearn.preprocessing import MinMaxScaler\n",
    "#scaler1 = MinMaxScaler(feature_range=(0, 1))\n",
    "#scaler2 = MinMaxScaler(feature_range=(0, 1))\n",
    "#t_123347 = scaler1.fit_transform(t_123347.values.reshape(-1,1))\n",
    "#t_105857 = scaler2.fit_transform(t_105857.values.reshape(-1,1))\n",
    "\n",
    "t_123347_in, t_123347_ot = create_dataset(t_123347, look_back)\n",
    "t_105857_in, t_105857_ot = create_dataset(t_105857, look_back)\n",
    "\n",
    "in_comb = np.append(t_123347_in, t_105857_in, axis = 0)\n",
    "ot_comb = np.append(t_123347_ot, t_105857_ot, axis = 0)"
   ]
  },
  {
   "cell_type": "code",
   "execution_count": 54,
   "metadata": {},
   "outputs": [
    {
     "name": "stdout",
     "output_type": "stream",
     "text": [
      "305\n",
      "151\n"
     ]
    }
   ],
   "source": [
    "train_size = int(len(t_123347)*2 * 0.67)\n",
    "test_size = len(t_123347)*2 - train_size\n",
    "print(train_size)\n",
    "print(test_size)\n"
   ]
  },
  {
   "cell_type": "code",
   "execution_count": 55,
   "metadata": {},
   "outputs": [
    {
     "name": "stdout",
     "output_type": "stream",
     "text": [
      "(305, 7, 1)\n"
     ]
    }
   ],
   "source": [
    "train_input, train_output = in_comb[:train_size,:], ot_comb[:train_size,:]\n",
    "test_input, test_output = in_comb[train_size:,:], ot_comb[train_size:,:]\n",
    "print(train_input.shape)"
   ]
  },
  {
   "cell_type": "code",
   "execution_count": 56,
   "metadata": {},
   "outputs": [
    {
     "name": "stdout",
     "output_type": "stream",
     "text": [
      "(305, 7, 1)\n",
      "(135, 7, 1)\n"
     ]
    }
   ],
   "source": [
    "trainX = np.reshape(train_input, (train_input.shape[0], train_input.shape[1], train_input.shape[2]))\n",
    "trainY = train_output\n",
    "print(trainX.shape)\n",
    "print(test_input.shape)\n",
    "testX = np.reshape(test_input, (test_input.shape[0], test_input.shape[1], test_input.shape[2]))\n",
    "testY = test_output"
   ]
  },
  {
   "cell_type": "code",
   "execution_count": 57,
   "metadata": {},
   "outputs": [],
   "source": [
    "from keras.models import Sequential\n",
    "from keras.layers import Dense\n",
    "from keras.layers import LSTM\n",
    "from sklearn.metrics import mean_squared_error\n"
   ]
  },
  {
   "cell_type": "code",
   "execution_count": 61,
   "metadata": {},
   "outputs": [
    {
     "name": "stdout",
     "output_type": "stream",
     "text": [
      "Epoch 1/100\n",
      "0s - loss: 0.0506\n",
      "Epoch 2/100\n",
      "0s - loss: 0.0349\n",
      "Epoch 3/100\n",
      "0s - loss: 0.0350\n",
      "Epoch 4/100\n",
      "0s - loss: 0.0343\n",
      "Epoch 5/100\n",
      "0s - loss: 0.0340\n",
      "Epoch 6/100\n",
      "0s - loss: 0.0339\n",
      "Epoch 7/100\n",
      "0s - loss: 0.0338\n",
      "Epoch 8/100\n",
      "0s - loss: 0.0338\n",
      "Epoch 9/100\n",
      "0s - loss: 0.0338\n",
      "Epoch 10/100\n",
      "0s - loss: 0.0337\n",
      "Epoch 11/100\n",
      "0s - loss: 0.0336\n",
      "Epoch 12/100\n",
      "0s - loss: 0.0334\n",
      "Epoch 13/100\n",
      "0s - loss: 0.0337\n",
      "Epoch 14/100\n",
      "0s - loss: 0.0335\n",
      "Epoch 15/100\n",
      "0s - loss: 0.0335\n",
      "Epoch 16/100\n",
      "0s - loss: 0.0339\n",
      "Epoch 17/100\n",
      "0s - loss: 0.0336\n",
      "Epoch 18/100\n",
      "0s - loss: 0.0331\n",
      "Epoch 19/100\n",
      "0s - loss: 0.0336\n",
      "Epoch 20/100\n",
      "0s - loss: 0.0341\n",
      "Epoch 21/100\n",
      "0s - loss: 0.0338\n",
      "Epoch 22/100\n",
      "0s - loss: 0.0332\n",
      "Epoch 23/100\n",
      "0s - loss: 0.0335\n",
      "Epoch 24/100\n",
      "0s - loss: 0.0336\n",
      "Epoch 25/100\n",
      "0s - loss: 0.0332\n",
      "Epoch 26/100\n",
      "0s - loss: 0.0333\n",
      "Epoch 27/100\n",
      "0s - loss: 0.0339\n",
      "Epoch 28/100\n",
      "0s - loss: 0.0343\n",
      "Epoch 29/100\n",
      "0s - loss: 0.0347\n",
      "Epoch 30/100\n",
      "0s - loss: 0.0335\n",
      "Epoch 31/100\n",
      "0s - loss: 0.0333\n",
      "Epoch 32/100\n",
      "0s - loss: 0.0331\n",
      "Epoch 33/100\n",
      "0s - loss: 0.0331\n",
      "Epoch 34/100\n",
      "0s - loss: 0.0332\n",
      "Epoch 35/100\n",
      "0s - loss: 0.0331\n",
      "Epoch 36/100\n",
      "0s - loss: 0.0329\n",
      "Epoch 37/100\n",
      "0s - loss: 0.0332\n",
      "Epoch 38/100\n",
      "0s - loss: 0.0330\n",
      "Epoch 39/100\n",
      "0s - loss: 0.0331\n",
      "Epoch 40/100\n",
      "0s - loss: 0.0328\n",
      "Epoch 41/100\n",
      "0s - loss: 0.0332\n",
      "Epoch 42/100\n",
      "0s - loss: 0.0329\n",
      "Epoch 43/100\n",
      "0s - loss: 0.0334\n",
      "Epoch 44/100\n",
      "0s - loss: 0.0330\n",
      "Epoch 45/100\n",
      "0s - loss: 0.0330\n",
      "Epoch 46/100\n",
      "0s - loss: 0.0331\n",
      "Epoch 47/100\n",
      "0s - loss: 0.0329\n",
      "Epoch 48/100\n",
      "0s - loss: 0.0330\n",
      "Epoch 49/100\n",
      "0s - loss: 0.0333\n",
      "Epoch 50/100\n",
      "0s - loss: 0.0328\n",
      "Epoch 51/100\n",
      "0s - loss: 0.0330\n",
      "Epoch 52/100\n",
      "0s - loss: 0.0332\n",
      "Epoch 53/100\n",
      "0s - loss: 0.0327\n",
      "Epoch 54/100\n",
      "0s - loss: 0.0330\n",
      "Epoch 55/100\n",
      "0s - loss: 0.0327\n",
      "Epoch 56/100\n",
      "0s - loss: 0.0328\n",
      "Epoch 57/100\n",
      "0s - loss: 0.0334\n",
      "Epoch 58/100\n",
      "0s - loss: 0.0333\n",
      "Epoch 59/100\n",
      "0s - loss: 0.0330\n",
      "Epoch 60/100\n",
      "0s - loss: 0.0328\n",
      "Epoch 61/100\n",
      "0s - loss: 0.0328\n",
      "Epoch 62/100\n",
      "0s - loss: 0.0327\n",
      "Epoch 63/100\n",
      "0s - loss: 0.0326\n",
      "Epoch 64/100\n",
      "0s - loss: 0.0329\n",
      "Epoch 65/100\n",
      "0s - loss: 0.0329\n",
      "Epoch 66/100\n",
      "0s - loss: 0.0338\n",
      "Epoch 67/100\n",
      "0s - loss: 0.0327\n",
      "Epoch 68/100\n",
      "0s - loss: 0.0329\n",
      "Epoch 69/100\n",
      "0s - loss: 0.0327\n",
      "Epoch 70/100\n",
      "0s - loss: 0.0326\n",
      "Epoch 71/100\n",
      "0s - loss: 0.0326\n",
      "Epoch 72/100\n",
      "0s - loss: 0.0328\n",
      "Epoch 73/100\n",
      "0s - loss: 0.0329\n",
      "Epoch 74/100\n",
      "0s - loss: 0.0326\n",
      "Epoch 75/100\n",
      "0s - loss: 0.0326\n",
      "Epoch 76/100\n",
      "0s - loss: 0.0324\n",
      "Epoch 77/100\n",
      "0s - loss: 0.0332\n",
      "Epoch 78/100\n",
      "0s - loss: 0.0330\n",
      "Epoch 79/100\n",
      "0s - loss: 0.0331\n",
      "Epoch 80/100\n",
      "0s - loss: 0.0350\n",
      "Epoch 81/100\n",
      "0s - loss: 0.0330\n",
      "Epoch 82/100\n",
      "0s - loss: 0.0334\n",
      "Epoch 83/100\n",
      "0s - loss: 0.0329\n",
      "Epoch 84/100\n",
      "0s - loss: 0.0327\n",
      "Epoch 85/100\n",
      "0s - loss: 0.0332\n",
      "Epoch 86/100\n",
      "0s - loss: 0.0328\n",
      "Epoch 87/100\n",
      "0s - loss: 0.0328\n",
      "Epoch 88/100\n",
      "0s - loss: 0.0326\n",
      "Epoch 89/100\n",
      "0s - loss: 0.0326\n",
      "Epoch 90/100\n",
      "0s - loss: 0.0324\n",
      "Epoch 91/100\n",
      "0s - loss: 0.0327\n",
      "Epoch 92/100\n",
      "0s - loss: 0.0329\n",
      "Epoch 93/100\n",
      "0s - loss: 0.0327\n",
      "Epoch 94/100\n",
      "0s - loss: 0.0328\n",
      "Epoch 95/100\n",
      "0s - loss: 0.0326\n",
      "Epoch 96/100\n",
      "0s - loss: 0.0326\n",
      "Epoch 97/100\n",
      "0s - loss: 0.0324\n",
      "Epoch 98/100\n",
      "0s - loss: 0.0326\n",
      "Epoch 99/100\n",
      "0s - loss: 0.0323\n",
      "Epoch 100/100\n",
      "0s - loss: 0.0328\n"
     ]
    },
    {
     "data": {
      "text/plain": [
       "<keras.callbacks.History at 0x7fca209ba6a0>"
      ]
     },
     "execution_count": 61,
     "metadata": {},
     "output_type": "execute_result"
    }
   ],
   "source": [
    "model = Sequential()\n",
    "model.add(LSTM(400,input_shape=(look_back, 1)))\n",
    "model.add(Dense(1))\n",
    "model.compile(loss='mean_squared_error', optimizer='adam')\n",
    "model.fit(trainX, trainY, epochs=100, batch_size=40, verbose=2)"
   ]
  },
  {
   "cell_type": "code",
   "execution_count": 62,
   "metadata": {},
   "outputs": [
    {
     "data": {
      "image/png": "[encoded data removed]",
      "text/plain": [
       "<matplotlib.figure.Figure at 0x7fca22930b00>"
      ]
     },
     "metadata": {},
     "output_type": "display_data"
    },
    {
     "data": {
      "image/png": "[encoded data removed]",
      "text/plain": [
       "<matplotlib.figure.Figure at 0x7fca20788a58>"
      ]
     },
     "metadata": {},
     "output_type": "display_data"
    }
   ],
   "source": [
    "import matplotlib.pyplot as plt\n",
    "import math\n",
    "\n",
    "trainPredict = scaler1.inverse_transform(model.predict(trainX))\n",
    "testPredict = scaler1.inverse_transform(model.predict(testX))\n",
    "# calculate root mean squared error\n",
    "#trainScore = math.sqrt(mean_squared_error(trainY[0], trainPredict[:,0]))\n",
    "#print('Train Score: %.2f RMSE' % (trainScore))\n",
    "\n",
    "#trainPredictPlot = np.empty_like(lstm_input)\n",
    "#trainPredictPlot[:, :] = np.nan\n",
    "#trainPredictPlot[look_back:len(trainPredict)+look_back, :] = trainPredict\n",
    "truth_train = scaler1.inverse_transform(train_input[:,0].reshape(-1, 1))\n",
    "truth_test = scaler1.inverse_transform(test_input[:,0].reshape(-1, 1))\n",
    "\n",
    "plt.plot(truth_train)\n",
    "plt.plot(trainPredict)\n",
    "plt.show()\n",
    "plt.plot(truth_test)\n",
    "plt.plot(testPredict)\n",
    "plt.show()"
   ]
  },
  {
   "cell_type": "code",
   "execution_count": 64,
   "metadata": {},
   "outputs": [
    {
     "name": "stdout",
     "output_type": "stream",
     "text": [
      "Train Score: 1.38 RMSE\n",
      "Mean: 1.50 RMSE\n",
      "Test Score: 1.53 RMSE\n",
      "Mean: 1.57 RMSE\n"
     ]
    }
   ],
   "source": [
    "from sklearn.metrics import mean_squared_error\n",
    "trainScore = math.sqrt(mean_squared_error(truth_train, trainPredict[:,0]))\n",
    "print('Train Score: %.2f RMSE' % (trainScore))\n",
    "\n",
    "mean = truth_train.copy()\n",
    "mean.fill(truth_train.mean())\n",
    "trainMean = math.sqrt(mean_squared_error(truth_train, mean[:,0]))\n",
    "print('Mean: %.2f RMSE' % (trainMean))\n",
    "\n",
    "testScore = math.sqrt(mean_squared_error(truth_test, testPredict[:,0]))\n",
    "print('Test Score: %.2f RMSE' % (testScore))\n",
    "\n",
    "mean2 = truth_test.copy()\n",
    "mean2.fill(truth_test.mean())\n",
    "testMean = math.sqrt(mean_squared_error(truth_test, mean2[:,0]))\n",
    "print('Mean: %.2f RMSE' % (testMean))\n"
   ]
  },
  {
   "cell_type": "code",
   "execution_count": null,
   "metadata": {
    "collapsed": true
   },
   "outputs": [],
   "source": []
  },
  {
   "cell_type": "code",
   "execution_count": null,
   "metadata": {
    "collapsed": true
   },
   "outputs": [],
   "source": []
  }
 ],
 "metadata": {
  "kernelspec": {
   "display_name": "Python 3",
   "language": "python",
   "name": "python3"
  },
  "language_info": {
   "codemirror_mode": {
    "name": "ipython",
    "version": 3
   },
   "file_extension": ".py",
   "mimetype": "text/x-python",
   "name": "python",
   "nbconvert_exporter": "python",
   "pygments_lexer": "ipython3",
   "version": "3.6.2"
  }
 },
 "nbformat": 4,
 "nbformat_minor": 2
}
