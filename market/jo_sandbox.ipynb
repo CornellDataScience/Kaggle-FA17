{
 "cells": [
  {
   "cell_type": "code",
   "execution_count": 11,
   "metadata": {
    "collapsed": true
   },
   "outputs": [],
   "source": [
    "import pandas as pd"
   ]
  },
  {
   "cell_type": "code",
   "execution_count": 12,
   "metadata": {
    "collapsed": true
   },
   "outputs": [],
   "source": [
    "import pickle\n",
    "\n",
    "df_train = pickle.load(open(\"train_pickle.pkl\", \"rb\"))"
   ]
  },
  {
   "cell_type": "code",
   "execution_count": 14,
   "metadata": {
    "collapsed": true
   },
   "outputs": [],
   "source": [
    "df_test = pickle.load(open(\"test_pickle.pkl\", \"rb\"))"
   ]
  },
  {
   "cell_type": "code",
   "execution_count": null,
   "metadata": {
    "collapsed": true
   },
   "outputs": [],
   "source": [
    "df_train.memory_usage(index=True).sum()/ 1024**2"
   ]
  },
  {
   "cell_type": "code",
   "execution_count": null,
   "metadata": {
    "collapsed": true
   },
   "outputs": [],
   "source": [
    "df_items = pd.read_csv(\"items.csv\")\n",
    "print(df_items.shape)\n",
    "print(df_items.head())\n",
    "# print(df_items.groupby(\"perishable\").count())\n",
    "# print(df_items.groupby(\"family\").count())\n",
    "# print(df_items.groupby(\"class\").count())\n"
   ]
  },
  {
   "cell_type": "code",
   "execution_count": null,
   "metadata": {
    "collapsed": true
   },
   "outputs": [],
   "source": [
    "df_stores = pd.read_csv(\"stores.csv\")"
   ]
  },
  {
   "cell_type": "code",
   "execution_count": null,
   "metadata": {
    "collapsed": true
   },
   "outputs": [],
   "source": [
    "df_train.loc[(df_train[\"item_nbr\"] == 96995) & (df_train[\"store_nbr\"] == 44)]"
   ]
  },
  {
   "cell_type": "code",
   "execution_count": null,
   "metadata": {
    "collapsed": true
   },
   "outputs": [],
   "source": [
    "# There are 54 stores - not that many, perhaps one-hot able? or simply handle as categorical\n",
    "df_stores.shape"
   ]
  },
  {
   "cell_type": "code",
   "execution_count": 15,
   "metadata": {
    "collapsed": true
   },
   "outputs": [],
   "source": [
    "from catboost import CatBoostRegressor"
   ]
  },
  {
   "cell_type": "code",
   "execution_count": 16,
   "metadata": {
    "collapsed": true
   },
   "outputs": [],
   "source": [
    "model = CatBoostRegressor(\n",
    "        depth=6, \n",
    "        l2_leaf_reg=3, \n",
    "        learning_rate=0.1,\n",
    "        iterations=300,\n",
    "        loss_function='RMSE',\n",
    "        eval_metric='RMSE',\n",
    "        random_seed=1337)"
   ]
  },
  {
   "cell_type": "code",
   "execution_count": 17,
   "metadata": {},
   "outputs": [
    {
     "name": "stdout",
     "output_type": "stream",
     "text": [
      "Borders for float features generated\n",
      "0:\tlearn 25.65644613\ttotal: 3.31s\tremaining: 16m 28s\n",
      "1:\tlearn 25.39441525\ttotal: 6.51s\tremaining: 16m 10s\n",
      "2:\tlearn 25.178733\ttotal: 9.82s\tremaining: 16m 12s\n",
      "3:\tlearn 25.0041215\ttotal: 13.3s\tremaining: 16m 21s\n",
      "4:\tlearn 24.86051157\ttotal: 16.5s\tremaining: 16m 13s\n",
      "5:\tlearn 24.74345405\ttotal: 19.7s\tremaining: 16m 6s\n",
      "6:\tlearn 24.64654029\ttotal: 22.8s\tremaining: 15m 55s\n",
      "7:\tlearn 24.5658728\ttotal: 26.2s\tremaining: 15m 54s\n",
      "8:\tlearn 24.50003148\ttotal: 29.5s\tremaining: 15m 53s\n",
      "9:\tlearn 24.4459595\ttotal: 32.8s\tremaining: 15m 52s\n",
      "10:\tlearn 24.39982898\ttotal: 35.9s\tremaining: 15m 42s\n",
      "11:\tlearn 24.3634567\ttotal: 39.2s\tremaining: 15m 40s\n",
      "12:\tlearn 24.33185183\ttotal: 42.4s\tremaining: 15m 36s\n",
      "13:\tlearn 24.30795836\ttotal: 45.7s\tremaining: 15m 34s\n",
      "14:\tlearn 24.28253208\ttotal: 48.9s\tremaining: 15m 28s\n",
      "15:\tlearn 24.2645743\ttotal: 51.9s\tremaining: 15m 20s\n",
      "16:\tlearn 24.25019738\ttotal: 55.2s\tremaining: 15m 18s\n",
      "17:\tlearn 24.23829582\ttotal: 58.6s\tremaining: 15m 17s\n",
      "18:\tlearn 24.22436121\ttotal: 1m 1s\tremaining: 15m 12s\n",
      "19:\tlearn 24.21503099\ttotal: 1m 4s\tremaining: 15m 6s\n",
      "20:\tlearn 24.20505391\ttotal: 1m 8s\tremaining: 15m 10s\n",
      "21:\tlearn 24.19870343\ttotal: 1m 12s\tremaining: 15m 10s\n",
      "22:\tlearn 24.19338281\ttotal: 1m 15s\tremaining: 15m 5s\n",
      "23:\tlearn 24.18734256\ttotal: 1m 18s\tremaining: 15m\n",
      "24:\tlearn 24.18117797\ttotal: 1m 21s\tremaining: 14m 54s\n",
      "25:\tlearn 24.17633251\ttotal: 1m 24s\tremaining: 14m 51s\n",
      "26:\tlearn 24.17081132\ttotal: 1m 27s\tremaining: 14m 48s\n",
      "27:\tlearn 24.16779179\ttotal: 1m 31s\tremaining: 14m 45s\n",
      "28:\tlearn 24.16368421\ttotal: 1m 34s\tremaining: 14m 39s\n",
      "29:\tlearn 24.15960982\ttotal: 1m 37s\tremaining: 14m 35s\n",
      "30:\tlearn 24.15587603\ttotal: 1m 40s\tremaining: 14m 31s\n",
      "31:\tlearn 24.15339616\ttotal: 1m 43s\tremaining: 14m 28s\n",
      "32:\tlearn 24.15048945\ttotal: 1m 46s\tremaining: 14m 25s\n",
      "33:\tlearn 24.1479307\ttotal: 1m 50s\tremaining: 14m 20s\n",
      "34:\tlearn 24.14443807\ttotal: 1m 53s\tremaining: 14m 15s\n",
      "35:\tlearn 24.14205912\ttotal: 1m 55s\tremaining: 14m 8s\n",
      "36:\tlearn 24.1393378\ttotal: 1m 58s\tremaining: 13m 58s\n",
      "37:\tlearn 24.13763225\ttotal: 2m\tremaining: 13m 50s\n",
      "38:\tlearn 24.13515964\ttotal: 2m 2s\tremaining: 13m 41s\n",
      "39:\tlearn 24.13365827\ttotal: 2m 4s\tremaining: 13m 32s\n",
      "40:\tlearn 24.13168518\ttotal: 2m 7s\tremaining: 13m 24s\n",
      "41:\tlearn 24.1299392\ttotal: 2m 9s\tremaining: 13m 16s\n",
      "42:\tlearn 24.12683496\ttotal: 2m 11s\tremaining: 13m 8s\n",
      "43:\tlearn 24.12471779\ttotal: 2m 14s\tremaining: 13m\n",
      "44:\tlearn 24.1230183\ttotal: 2m 16s\tremaining: 12m 53s\n",
      "45:\tlearn 24.12172491\ttotal: 2m 18s\tremaining: 12m 46s\n",
      "46:\tlearn 24.12005359\ttotal: 2m 21s\tremaining: 12m 39s\n",
      "47:\tlearn 24.11837372\ttotal: 2m 23s\tremaining: 12m 32s\n",
      "48:\tlearn 24.11462757\ttotal: 2m 25s\tremaining: 12m 25s\n",
      "49:\tlearn 24.11336826\ttotal: 2m 27s\tremaining: 12m 19s\n",
      "50:\tlearn 24.11155341\ttotal: 2m 30s\tremaining: 12m 13s\n",
      "51:\tlearn 24.10927843\ttotal: 2m 32s\tremaining: 12m 7s\n",
      "52:\tlearn 24.10731029\ttotal: 2m 34s\tremaining: 12m\n",
      "53:\tlearn 24.10576766\ttotal: 2m 36s\tremaining: 11m 54s\n",
      "54:\tlearn 24.10431373\ttotal: 2m 39s\tremaining: 11m 49s\n",
      "55:\tlearn 24.10257782\ttotal: 2m 41s\tremaining: 11m 43s\n",
      "56:\tlearn 24.10117417\ttotal: 2m 43s\tremaining: 11m 38s\n",
      "57:\tlearn 24.09975198\ttotal: 2m 46s\tremaining: 11m 32s\n",
      "58:\tlearn 24.09821792\ttotal: 2m 48s\tremaining: 11m 27s\n",
      "59:\tlearn 24.09673007\ttotal: 2m 50s\tremaining: 11m 22s\n",
      "60:\tlearn 24.09453824\ttotal: 2m 52s\tremaining: 11m 17s\n",
      "61:\tlearn 24.09310783\ttotal: 2m 55s\tremaining: 11m 12s\n",
      "62:\tlearn 24.0910083\ttotal: 2m 57s\tremaining: 11m 8s\n",
      "63:\tlearn 24.08968662\ttotal: 3m\tremaining: 11m 3s\n",
      "64:\tlearn 24.08888897\ttotal: 3m 2s\tremaining: 10m 59s\n",
      "65:\tlearn 24.08684828\ttotal: 3m 4s\tremaining: 10m 54s\n",
      "66:\tlearn 24.08545475\ttotal: 3m 7s\tremaining: 10m 50s\n",
      "67:\tlearn 24.08456366\ttotal: 3m 9s\tremaining: 10m 45s\n",
      "68:\tlearn 24.08334484\ttotal: 3m 11s\tremaining: 10m 41s\n",
      "69:\tlearn 24.08207784\ttotal: 3m 13s\tremaining: 10m 37s\n",
      "70:\tlearn 24.08057602\ttotal: 3m 16s\tremaining: 10m 33s\n",
      "71:\tlearn 24.07997165\ttotal: 3m 18s\tremaining: 10m 29s\n",
      "72:\tlearn 24.07948838\ttotal: 3m 20s\tremaining: 10m 24s\n",
      "73:\tlearn 24.07864363\ttotal: 3m 23s\tremaining: 10m 20s\n",
      "74:\tlearn 24.07803065\ttotal: 3m 25s\tremaining: 10m 16s\n",
      "75:\tlearn 24.07704532\ttotal: 3m 27s\tremaining: 10m 12s\n",
      "76:\tlearn 24.07568495\ttotal: 3m 30s\tremaining: 10m 8s\n",
      "77:\tlearn 24.07458284\ttotal: 3m 32s\tremaining: 10m 4s\n",
      "78:\tlearn 24.07371044\ttotal: 3m 34s\tremaining: 10m\n",
      "79:\tlearn 24.07321318\ttotal: 3m 37s\tremaining: 9m 57s\n",
      "80:\tlearn 24.07233155\ttotal: 3m 39s\tremaining: 9m 54s\n",
      "81:\tlearn 24.07128258\ttotal: 3m 42s\tremaining: 9m 50s\n",
      "82:\tlearn 24.07002105\ttotal: 3m 44s\tremaining: 9m 46s\n",
      "83:\tlearn 24.06935976\ttotal: 3m 46s\tremaining: 9m 42s\n",
      "84:\tlearn 24.06864819\ttotal: 3m 48s\tremaining: 9m 38s\n",
      "85:\tlearn 24.06808928\ttotal: 3m 51s\tremaining: 9m 35s\n",
      "86:\tlearn 24.06665141\ttotal: 3m 53s\tremaining: 9m 31s\n",
      "87:\tlearn 24.06611499\ttotal: 3m 55s\tremaining: 9m 27s\n",
      "88:\tlearn 24.06576158\ttotal: 3m 58s\tremaining: 9m 24s\n",
      "89:\tlearn 24.06512603\ttotal: 4m\tremaining: 9m 20s\n",
      "90:\tlearn 24.06436349\ttotal: 4m 2s\tremaining: 9m 17s\n",
      "91:\tlearn 24.06386927\ttotal: 4m 4s\tremaining: 9m 13s\n",
      "92:\tlearn 24.06321774\ttotal: 4m 7s\tremaining: 9m 10s\n",
      "93:\tlearn 24.062801\ttotal: 4m 9s\tremaining: 9m 6s\n",
      "94:\tlearn 24.06230373\ttotal: 4m 11s\tremaining: 9m 3s\n",
      "95:\tlearn 24.06151559\ttotal: 4m 14s\tremaining: 9m\n",
      "96:\tlearn 24.06091649\ttotal: 4m 16s\tremaining: 8m 56s\n",
      "97:\tlearn 24.06036874\ttotal: 4m 18s\tremaining: 8m 53s\n",
      "98:\tlearn 24.05920218\ttotal: 4m 20s\tremaining: 8m 49s\n",
      "99:\tlearn 24.05863128\ttotal: 4m 23s\tremaining: 8m 46s\n",
      "100:\tlearn 24.05834843\ttotal: 4m 25s\tremaining: 8m 43s\n",
      "101:\tlearn 24.05814224\ttotal: 4m 27s\tremaining: 8m 40s\n",
      "102:\tlearn 24.05666269\ttotal: 4m 30s\tremaining: 8m 36s\n",
      "103:\tlearn 24.05546164\ttotal: 4m 32s\tremaining: 8m 33s\n",
      "104:\tlearn 24.05128293\ttotal: 4m 34s\tremaining: 8m 30s\n",
      "105:\tlearn 24.05074523\ttotal: 4m 36s\tremaining: 8m 26s\n",
      "106:\tlearn 24.05025956\ttotal: 4m 39s\tremaining: 8m 23s\n",
      "107:\tlearn 24.04880748\ttotal: 4m 41s\tremaining: 8m 20s\n",
      "108:\tlearn 24.04818861\ttotal: 4m 43s\tremaining: 8m 17s\n",
      "109:\tlearn 24.04790626\ttotal: 4m 46s\tremaining: 8m 14s\n",
      "110:\tlearn 24.04727249\ttotal: 4m 48s\tremaining: 8m 11s\n",
      "111:\tlearn 24.04537644\ttotal: 4m 50s\tremaining: 8m 8s\n",
      "112:\tlearn 24.04426181\ttotal: 4m 53s\tremaining: 8m 5s\n",
      "113:\tlearn 24.04106719\ttotal: 4m 55s\tremaining: 8m 2s\n",
      "114:\tlearn 24.04069725\ttotal: 4m 57s\tremaining: 7m 59s\n",
      "115:\tlearn 24.04031196\ttotal: 5m\tremaining: 7m 56s\n",
      "116:\tlearn 24.03958119\ttotal: 5m 2s\tremaining: 7m 53s\n",
      "117:\tlearn 24.0387411\ttotal: 5m 4s\tremaining: 7m 50s\n",
      "118:\tlearn 24.03784006\ttotal: 5m 7s\tremaining: 7m 47s\n",
      "119:\tlearn 24.03706806\ttotal: 5m 9s\tremaining: 7m 44s\n",
      "120:\tlearn 24.03611291\ttotal: 5m 11s\tremaining: 7m 41s\n",
      "121:\tlearn 24.03472771\ttotal: 5m 13s\tremaining: 7m 38s\n",
      "122:\tlearn 24.0335037\ttotal: 5m 16s\tremaining: 7m 35s\n",
      "123:\tlearn 24.03244712\ttotal: 5m 18s\tremaining: 7m 32s\n",
      "124:\tlearn 24.03181333\ttotal: 5m 20s\tremaining: 7m 29s\n",
      "125:\tlearn 24.0312192\ttotal: 5m 22s\tremaining: 7m 25s\n",
      "126:\tlearn 24.03097548\ttotal: 5m 25s\tremaining: 7m 22s\n",
      "127:\tlearn 24.03036712\ttotal: 5m 27s\tremaining: 7m 20s\n",
      "128:\tlearn 24.02887505\ttotal: 5m 29s\tremaining: 7m 17s\n",
      "129:\tlearn 24.0286597\ttotal: 5m 32s\tremaining: 7m 14s\n",
      "130:\tlearn 24.0272115\ttotal: 5m 34s\tremaining: 7m 11s\n",
      "131:\tlearn 24.02667086\ttotal: 5m 36s\tremaining: 7m 8s\n",
      "132:\tlearn 24.02622474\ttotal: 5m 38s\tremaining: 7m 5s\n",
      "133:\tlearn 24.02534635\ttotal: 5m 40s\tremaining: 7m 2s\n",
      "134:\tlearn 24.02470949\ttotal: 5m 43s\tremaining: 6m 59s\n",
      "135:\tlearn 24.02391451\ttotal: 5m 45s\tremaining: 6m 56s\n",
      "136:\tlearn 24.02252826\ttotal: 5m 47s\tremaining: 6m 53s\n",
      "137:\tlearn 24.02099327\ttotal: 5m 49s\tremaining: 6m 50s\n",
      "138:\tlearn 24.02011497\ttotal: 5m 51s\tremaining: 6m 47s\n",
      "139:\tlearn 24.01900992\ttotal: 5m 54s\tremaining: 6m 44s\n",
      "140:\tlearn 24.01845441\ttotal: 5m 56s\tremaining: 6m 41s\n",
      "141:\tlearn 24.01791341\ttotal: 5m 58s\tremaining: 6m 39s\n",
      "142:\tlearn 24.01672873\ttotal: 6m 1s\tremaining: 6m 36s\n",
      "143:\tlearn 24.01586603\ttotal: 6m 3s\tremaining: 6m 33s\n",
      "144:\tlearn 24.01489721\ttotal: 6m 5s\tremaining: 6m 30s\n",
      "145:\tlearn 24.01449469\ttotal: 6m 7s\tremaining: 6m 28s\n",
      "146:\tlearn 24.01354213\ttotal: 6m 10s\tremaining: 6m 25s\n",
      "147:\tlearn 24.01303116\ttotal: 6m 12s\tremaining: 6m 22s\n",
      "148:\tlearn 24.01274971\ttotal: 6m 14s\tremaining: 6m 19s\n",
      "149:\tlearn 24.01200448\ttotal: 6m 17s\tremaining: 6m 17s\n",
      "150:\tlearn 24.01066195\ttotal: 6m 19s\tremaining: 6m 14s\n"
     ]
    },
    {
     "name": "stdout",
     "output_type": "stream",
     "text": [
      "151:\tlearn 24.00967272\ttotal: 6m 21s\tremaining: 6m 11s\n",
      "152:\tlearn 24.00904933\ttotal: 6m 23s\tremaining: 6m 8s\n",
      "153:\tlearn 24.00864525\ttotal: 6m 26s\tremaining: 6m 6s\n",
      "154:\tlearn 24.00839541\ttotal: 6m 28s\tremaining: 6m 3s\n",
      "155:\tlearn 24.00559471\ttotal: 6m 30s\tremaining: 6m\n",
      "156:\tlearn 24.00522718\ttotal: 6m 33s\tremaining: 5m 58s\n",
      "157:\tlearn 24.00418576\ttotal: 6m 35s\tremaining: 5m 55s\n",
      "158:\tlearn 24.00326376\ttotal: 6m 37s\tremaining: 5m 52s\n",
      "159:\tlearn 24.00277738\ttotal: 6m 39s\tremaining: 5m 49s\n",
      "160:\tlearn 24.00178601\ttotal: 6m 42s\tremaining: 5m 47s\n",
      "161:\tlearn 24.00089797\ttotal: 6m 44s\tremaining: 5m 44s\n",
      "162:\tlearn 23.99998989\ttotal: 6m 46s\tremaining: 5m 41s\n",
      "163:\tlearn 23.99917327\ttotal: 6m 48s\tremaining: 5m 39s\n",
      "164:\tlearn 23.99853075\ttotal: 6m 51s\tremaining: 5m 36s\n",
      "165:\tlearn 23.99793244\ttotal: 6m 53s\tremaining: 5m 33s\n",
      "166:\tlearn 23.99745161\ttotal: 6m 55s\tremaining: 5m 31s\n",
      "167:\tlearn 23.99717605\ttotal: 6m 58s\tremaining: 5m 28s\n",
      "168:\tlearn 23.99634926\ttotal: 7m\tremaining: 5m 26s\n",
      "169:\tlearn 23.99570747\ttotal: 7m 2s\tremaining: 5m 23s\n",
      "170:\tlearn 23.99362715\ttotal: 7m 5s\tremaining: 5m 20s\n",
      "171:\tlearn 23.99289453\ttotal: 7m 7s\tremaining: 5m 18s\n",
      "172:\tlearn 23.99127851\ttotal: 7m 9s\tremaining: 5m 15s\n",
      "173:\tlearn 23.99074672\ttotal: 7m 12s\tremaining: 5m 12s\n",
      "174:\tlearn 23.99042308\ttotal: 7m 14s\tremaining: 5m 10s\n",
      "175:\tlearn 23.99016344\ttotal: 7m 16s\tremaining: 5m 7s\n",
      "176:\tlearn 23.98978445\ttotal: 7m 18s\tremaining: 5m 4s\n",
      "177:\tlearn 23.9890613\ttotal: 7m 21s\tremaining: 5m 2s\n",
      "178:\tlearn 23.98867654\ttotal: 7m 23s\tremaining: 4m 59s\n",
      "179:\tlearn 23.98806553\ttotal: 7m 25s\tremaining: 4m 57s\n",
      "180:\tlearn 23.98781748\ttotal: 7m 27s\tremaining: 4m 54s\n",
      "181:\tlearn 23.98737444\ttotal: 7m 30s\tremaining: 4m 51s\n",
      "182:\tlearn 23.98713631\ttotal: 7m 32s\tremaining: 4m 49s\n",
      "183:\tlearn 23.98644669\ttotal: 7m 34s\tremaining: 4m 46s\n",
      "184:\tlearn 23.98576321\ttotal: 7m 36s\tremaining: 4m 44s\n",
      "185:\tlearn 23.98417728\ttotal: 7m 39s\tremaining: 4m 41s\n",
      "186:\tlearn 23.98372874\ttotal: 7m 41s\tremaining: 4m 38s\n",
      "187:\tlearn 23.98334431\ttotal: 7m 43s\tremaining: 4m 36s\n",
      "188:\tlearn 23.98315838\ttotal: 7m 46s\tremaining: 4m 33s\n",
      "189:\tlearn 23.98264251\ttotal: 7m 48s\tremaining: 4m 31s\n",
      "190:\tlearn 23.98204871\ttotal: 7m 50s\tremaining: 4m 28s\n",
      "191:\tlearn 23.98170741\ttotal: 7m 53s\tremaining: 4m 26s\n",
      "192:\tlearn 23.98129942\ttotal: 7m 55s\tremaining: 4m 23s\n",
      "193:\tlearn 23.98068768\ttotal: 7m 57s\tremaining: 4m 21s\n",
      "194:\tlearn 23.98018942\ttotal: 8m\tremaining: 4m 18s\n",
      "195:\tlearn 23.97974847\ttotal: 8m 2s\tremaining: 4m 15s\n",
      "196:\tlearn 23.97929734\ttotal: 8m 4s\tremaining: 4m 13s\n",
      "197:\tlearn 23.97874224\ttotal: 8m 6s\tremaining: 4m 10s\n",
      "198:\tlearn 23.97855423\ttotal: 8m 9s\tremaining: 4m 8s\n",
      "199:\tlearn 23.9778883\ttotal: 8m 11s\tremaining: 4m 5s\n",
      "200:\tlearn 23.97751915\ttotal: 8m 13s\tremaining: 4m 3s\n",
      "201:\tlearn 23.97707149\ttotal: 8m 15s\tremaining: 4m\n",
      "202:\tlearn 23.97596056\ttotal: 8m 18s\tremaining: 3m 58s\n",
      "203:\tlearn 23.97549557\ttotal: 8m 20s\tremaining: 3m 55s\n",
      "204:\tlearn 23.97518007\ttotal: 8m 22s\tremaining: 3m 52s\n",
      "205:\tlearn 23.97455048\ttotal: 8m 24s\tremaining: 3m 50s\n",
      "206:\tlearn 23.97411934\ttotal: 8m 27s\tremaining: 3m 47s\n",
      "207:\tlearn 23.97356663\ttotal: 8m 29s\tremaining: 3m 45s\n",
      "208:\tlearn 23.97302323\ttotal: 8m 31s\tremaining: 3m 42s\n",
      "209:\tlearn 23.97133701\ttotal: 8m 34s\tremaining: 3m 40s\n",
      "210:\tlearn 23.97079948\ttotal: 8m 36s\tremaining: 3m 37s\n",
      "211:\tlearn 23.97010877\ttotal: 8m 38s\tremaining: 3m 35s\n",
      "212:\tlearn 23.96990264\ttotal: 8m 40s\tremaining: 3m 32s\n",
      "213:\tlearn 23.96974951\ttotal: 8m 43s\tremaining: 3m 30s\n",
      "214:\tlearn 23.96861382\ttotal: 8m 45s\tremaining: 3m 27s\n",
      "215:\tlearn 23.96792616\ttotal: 8m 47s\tremaining: 3m 25s\n",
      "216:\tlearn 23.96714248\ttotal: 8m 49s\tremaining: 3m 22s\n",
      "217:\tlearn 23.965673\ttotal: 8m 52s\tremaining: 3m 20s\n",
      "218:\tlearn 23.9649026\ttotal: 8m 54s\tremaining: 3m 17s\n",
      "219:\tlearn 23.96475361\ttotal: 8m 56s\tremaining: 3m 15s\n",
      "220:\tlearn 23.96377337\ttotal: 8m 58s\tremaining: 3m 12s\n",
      "221:\tlearn 23.96304361\ttotal: 9m 1s\tremaining: 3m 10s\n",
      "222:\tlearn 23.96287244\ttotal: 9m 3s\tremaining: 3m 7s\n",
      "223:\tlearn 23.96238894\ttotal: 9m 5s\tremaining: 3m 5s\n",
      "224:\tlearn 23.96167843\ttotal: 9m 8s\tremaining: 3m 2s\n",
      "225:\tlearn 23.96129258\ttotal: 9m 10s\tremaining: 3m\n",
      "226:\tlearn 23.96101947\ttotal: 9m 12s\tremaining: 2m 57s\n",
      "227:\tlearn 23.96014785\ttotal: 9m 15s\tremaining: 2m 55s\n",
      "228:\tlearn 23.95993903\ttotal: 9m 17s\tremaining: 2m 52s\n",
      "229:\tlearn 23.95945349\ttotal: 9m 19s\tremaining: 2m 50s\n",
      "230:\tlearn 23.95893716\ttotal: 9m 21s\tremaining: 2m 47s\n",
      "231:\tlearn 23.95846213\ttotal: 9m 24s\tremaining: 2m 45s\n",
      "232:\tlearn 23.95815508\ttotal: 9m 26s\tremaining: 2m 42s\n",
      "233:\tlearn 23.95784488\ttotal: 9m 28s\tremaining: 2m 40s\n",
      "234:\tlearn 23.9575249\ttotal: 9m 31s\tremaining: 2m 37s\n",
      "235:\tlearn 23.95703333\ttotal: 9m 33s\tremaining: 2m 35s\n",
      "236:\tlearn 23.95663541\ttotal: 9m 35s\tremaining: 2m 33s\n",
      "237:\tlearn 23.95592028\ttotal: 9m 38s\tremaining: 2m 30s\n",
      "238:\tlearn 23.95536058\ttotal: 9m 40s\tremaining: 2m 28s\n",
      "239:\tlearn 23.95505665\ttotal: 9m 42s\tremaining: 2m 25s\n",
      "240:\tlearn 23.95461703\ttotal: 9m 44s\tremaining: 2m 23s\n",
      "241:\tlearn 23.95434323\ttotal: 9m 47s\tremaining: 2m 20s\n",
      "242:\tlearn 23.95418627\ttotal: 9m 49s\tremaining: 2m 18s\n",
      "243:\tlearn 23.95380964\ttotal: 9m 51s\tremaining: 2m 15s\n",
      "244:\tlearn 23.95357724\ttotal: 9m 54s\tremaining: 2m 13s\n",
      "245:\tlearn 23.95339562\ttotal: 9m 56s\tremaining: 2m 10s\n",
      "246:\tlearn 23.952078\ttotal: 9m 58s\tremaining: 2m 8s\n",
      "247:\tlearn 23.95183126\ttotal: 10m\tremaining: 2m 6s\n",
      "248:\tlearn 23.95134689\ttotal: 10m 3s\tremaining: 2m 3s\n",
      "249:\tlearn 23.95106846\ttotal: 10m 5s\tremaining: 2m 1s\n",
      "250:\tlearn 23.95071971\ttotal: 10m 7s\tremaining: 1m 58s\n",
      "251:\tlearn 23.95026842\ttotal: 10m 9s\tremaining: 1m 56s\n",
      "252:\tlearn 23.94966206\ttotal: 10m 12s\tremaining: 1m 53s\n",
      "253:\tlearn 23.94932806\ttotal: 10m 14s\tremaining: 1m 51s\n",
      "254:\tlearn 23.94900192\ttotal: 10m 17s\tremaining: 1m 48s\n",
      "255:\tlearn 23.94861556\ttotal: 10m 19s\tremaining: 1m 46s\n",
      "256:\tlearn 23.94823432\ttotal: 10m 21s\tremaining: 1m 44s\n",
      "257:\tlearn 23.94784368\ttotal: 10m 24s\tremaining: 1m 41s\n",
      "258:\tlearn 23.94767947\ttotal: 10m 26s\tremaining: 1m 39s\n",
      "259:\tlearn 23.94750254\ttotal: 10m 29s\tremaining: 1m 36s\n",
      "260:\tlearn 23.94727908\ttotal: 10m 31s\tremaining: 1m 34s\n",
      "261:\tlearn 23.94705468\ttotal: 10m 33s\tremaining: 1m 31s\n",
      "262:\tlearn 23.94659017\ttotal: 10m 36s\tremaining: 1m 29s\n",
      "263:\tlearn 23.94603071\ttotal: 10m 38s\tremaining: 1m 27s\n",
      "264:\tlearn 23.94509111\ttotal: 10m 40s\tremaining: 1m 24s\n",
      "265:\tlearn 23.94462172\ttotal: 10m 42s\tremaining: 1m 22s\n",
      "266:\tlearn 23.94433358\ttotal: 10m 44s\tremaining: 1m 19s\n",
      "267:\tlearn 23.94414668\ttotal: 10m 47s\tremaining: 1m 17s\n",
      "268:\tlearn 23.94405486\ttotal: 10m 49s\tremaining: 1m 14s\n",
      "269:\tlearn 23.94379793\ttotal: 10m 51s\tremaining: 1m 12s\n",
      "270:\tlearn 23.94355415\ttotal: 10m 54s\tremaining: 1m 9s\n",
      "271:\tlearn 23.94339534\ttotal: 10m 56s\tremaining: 1m 7s\n",
      "272:\tlearn 23.94314292\ttotal: 10m 58s\tremaining: 1m 5s\n",
      "273:\tlearn 23.94303675\ttotal: 11m 1s\tremaining: 1m 2s\n",
      "274:\tlearn 23.94240214\ttotal: 11m 3s\tremaining: 1m\n",
      "275:\tlearn 23.94168523\ttotal: 11m 5s\tremaining: 57.9s\n",
      "276:\tlearn 23.94136936\ttotal: 11m 7s\tremaining: 55.5s\n",
      "277:\tlearn 23.94087244\ttotal: 11m 10s\tremaining: 53s\n",
      "278:\tlearn 23.94051524\ttotal: 11m 12s\tremaining: 50.6s\n",
      "279:\tlearn 23.94018374\ttotal: 11m 14s\tremaining: 48.2s\n",
      "280:\tlearn 23.93990953\ttotal: 11m 16s\tremaining: 45.8s\n",
      "281:\tlearn 23.9395053\ttotal: 11m 19s\tremaining: 43.3s\n",
      "282:\tlearn 23.93926471\ttotal: 11m 21s\tremaining: 40.9s\n",
      "283:\tlearn 23.93894242\ttotal: 11m 23s\tremaining: 38.5s\n",
      "284:\tlearn 23.9387171\ttotal: 11m 25s\tremaining: 36.1s\n",
      "285:\tlearn 23.93851504\ttotal: 11m 28s\tremaining: 33.7s\n",
      "286:\tlearn 23.93735308\ttotal: 11m 30s\tremaining: 31.3s\n",
      "287:\tlearn 23.93668615\ttotal: 11m 32s\tremaining: 28.9s\n",
      "288:\tlearn 23.93629338\ttotal: 11m 34s\tremaining: 26.4s\n",
      "289:\tlearn 23.93607985\ttotal: 11m 37s\tremaining: 24s\n",
      "290:\tlearn 23.93564366\ttotal: 11m 39s\tremaining: 21.6s\n",
      "291:\tlearn 23.93550812\ttotal: 11m 41s\tremaining: 19.2s\n",
      "292:\tlearn 23.93520835\ttotal: 11m 44s\tremaining: 16.8s\n",
      "293:\tlearn 23.93492767\ttotal: 11m 46s\tremaining: 14.4s\n",
      "294:\tlearn 23.93487073\ttotal: 11m 48s\tremaining: 12s\n",
      "295:\tlearn 23.93461859\ttotal: 11m 50s\tremaining: 9.61s\n",
      "296:\tlearn 23.93422929\ttotal: 11m 53s\tremaining: 7.2s\n",
      "297:\tlearn 23.93407866\ttotal: 11m 55s\tremaining: 4.8s\n",
      "298:\tlearn 23.93380643\ttotal: 11m 57s\tremaining: 2.4s\n",
      "299:\tlearn 23.93340879\ttotal: 12m\tremaining: 0us\n"
     ]
    },
    {
     "data": {
      "text/plain": [
       "<catboost.core.CatBoostRegressor at 0x7f4c4bd61be0>"
      ]
     },
     "execution_count": 17,
     "metadata": {},
     "output_type": "execute_result"
    }
   ],
   "source": [
    "df_train_mini = df_train.sample(frac=.1)\n",
    "\n",
    "model.fit(\n",
    "        df_train_mini.drop(['unit_sales'], axis=1), df_train_mini[[\"unit_sales\"]],\n",
    "        verbose = True)"
   ]
  },
  {
   "cell_type": "code",
   "execution_count": 18,
   "metadata": {
    "collapsed": true
   },
   "outputs": [],
   "source": [
    "result = model.predict(df_test)"
   ]
  },
  {
   "cell_type": "code",
   "execution_count": null,
   "metadata": {
    "collapsed": true
   },
   "outputs": [],
   "source": []
  },
  {
   "cell_type": "code",
   "execution_count": 20,
   "metadata": {},
   "outputs": [],
   "source": [
    "sales = df_train.set_index(['Year', \"Month\"]).sort_index().groupby(level=[0,1])[\"unit_sales\"].sum()"
   ]
  },
  {
   "cell_type": "code",
   "execution_count": 21,
   "metadata": {},
   "outputs": [
    {
     "data": {
      "image/png": "[encoded data removed]",
      "text/plain": [
       "<matplotlib.figure.Figure at 0x7f4c4bc72278>"
      ]
     },
     "metadata": {},
     "output_type": "display_data"
    }
   ],
   "source": [
    "import matplotlib.pyplot as plt\n",
    "sales.plot()\n",
    "plt.show()"
   ]
  },
  {
   "cell_type": "code",
   "execution_count": 10,
   "metadata": {},
   "outputs": [
    {
     "data": {
      "image/png": "[encoded data removed]",
      "text/plain": [
       "<matplotlib.figure.Figure at 0x7f4c4bc950b8>"
      ]
     },
     "metadata": {},
     "output_type": "display_data"
    }
   ],
   "source": [
    "sales.rolling(window=30, center=False).mean().plot()\n",
    "plt.show()"
   ]
  },
  {
   "cell_type": "code",
   "execution_count": null,
   "metadata": {
    "collapsed": true
   },
   "outputs": [],
   "source": []
  }
 ],
 "metadata": {
  "kernelspec": {
   "display_name": "Python 3",
   "language": "python",
   "name": "python3"
  },
  "language_info": {
   "codemirror_mode": {
    "name": "ipython",
    "version": 3
   },
   "file_extension": ".py",
   "mimetype": "text/x-python",
   "name": "python",
   "nbconvert_exporter": "python",
   "pygments_lexer": "ipython3",
   "version": "3.6.2"
  }
 },
 "nbformat": 4,
 "nbformat_minor": 2
}
