{
 "cells": [
  {
   "cell_type": "markdown",
   "metadata": {},
   "source": [
    "### Random Forest\n",
    "The Random Forest algorithm will be used to predict on the Driver dataset. Looking at other kernels so far, I hypothesize that the Random Forest Classifier will not do as well as xgboost and catboost "
   ]
  },
  {
   "cell_type": "code",
   "execution_count": 1,
   "metadata": {
    "collapsed": true
   },
   "outputs": [],
   "source": [
    "import pandas as pd\n",
    "import matplotlib.pyplot as plt\n",
    "import seaborn as sns\n",
    "from sklearn.ensemble import RandomForestClassifier\n"
   ]
  },
  {
   "cell_type": "code",
   "execution_count": 2,
   "metadata": {
    "collapsed": true
   },
   "outputs": [],
   "source": [
    "#load training data\n",
    "xtrain = pd.read_csv(\"train.csv\")\n",
    "ytrain = xtrain[\"target\"]\n",
    "idtrain = xtrain[\"id\"]\n",
    "xtrain.drop([\"id\", \"target\"], axis = 1, inplace = True)\n",
    "\n",
    "#Load testing data \n",
    "xtest = pd.read_csv(\"test.csv\")\n",
    "xtest.drop(\"id\", axis = 1, inplace = True)"
   ]
  },
  {
   "cell_type": "code",
   "execution_count": 3,
   "metadata": {},
   "outputs": [
    {
     "data": {
      "text/plain": [
       "RandomForestClassifier(bootstrap=True, class_weight=None, criterion='gini',\n",
       "            max_depth=None, max_features='auto', max_leaf_nodes=None,\n",
       "            min_impurity_decrease=0.0, min_impurity_split=None,\n",
       "            min_samples_leaf=1, min_samples_split=2,\n",
       "            min_weight_fraction_leaf=0.0, n_estimators=10, n_jobs=1,\n",
       "            oob_score=False, random_state=None, verbose=0,\n",
       "            warm_start=False)"
      ]
     },
     "execution_count": 3,
     "metadata": {},
     "output_type": "execute_result"
    }
   ],
   "source": [
    "clf = RandomForestClassifier()\n",
    "clf.fit(xtrain, ytrain)"
   ]
  },
  {
   "cell_type": "code",
   "execution_count": 4,
   "metadata": {},
   "outputs": [
    {
     "data": {
      "text/plain": [
       "array([ 0.0247095 ,  0.01158632,  0.03193405,  0.00776918,  0.00965339,\n",
       "        0.00392449,  0.00373603,  0.00399432,  0.00433875,  0.00018772,\n",
       "        0.00031003,  0.00116174,  0.00020287,  0.00133993,  0.03226991,\n",
       "        0.00524501,  0.00318463,  0.00460162,  0.02382609,  0.02874507,\n",
       "        0.05239553,  0.02018586,  0.00458316,  0.00784497,  0.00645682,\n",
       "        0.01073196,  0.02418585,  0.00472809,  0.00449736,  0.01218336,\n",
       "        0.00148366,  0.03191705,  0.01097293,  0.02191834,  0.05865367,\n",
       "        0.04005804,  0.02575694,  0.03098472,  0.03244934,  0.03100882,\n",
       "        0.02332805,  0.02358471,  0.02576411,  0.02811385,  0.02846829,\n",
       "        0.02550996,  0.03761606,  0.03563633,  0.0228984 ,  0.0296226 ,\n",
       "        0.03717145,  0.00604207,  0.00853731,  0.00875629,  0.00821504,\n",
       "        0.00847062,  0.00654774])"
      ]
     },
     "execution_count": 4,
     "metadata": {},
     "output_type": "execute_result"
    }
   ],
   "source": [
    "#View importance\n",
    "clf.feature_importances_"
   ]
  },
  {
   "cell_type": "code",
   "execution_count": 5,
   "metadata": {
    "collapsed": true
   },
   "outputs": [],
   "source": [
    "tt = {x:y for x,y in zip(xtrain.columns, clf.feature_importances_) if y >0.025}"
   ]
  },
  {
   "cell_type": "code",
   "execution_count": 6,
   "metadata": {},
   "outputs": [
    {
     "data": {
      "image/png": "[encoded data removed]",
      "text/plain": [
       "<matplotlib.figure.Figure at 0x114b50c50>"
      ]
     },
     "metadata": {},
     "output_type": "display_data"
    }
   ],
   "source": [
    "plt.figure(figsize=(14,12))\n",
    "g = sns.barplot(x = [i for i in tt.keys()], y =[t for t in tt.values()] )\n",
    "g.set_xticklabels(labels = tt.keys(), rotation=30)\n",
    "plt.show()"
   ]
  },
  {
   "cell_type": "code",
   "execution_count": 7,
   "metadata": {
    "collapsed": true
   },
   "outputs": [],
   "source": [
    "preds = clf.predict(xtest)"
   ]
  },
  {
   "cell_type": "code",
   "execution_count": null,
   "metadata": {},
   "outputs": [],
   "source": [
    "sns.distplot(preds)\n",
    "plt.show()"
   ]
  },
  {
   "cell_type": "markdown",
   "metadata": {},
   "source": [
    "The default values for the Random Forest Classifier predict only 0s for the target so now we focus on tuning the parameters"
   ]
  },
  {
   "cell_type": "code",
   "execution_count": 9,
   "metadata": {
    "collapsed": true
   },
   "outputs": [],
   "source": [
    "clf2 = RandomForestClassifier(bootstrap=True, class_weight=None, criterion='gini',\n",
    "            max_depth=None, max_features='auto', max_leaf_nodes=None,\n",
    "            min_impurity_decrease=0.0, min_impurity_split=None,\n",
    "            min_samples_leaf=1, min_samples_split=2,\n",
    "            min_weight_fraction_leaf=0.0, n_estimators=10, n_jobs=1,\n",
    "            oob_score=False, random_state=None, verbose=0,\n",
    "            warm_start=False)"
   ]
  }
 ],
 "metadata": {
  "kernelspec": {
   "display_name": "Python 3",
   "language": "python",
   "name": "python3"
  },
  "language_info": {
   "codemirror_mode": {
    "name": "ipython",
    "version": 3
   },
   "file_extension": ".py",
   "mimetype": "text/x-python",
   "name": "python",
   "nbconvert_exporter": "python",
   "pygments_lexer": "ipython3",
   "version": "3.6.2"
  }
 },
 "nbformat": 4,
 "nbformat_minor": 2
}
