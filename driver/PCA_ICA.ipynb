{
 "cells": [
  {
   "cell_type": "code",
   "execution_count": 32,
   "metadata": {},
   "outputs": [
    {
     "name": "stderr",
     "output_type": "stream",
     "text": [
      "/usr/local/lib/python3.6/site-packages/sklearn/cross_validation.py:41: DeprecationWarning: This module was deprecated in version 0.18 in favor of the model_selection module into which all the refactored classes and functions are moved. Also note that the interface of the new CV iterators are different from that of this module. This module will be removed in 0.20.\n",
      "  \"This module will be removed in 0.20.\", DeprecationWarning)\n"
     ]
    }
   ],
   "source": [
    "import pandas as pd\n",
    "import numpy as np\n",
    "import matplotlib.pyplot as plt\n",
    "import seaborn as sns\n",
    "from sklearn.decomposition import PCA, FastICA, TruncatedSVD\n",
    "import math\n",
    "from xgboost import XGBClassifier"
   ]
  },
  {
   "cell_type": "markdown",
   "metadata": {},
   "source": [
    "Load train and test data"
   ]
  },
  {
   "cell_type": "code",
   "execution_count": 5,
   "metadata": {
    "collapsed": true
   },
   "outputs": [],
   "source": [
    "#training Data\n",
    "xtrain = pd.read_csv(\"train.csv\")\n",
    "ytrain = xtrain[\"target\"]\n",
    "xtrain.drop(\"target\", axis = 1, inplace = True)\n",
    "\n",
    "#load testing data\n",
    "xtest = pd.read_csv(\"test.csv\")"
   ]
  },
  {
   "cell_type": "code",
   "execution_count": 61,
   "metadata": {},
   "outputs": [
    {
     "name": "stdout",
     "output_type": "stream",
     "text": [
      "Setting up PCA...\n",
      "PCA is done....\n",
      "Setting up ICA... \n"
     ]
    },
    {
     "name": "stderr",
     "output_type": "stream",
     "text": [
      "/usr/local/lib/python3.6/site-packages/sklearn/decomposition/fastica_.py:118: UserWarning: FastICA did not converge. Consider increasing tolerance or the maximum number of iterations.\n",
      "  warnings.warn('FastICA did not converge. Consider increasing '\n",
      "/usr/local/lib/python3.6/site-packages/scipy/linalg/basic.py:1018: RuntimeWarning: internal gelsd driver lwork query error, required iwork dimension not returned. This is likely the result of LAPACK bug 0038, fixed in LAPACK 3.2.2 (released July 21, 2010). Falling back to 'gelss' driver.\n",
      "  warnings.warn(mesg, RuntimeWarning)\n"
     ]
    },
    {
     "name": "stdout",
     "output_type": "stream",
     "text": [
      "ICA is done...\n"
     ]
    }
   ],
   "source": [
    "#Set up PCA\n",
    "\n",
    "print(\"Setting up PCA...\")\n",
    "pca = PCA(n_components=12, random_state=0)\n",
    "pca_train = pca.fit_transform(xtrain)\n",
    "pca_test = pca.transform(xtest)\n",
    "\n",
    "print(\"PCA is done....\")\n",
    "\n",
    "print(\"Setting up ICA... \")\n",
    "ica = FastICA(n_components=12, random_state=0)\n",
    "ica_train = ica.fit_transform(xtrain)\n",
    "ica_test = ica.transform(xtest)\n",
    "print(\"ICA is done...\")"
   ]
  },
  {
   "cell_type": "code",
   "execution_count": 18,
   "metadata": {},
   "outputs": [
    {
     "data": {
      "text/plain": [
       "array([  1.84356725e+11,   1.08987684e+03,   3.05249223e+01,\n",
       "         1.32477406e+01,   8.43690371e+00,   7.54424839e+00,\n",
       "         7.34775557e+00,   6.43392963e+00,   5.44228663e+00,\n",
       "         4.35754219e+00,   3.53309625e+00,   2.87253071e+00])"
      ]
     },
     "execution_count": 18,
     "metadata": {},
     "output_type": "execute_result"
    }
   ],
   "source": [
    "pca.explained_variance_"
   ]
  },
  {
   "cell_type": "code",
   "execution_count": 31,
   "metadata": {},
   "outputs": [
    {
     "data": {
      "image/png": "[encoded data removed]",
      "text/plain": [
       "<matplotlib.figure.Figure at 0x113e34b70>"
      ]
     },
     "metadata": {},
     "output_type": "display_data"
    }
   ],
   "source": [
    "plt.figure(figsize=(14,12))\n",
    "sns.set(style=\"white\")\n",
    "sns.barplot(x= np.arange(12), y = [math.log(i) for i in pca.explained_variance_])\n",
    "plt.xlabel(\"Component\")\n",
    "plt.ylabel(\"Variance explained\")\n",
    "plt.show()"
   ]
  },
  {
   "cell_type": "code",
   "execution_count": 28,
   "metadata": {},
   "outputs": [
    {
     "data": {
      "text/plain": [
       "[0.99999999348730784,\n",
       " 5.9117823173244231e-09,\n",
       " 1.6557531066692647e-10,\n",
       " 7.1859274454778827e-11,\n",
       " 4.5764013458434716e-11,\n",
       " 4.0922013205057891e-11,\n",
       " 3.9856183786794132e-11,\n",
       " 3.489934843349365e-11,\n",
       " 2.9520412576825925e-11,\n",
       " 2.3636469754607998e-11,\n",
       " 1.9164455324177286e-11,\n",
       " 1.5581371857255994e-11]"
      ]
     },
     "execution_count": 28,
     "metadata": {},
     "output_type": "execute_result"
    }
   ],
   "source": [
    "[i for i in pca.explained_variance_ratio_]"
   ]
  },
  {
   "cell_type": "markdown",
   "metadata": {},
   "source": [
    "Most of the variance in the data is explained by the first principal component. It explains 99.999% of the variance in this dataset."
   ]
  },
  {
   "cell_type": "code",
   "execution_count": 53,
   "metadata": {},
   "outputs": [],
   "source": [
    "xgb = XGBClassifier(n_estimators=500,max_depth=6,\n",
    "                        objective=\"binary:logistic\",\n",
    "                        learning_rate=0.07, \n",
    "                        subsample=1, \n",
    "                        colsample_bytree=.5,\n",
    "                        scale_pos_weight=1.7,\n",
    "                        reg_alpha=0.5,\n",
    "                        reg_lambda=1\n",
    "                     )"
   ]
  },
  {
   "cell_type": "code",
   "execution_count": 54,
   "metadata": {},
   "outputs": [],
   "source": [
    "#Lets check out xgboost on our PCA data\n",
    "xgb.fit(pca_train, ytrain)\n",
    "targ = xgb.predict_proba(pca_test)"
   ]
  },
  {
   "cell_type": "code",
   "execution_count": 57,
   "metadata": {},
   "outputs": [],
   "source": [
    "frame = pd.DataFrame()\n",
    "frame[\"id\"] = xtest[\"id\"]\n",
    "frame[\"target\"] = targ[:,0]"
   ]
  },
  {
   "cell_type": "code",
   "execution_count": 59,
   "metadata": {
    "collapsed": true
   },
   "outputs": [],
   "source": [
    "frame.to_csv(\"pca_xgboost.csv\", index = False)"
   ]
  },
  {
   "cell_type": "code",
   "execution_count": null,
   "metadata": {
    "collapsed": true
   },
   "outputs": [],
   "source": [
    "#Back to ICA...\n",
    "\n"
   ]
  }
 ],
 "metadata": {
  "kernelspec": {
   "display_name": "Python 3",
   "language": "python",
   "name": "python3"
  },
  "language_info": {
   "codemirror_mode": {
    "name": "ipython",
    "version": 3
   },
   "file_extension": ".py",
   "mimetype": "text/x-python",
   "name": "python",
   "nbconvert_exporter": "python",
   "pygments_lexer": "ipython3",
   "version": "3.6.2"
  }
 },
 "nbformat": 4,
 "nbformat_minor": 2
}
