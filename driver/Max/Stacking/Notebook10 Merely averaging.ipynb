{
 "cells": [
  {
   "cell_type": "markdown",
   "metadata": {},
   "source": [
    "Notebook10 Merely averaging"
   ]
  },
  {
   "cell_type": "markdown",
   "metadata": {},
   "source": [
    "Timeline: 2017/11/15"
   ]
  },
  {
   "cell_type": "markdown",
   "metadata": {},
   "source": [
    "Goal: Experiment with averaging the results of online kernels"
   ]
  },
  {
   "cell_type": "markdown",
   "metadata": {},
   "source": [
    "I. Import packages and files"
   ]
  },
  {
   "cell_type": "code",
   "execution_count": 71,
   "metadata": {
    "collapsed": true
   },
   "outputs": [],
   "source": [
    "import pandas as pd\n",
    "import numpy as np"
   ]
  },
  {
   "cell_type": "code",
   "execution_count": 72,
   "metadata": {},
   "outputs": [
    {
     "name": "stdout",
     "output_type": "stream",
     "text": [
      "loading files...\n"
     ]
    }
   ],
   "source": [
    "# import filles\n",
    "print('loading files...')\n",
    "submission1 = pd.read_csv('/Users/maxji/Desktop/Kaggle/0SafeDriver/SubmissionsToUse/01submission.csv', na_values=-1)\n",
    "submission2 = pd.read_csv('/Users/maxji/Desktop/Kaggle/0SafeDriver/SubmissionsToUse/02submission.csv', na_values=-1)\n",
    "submission3 = pd.read_csv('/Users/maxji/Desktop/Kaggle/0SafeDriver/SubmissionsToUse/03submission.csv', na_values=-1)\n",
    "submission4 = pd.read_csv('/Users/maxji/Desktop/Kaggle/0SafeDriver/SubmissionsToUse/04submission.csv', na_values=-1)\n",
    "submission5 = pd.read_csv('/Users/maxji/Desktop/Kaggle/0SafeDriver/SubmissionsToUse/05submission.csv', na_values=-1)\n",
    "\n",
    "submission6 = pd.read_csv('/Users/maxji/Desktop/Kaggle/0SafeDriver/SubmissionsToUse/Online Submissions/01submission.csv', na_values=-1)\n",
    "submission7 = pd.read_csv('/Users/maxji/Desktop/Kaggle/0SafeDriver/SubmissionsToUse/Online Submissions/02submission.csv', na_values=-1)\n",
    "submission8 = pd.read_csv('/Users/maxji/Desktop/Kaggle/0SafeDriver/SubmissionsToUse/Online Submissions/03submission.csv', na_values=-1)\n",
    "submission9 = pd.read_csv('/Users/maxji/Desktop/Kaggle/0SafeDriver/SubmissionsToUse/Online Submissions/04submission.csv', na_values=-1)\n",
    "submission10 = pd.read_csv('/Users/maxji/Desktop/Kaggle/0SafeDriver/SubmissionsToUse/Online Submissions/05submission.csv', na_values=-1)"
   ]
  },
  {
   "cell_type": "code",
   "execution_count": 73,
   "metadata": {},
   "outputs": [
    {
     "name": "stdout",
     "output_type": "stream",
     "text": [
      "                 id         target\n",
      "count  8.928160e+05  892816.000000\n",
      "mean   7.441535e+05       0.036400\n",
      "std    4.296830e+05       0.021225\n",
      "min    0.000000e+00       0.020310\n",
      "25%    3.720218e+05       0.026990\n",
      "50%    7.443070e+05       0.031250\n",
      "75%    1.116308e+06       0.038540\n",
      "max    1.488026e+06       0.994590\n",
      "                 id         target\n",
      "count  8.928160e+05  892816.000000\n",
      "mean   7.441535e+05       0.036362\n",
      "std    4.296830e+05       0.020337\n",
      "min    0.000000e+00       0.020700\n",
      "25%    3.720218e+05       0.027250\n",
      "50%    7.443070e+05       0.031400\n",
      "75%    1.116308e+06       0.038440\n",
      "max    1.488026e+06       0.986890\n",
      "                 id         target\n",
      "count  8.928160e+05  892816.000000\n",
      "mean   7.441535e+05       0.036362\n",
      "std    4.296830e+05       0.020337\n",
      "min    0.000000e+00       0.020700\n",
      "25%    3.720218e+05       0.027250\n",
      "50%    7.443070e+05       0.031400\n",
      "75%    1.116308e+06       0.038440\n",
      "max    1.488026e+06       0.986890\n",
      "                 id         target\n",
      "count  8.928160e+05  892816.000000\n",
      "mean   7.441535e+05       0.056659\n",
      "std    4.296830e+05       0.029829\n",
      "min    0.000000e+00       0.011970\n",
      "25%    3.720218e+05       0.036934\n",
      "50%    7.443070e+05       0.049850\n",
      "75%    1.116308e+06       0.067893\n",
      "max    1.488026e+06       0.629028\n",
      "                 id         target\n",
      "count  8.928160e+05  892816.000000\n",
      "mean   7.441535e+05       0.036411\n",
      "std    4.296830e+05       0.019759\n",
      "min    0.000000e+00       0.007053\n",
      "25%    3.720218e+05       0.023568\n",
      "50%    7.443070e+05       0.031892\n",
      "75%    1.116308e+06       0.043726\n",
      "max    1.488026e+06       0.743323\n",
      "                 id         target\n",
      "count  8.928160e+05  892816.000000\n",
      "mean   7.441535e+05       0.056644\n",
      "std    4.296830e+05       0.029948\n",
      "min    0.000000e+00       0.012048\n",
      "25%    3.720218e+05       0.036920\n",
      "50%    7.443070e+05       0.049794\n",
      "75%    1.116308e+06       0.067802\n",
      "max    1.488026e+06       0.643834\n",
      "                 id         target\n",
      "count  8.928160e+05  892816.000000\n",
      "mean   7.441535e+05       0.036345\n",
      "std    4.296830e+05       0.020228\n",
      "min    0.000000e+00       0.020739\n",
      "25%    3.720218e+05       0.027330\n",
      "50%    7.443070e+05       0.031440\n",
      "75%    1.116308e+06       0.038419\n",
      "max    1.488026e+06       0.988715\n",
      "                 id         target\n",
      "count  8.928160e+05  892816.000000\n",
      "mean   7.441535e+05       0.036559\n",
      "std    4.296830e+05       0.020249\n",
      "min    0.000000e+00       0.006175\n",
      "25%    3.720218e+05       0.023336\n",
      "50%    7.443070e+05       0.031776\n",
      "75%    1.116308e+06       0.043893\n",
      "max    1.488026e+06       0.368518\n",
      "                 id         target\n",
      "count  8.928160e+05  892816.000000\n",
      "mean   7.441535e+05       0.500539\n",
      "std    4.296830e+05       0.285097\n",
      "min    0.000000e+00       0.000015\n",
      "25%    3.720218e+05       0.255403\n",
      "50%    7.443070e+05       0.500616\n",
      "75%    1.116308e+06       0.745616\n",
      "max    1.488026e+06       0.999998\n",
      "                 id         target\n",
      "count  8.928160e+05  892816.000000\n",
      "mean   7.441535e+05       0.479047\n",
      "std    4.296830e+05       0.131744\n",
      "min    0.000000e+00       0.134947\n",
      "25%    3.720218e+05       0.380888\n",
      "50%    7.443070e+05       0.472528\n",
      "75%    1.116308e+06       0.569407\n",
      "max    1.488026e+06       0.991852\n"
     ]
    }
   ],
   "source": [
    "# print out descriptions to see the distribution\n",
    "print(submission1.describe())\n",
    "print(submission2.describe())\n",
    "print(submission3.describe())\n",
    "print(submission4.describe())\n",
    "print(submission5.describe())\n",
    "print(submission6.describe())\n",
    "print(submission7.describe())\n",
    "print(submission8.describe())\n",
    "print(submission9.describe())\n",
    "print(submission10.describe())"
   ]
  },
  {
   "cell_type": "code",
   "execution_count": 45,
   "metadata": {},
   "outputs": [
    {
     "data": {
      "text/html": [
       "<div>\n",
       "<style>\n",
       "    .dataframe thead tr:only-child th {\n",
       "        text-align: right;\n",
       "    }\n",
       "\n",
       "    .dataframe thead th {\n",
       "        text-align: left;\n",
       "    }\n",
       "\n",
       "    .dataframe tbody tr th {\n",
       "        vertical-align: top;\n",
       "    }\n",
       "</style>\n",
       "<table border=\"1\" class=\"dataframe\">\n",
       "  <thead>\n",
       "    <tr style=\"text-align: right;\">\n",
       "      <th></th>\n",
       "      <th>id</th>\n",
       "      <th>target</th>\n",
       "    </tr>\n",
       "  </thead>\n",
       "  <tbody>\n",
       "    <tr>\n",
       "      <th>count</th>\n",
       "      <td>8.928160e+05</td>\n",
       "      <td>892816.000000</td>\n",
       "    </tr>\n",
       "    <tr>\n",
       "      <th>mean</th>\n",
       "      <td>7.441535e+05</td>\n",
       "      <td>0.056659</td>\n",
       "    </tr>\n",
       "    <tr>\n",
       "      <th>std</th>\n",
       "      <td>4.296830e+05</td>\n",
       "      <td>0.029829</td>\n",
       "    </tr>\n",
       "    <tr>\n",
       "      <th>min</th>\n",
       "      <td>0.000000e+00</td>\n",
       "      <td>0.011970</td>\n",
       "    </tr>\n",
       "    <tr>\n",
       "      <th>25%</th>\n",
       "      <td>3.720218e+05</td>\n",
       "      <td>0.036934</td>\n",
       "    </tr>\n",
       "    <tr>\n",
       "      <th>50%</th>\n",
       "      <td>7.443070e+05</td>\n",
       "      <td>0.049850</td>\n",
       "    </tr>\n",
       "    <tr>\n",
       "      <th>75%</th>\n",
       "      <td>1.116308e+06</td>\n",
       "      <td>0.067893</td>\n",
       "    </tr>\n",
       "    <tr>\n",
       "      <th>max</th>\n",
       "      <td>1.488026e+06</td>\n",
       "      <td>0.629028</td>\n",
       "    </tr>\n",
       "  </tbody>\n",
       "</table>\n",
       "</div>"
      ],
      "text/plain": [
       "                 id         target\n",
       "count  8.928160e+05  892816.000000\n",
       "mean   7.441535e+05       0.056659\n",
       "std    4.296830e+05       0.029829\n",
       "min    0.000000e+00       0.011970\n",
       "25%    3.720218e+05       0.036934\n",
       "50%    7.443070e+05       0.049850\n",
       "75%    1.116308e+06       0.067893\n",
       "max    1.488026e+06       0.629028"
      ]
     },
     "execution_count": 45,
     "metadata": {},
     "output_type": "execute_result"
    }
   ],
   "source": [
    "submission4.describe()"
   ]
  },
  {
   "cell_type": "code",
   "execution_count": 46,
   "metadata": {},
   "outputs": [
    {
     "data": {
      "text/html": [
       "<div>\n",
       "<style>\n",
       "    .dataframe thead tr:only-child th {\n",
       "        text-align: right;\n",
       "    }\n",
       "\n",
       "    .dataframe thead th {\n",
       "        text-align: left;\n",
       "    }\n",
       "\n",
       "    .dataframe tbody tr th {\n",
       "        vertical-align: top;\n",
       "    }\n",
       "</style>\n",
       "<table border=\"1\" class=\"dataframe\">\n",
       "  <thead>\n",
       "    <tr style=\"text-align: right;\">\n",
       "      <th></th>\n",
       "      <th>id</th>\n",
       "      <th>target</th>\n",
       "    </tr>\n",
       "  </thead>\n",
       "  <tbody>\n",
       "    <tr>\n",
       "      <th>count</th>\n",
       "      <td>8.928160e+05</td>\n",
       "      <td>892816.000000</td>\n",
       "    </tr>\n",
       "    <tr>\n",
       "      <th>mean</th>\n",
       "      <td>7.441535e+05</td>\n",
       "      <td>0.036411</td>\n",
       "    </tr>\n",
       "    <tr>\n",
       "      <th>std</th>\n",
       "      <td>4.296830e+05</td>\n",
       "      <td>0.019759</td>\n",
       "    </tr>\n",
       "    <tr>\n",
       "      <th>min</th>\n",
       "      <td>0.000000e+00</td>\n",
       "      <td>0.007053</td>\n",
       "    </tr>\n",
       "    <tr>\n",
       "      <th>25%</th>\n",
       "      <td>3.720218e+05</td>\n",
       "      <td>0.023568</td>\n",
       "    </tr>\n",
       "    <tr>\n",
       "      <th>50%</th>\n",
       "      <td>7.443070e+05</td>\n",
       "      <td>0.031892</td>\n",
       "    </tr>\n",
       "    <tr>\n",
       "      <th>75%</th>\n",
       "      <td>1.116308e+06</td>\n",
       "      <td>0.043726</td>\n",
       "    </tr>\n",
       "    <tr>\n",
       "      <th>max</th>\n",
       "      <td>1.488026e+06</td>\n",
       "      <td>0.743323</td>\n",
       "    </tr>\n",
       "  </tbody>\n",
       "</table>\n",
       "</div>"
      ],
      "text/plain": [
       "                 id         target\n",
       "count  8.928160e+05  892816.000000\n",
       "mean   7.441535e+05       0.036411\n",
       "std    4.296830e+05       0.019759\n",
       "min    0.000000e+00       0.007053\n",
       "25%    3.720218e+05       0.023568\n",
       "50%    7.443070e+05       0.031892\n",
       "75%    1.116308e+06       0.043726\n",
       "max    1.488026e+06       0.743323"
      ]
     },
     "execution_count": 46,
     "metadata": {},
     "output_type": "execute_result"
    }
   ],
   "source": [
    "submission5.describe()"
   ]
  },
  {
   "cell_type": "markdown",
   "metadata": {},
   "source": [
    "II. Calculate the average"
   ]
  },
  {
   "cell_type": "code",
   "execution_count": 48,
   "metadata": {
    "collapsed": true
   },
   "outputs": [],
   "source": [
    "comb1 = submission4.merge(submission5, how='left', on='id')"
   ]
  },
  {
   "cell_type": "code",
   "execution_count": 49,
   "metadata": {},
   "outputs": [
    {
     "data": {
      "text/html": [
       "<div>\n",
       "<style>\n",
       "    .dataframe thead tr:only-child th {\n",
       "        text-align: right;\n",
       "    }\n",
       "\n",
       "    .dataframe thead th {\n",
       "        text-align: left;\n",
       "    }\n",
       "\n",
       "    .dataframe tbody tr th {\n",
       "        vertical-align: top;\n",
       "    }\n",
       "</style>\n",
       "<table border=\"1\" class=\"dataframe\">\n",
       "  <thead>\n",
       "    <tr style=\"text-align: right;\">\n",
       "      <th></th>\n",
       "      <th>id</th>\n",
       "      <th>target_x</th>\n",
       "      <th>target_y</th>\n",
       "    </tr>\n",
       "  </thead>\n",
       "  <tbody>\n",
       "    <tr>\n",
       "      <th>count</th>\n",
       "      <td>8.928160e+05</td>\n",
       "      <td>892816.000000</td>\n",
       "      <td>892816.000000</td>\n",
       "    </tr>\n",
       "    <tr>\n",
       "      <th>mean</th>\n",
       "      <td>7.441535e+05</td>\n",
       "      <td>0.056659</td>\n",
       "      <td>0.036411</td>\n",
       "    </tr>\n",
       "    <tr>\n",
       "      <th>std</th>\n",
       "      <td>4.296830e+05</td>\n",
       "      <td>0.029829</td>\n",
       "      <td>0.019759</td>\n",
       "    </tr>\n",
       "    <tr>\n",
       "      <th>min</th>\n",
       "      <td>0.000000e+00</td>\n",
       "      <td>0.011970</td>\n",
       "      <td>0.007053</td>\n",
       "    </tr>\n",
       "    <tr>\n",
       "      <th>25%</th>\n",
       "      <td>3.720218e+05</td>\n",
       "      <td>0.036934</td>\n",
       "      <td>0.023568</td>\n",
       "    </tr>\n",
       "    <tr>\n",
       "      <th>50%</th>\n",
       "      <td>7.443070e+05</td>\n",
       "      <td>0.049850</td>\n",
       "      <td>0.031892</td>\n",
       "    </tr>\n",
       "    <tr>\n",
       "      <th>75%</th>\n",
       "      <td>1.116308e+06</td>\n",
       "      <td>0.067893</td>\n",
       "      <td>0.043726</td>\n",
       "    </tr>\n",
       "    <tr>\n",
       "      <th>max</th>\n",
       "      <td>1.488026e+06</td>\n",
       "      <td>0.629028</td>\n",
       "      <td>0.743323</td>\n",
       "    </tr>\n",
       "  </tbody>\n",
       "</table>\n",
       "</div>"
      ],
      "text/plain": [
       "                 id       target_x       target_y\n",
       "count  8.928160e+05  892816.000000  892816.000000\n",
       "mean   7.441535e+05       0.056659       0.036411\n",
       "std    4.296830e+05       0.029829       0.019759\n",
       "min    0.000000e+00       0.011970       0.007053\n",
       "25%    3.720218e+05       0.036934       0.023568\n",
       "50%    7.443070e+05       0.049850       0.031892\n",
       "75%    1.116308e+06       0.067893       0.043726\n",
       "max    1.488026e+06       0.629028       0.743323"
      ]
     },
     "execution_count": 49,
     "metadata": {},
     "output_type": "execute_result"
    }
   ],
   "source": [
    "comb1.describe()"
   ]
  },
  {
   "cell_type": "code",
   "execution_count": 68,
   "metadata": {},
   "outputs": [
    {
     "data": {
      "text/html": [
       "<div>\n",
       "<style>\n",
       "    .dataframe thead tr:only-child th {\n",
       "        text-align: right;\n",
       "    }\n",
       "\n",
       "    .dataframe thead th {\n",
       "        text-align: left;\n",
       "    }\n",
       "\n",
       "    .dataframe tbody tr th {\n",
       "        vertical-align: top;\n",
       "    }\n",
       "</style>\n",
       "<table border=\"1\" class=\"dataframe\">\n",
       "  <thead>\n",
       "    <tr style=\"text-align: right;\">\n",
       "      <th></th>\n",
       "      <th>id</th>\n",
       "      <th>target</th>\n",
       "    </tr>\n",
       "  </thead>\n",
       "  <tbody>\n",
       "    <tr>\n",
       "      <th>count</th>\n",
       "      <td>8.928160e+05</td>\n",
       "      <td>892816.000000</td>\n",
       "    </tr>\n",
       "    <tr>\n",
       "      <th>mean</th>\n",
       "      <td>7.441535e+05</td>\n",
       "      <td>0.082690</td>\n",
       "    </tr>\n",
       "    <tr>\n",
       "      <th>std</th>\n",
       "      <td>4.296830e+05</td>\n",
       "      <td>0.043002</td>\n",
       "    </tr>\n",
       "    <tr>\n",
       "      <th>min</th>\n",
       "      <td>0.000000e+00</td>\n",
       "      <td>0.001599</td>\n",
       "    </tr>\n",
       "    <tr>\n",
       "      <th>25%</th>\n",
       "      <td>3.720218e+05</td>\n",
       "      <td>0.053081</td>\n",
       "    </tr>\n",
       "    <tr>\n",
       "      <th>50%</th>\n",
       "      <td>7.443070e+05</td>\n",
       "      <td>0.076603</td>\n",
       "    </tr>\n",
       "    <tr>\n",
       "      <th>75%</th>\n",
       "      <td>1.116308e+06</td>\n",
       "      <td>0.103943</td>\n",
       "    </tr>\n",
       "    <tr>\n",
       "      <th>max</th>\n",
       "      <td>1.488026e+06</td>\n",
       "      <td>0.705899</td>\n",
       "    </tr>\n",
       "  </tbody>\n",
       "</table>\n",
       "</div>"
      ],
      "text/plain": [
       "                 id         target\n",
       "count  8.928160e+05  892816.000000\n",
       "mean   7.441535e+05       0.082690\n",
       "std    4.296830e+05       0.043002\n",
       "min    0.000000e+00       0.001599\n",
       "25%    3.720218e+05       0.053081\n",
       "50%    7.443070e+05       0.076603\n",
       "75%    1.116308e+06       0.103943\n",
       "max    1.488026e+06       0.705899"
      ]
     },
     "execution_count": 68,
     "metadata": {},
     "output_type": "execute_result"
    }
   ],
   "source": [
    "# Having a weighted geometric mean of the selected submissions\n",
    "final=pd.DataFrame()\n",
    "final['id'] = submission1['id']\n",
    "final['target'] = 1\n",
    "final['target'] *= np.power(submission6['target'],1/4)\n",
    "final['target'] *= submission7['target']\n",
    "final['target'] *= submission8['target']\n",
    "final['target'] *= submission9['target']\n",
    "final['target'] = np.power(final['target'],4/13)\n",
    "final.describe()"
   ]
  },
  {
   "cell_type": "code",
   "execution_count": 51,
   "metadata": {},
   "outputs": [
    {
     "name": "stderr",
     "output_type": "stream",
     "text": [
      "C:\\ProgramData\\Anaconda3\\lib\\site-packages\\ipykernel_launcher.py:5: SettingWithCopyWarning: \n",
      "A value is trying to be set on a copy of a slice from a DataFrame\n",
      "\n",
      "See the caveats in the documentation: http://pandas.pydata.org/pandas-docs/stable/indexing.html#indexing-view-versus-copy\n",
      "  \"\"\"\n"
     ]
    }
   ],
   "source": [
    "\"\"\"final=submission7.merge(submission8, how='left', on='id')\n",
    "final=final.merge(submission9,how='left',on='id')\n",
    "final1 = final.drop(['id'],axis=1)\n",
    "for i in (0,len(final['target'])-1):\n",
    "    final['target'][i]=np.median([final['target_x'][i],final['target_y'][i],final['target'][i]])\n",
    "final.describe()\n",
    "final = final.drop(['target_x','target_y'],axis=1)\n",
    "#final['target'] = np.median(submission7['target'],submission8['target'],submission9['target'])\n",
    "\"\"\""
   ]
  },
  {
   "cell_type": "code",
   "execution_count": 52,
   "metadata": {},
   "outputs": [
    {
     "data": {
      "text/html": [
       "<div>\n",
       "<style>\n",
       "    .dataframe thead tr:only-child th {\n",
       "        text-align: right;\n",
       "    }\n",
       "\n",
       "    .dataframe thead th {\n",
       "        text-align: left;\n",
       "    }\n",
       "\n",
       "    .dataframe tbody tr th {\n",
       "        vertical-align: top;\n",
       "    }\n",
       "</style>\n",
       "<table border=\"1\" class=\"dataframe\">\n",
       "  <thead>\n",
       "    <tr style=\"text-align: right;\">\n",
       "      <th></th>\n",
       "      <th>id</th>\n",
       "      <th>target</th>\n",
       "    </tr>\n",
       "  </thead>\n",
       "  <tbody>\n",
       "    <tr>\n",
       "      <th>count</th>\n",
       "      <td>8.928160e+05</td>\n",
       "      <td>892816.000000</td>\n",
       "    </tr>\n",
       "    <tr>\n",
       "      <th>mean</th>\n",
       "      <td>7.441535e+05</td>\n",
       "      <td>0.500538</td>\n",
       "    </tr>\n",
       "    <tr>\n",
       "      <th>std</th>\n",
       "      <td>4.296830e+05</td>\n",
       "      <td>0.285098</td>\n",
       "    </tr>\n",
       "    <tr>\n",
       "      <th>min</th>\n",
       "      <td>0.000000e+00</td>\n",
       "      <td>0.000015</td>\n",
       "    </tr>\n",
       "    <tr>\n",
       "      <th>25%</th>\n",
       "      <td>3.720218e+05</td>\n",
       "      <td>0.255402</td>\n",
       "    </tr>\n",
       "    <tr>\n",
       "      <th>50%</th>\n",
       "      <td>7.443070e+05</td>\n",
       "      <td>0.500616</td>\n",
       "    </tr>\n",
       "    <tr>\n",
       "      <th>75%</th>\n",
       "      <td>1.116308e+06</td>\n",
       "      <td>0.745616</td>\n",
       "    </tr>\n",
       "    <tr>\n",
       "      <th>max</th>\n",
       "      <td>1.488026e+06</td>\n",
       "      <td>0.999998</td>\n",
       "    </tr>\n",
       "  </tbody>\n",
       "</table>\n",
       "</div>"
      ],
      "text/plain": [
       "                 id         target\n",
       "count  8.928160e+05  892816.000000\n",
       "mean   7.441535e+05       0.500538\n",
       "std    4.296830e+05       0.285098\n",
       "min    0.000000e+00       0.000015\n",
       "25%    3.720218e+05       0.255402\n",
       "50%    7.443070e+05       0.500616\n",
       "75%    1.116308e+06       0.745616\n",
       "max    1.488026e+06       0.999998"
      ]
     },
     "execution_count": 52,
     "metadata": {},
     "output_type": "execute_result"
    }
   ],
   "source": [
    "final.describe()"
   ]
  },
  {
   "cell_type": "code",
   "execution_count": 56,
   "metadata": {},
   "outputs": [
    {
     "name": "stdout",
     "output_type": "stream",
     "text": [
      "                 id       target_x       target_y         target\n",
      "count  8.928160e+05  892816.000000  892816.000000  892816.000000\n",
      "mean   7.441535e+05       0.036345       0.036559       0.500539\n",
      "std    4.296830e+05       0.020228       0.020249       0.285097\n",
      "min    0.000000e+00       0.020739       0.006175       0.000015\n",
      "25%    3.720218e+05       0.027330       0.023336       0.255403\n",
      "50%    7.443070e+05       0.031440       0.031776       0.500616\n",
      "75%    1.116308e+06       0.038419       0.043893       0.745616\n",
      "max    1.488026e+06       0.988715       0.368518       0.999998\n"
     ]
    },
    {
     "name": "stderr",
     "output_type": "stream",
     "text": [
      "C:\\ProgramData\\Anaconda3\\lib\\site-packages\\ipykernel_launcher.py:6: SettingWithCopyWarning: \n",
      "A value is trying to be set on a copy of a slice from a DataFrame\n",
      "\n",
      "See the caveats in the documentation: http://pandas.pydata.org/pandas-docs/stable/indexing.html#indexing-view-versus-copy\n",
      "  \n"
     ]
    }
   ],
   "source": [
    "\"\"\"final2=submission7.merge(submission8, how='left', on='id')\n",
    "final2=final2.merge(submission9,how='left',on='id')\n",
    "print(final2.describe())\n",
    "final3 = final2.copy().drop(['id'],axis=1)\n",
    "for i in (0,len(final2['target'])-1):\n",
    "    final2['target'][i]=np.median(final3['target_x'][i]+final3['target_y'][i]+final3['target'][i])\n",
    "final2.describe()\n",
    "final2 = final2.drop(['target_x','target_y'],axis=1)\n",
    "#final['target'] = np.median(submission7['target'],submission8['target'],submission9['target'])\n"
   ]
  },
  {
   "cell_type": "code",
   "execution_count": 58,
   "metadata": {},
   "outputs": [
    {
     "name": "stdout",
     "output_type": "stream",
     "text": [
      "                 id         target\n",
      "count  8.928160e+05  892816.000000\n",
      "mean   7.441535e+05       0.500538\n",
      "std    4.296830e+05       0.285097\n",
      "min    0.000000e+00       0.000015\n",
      "25%    3.720218e+05       0.255402\n",
      "50%    7.443070e+05       0.500616\n",
      "75%    1.116308e+06       0.745616\n",
      "max    1.488026e+06       0.999998\n"
     ]
    },
    {
     "name": "stderr",
     "output_type": "stream",
     "text": [
      "C:\\ProgramData\\Anaconda3\\lib\\site-packages\\ipykernel_launcher.py:3: SettingWithCopyWarning: \n",
      "A value is trying to be set on a copy of a slice from a DataFrame\n",
      "\n",
      "See the caveats in the documentation: http://pandas.pydata.org/pandas-docs/stable/indexing.html#indexing-view-versus-copy\n",
      "  This is separate from the ipykernel package so we can avoid doing imports until\n"
     ]
    }
   ],
   "source": [
    "\"\"\"final4 = final2.copy()\n",
    "for i in (0,len(final2['target'])-1):\n",
    "    final4['target'][i] = final4['target'][i]-final3['target'][i]\n",
    "print(final4.describe())\"\"\""
   ]
  },
  {
   "cell_type": "code",
   "execution_count": null,
   "metadata": {
    "collapsed": true
   },
   "outputs": [],
   "source": [
    "\"\"\"final=pd.DataFrame()\n",
    "final['id'] = submission1['id']\n",
    "final['target'] = 0\n",
    "final['target'] += (submission1['target'])*4/5\n",
    "final['target'] += (submission4['target'])/5\n",
    "final.describe()\"\"\""
   ]
  },
  {
   "cell_type": "markdown",
   "metadata": {},
   "source": [
    "III. Make submission"
   ]
  },
  {
   "cell_type": "code",
   "execution_count": 70,
   "metadata": {
    "collapsed": true
   },
   "outputs": [],
   "source": [
    "final.to_csv('combined1234_weightedaverage14.csv',index=False, float_format='%.5f')"
   ]
  },
  {
   "cell_type": "markdown",
   "metadata": {
    "collapsed": true
   },
   "source": [
    "Insight:<br>\n",
    "This is an example of what people have been doing in online kernels in recent days: directly combining submission files with high score and trying to get a better stacking score. <br>\n",
    "I tried to change one of the coefficients in the weighing process and get a 0.286 score instead of the original 0.285. But this method is more like random guessing.<br>\n",
    "Our team decided to stop with this competition once everybody starts desperately doing stacking to improve scores."
   ]
  }
 ],
 "metadata": {
  "kernelspec": {
   "display_name": "Python 3",
   "language": "python",
   "name": "python3"
  },
  "language_info": {
   "codemirror_mode": {
    "name": "ipython",
    "version": 3
   },
   "file_extension": ".py",
   "mimetype": "text/x-python",
   "name": "python",
   "nbconvert_exporter": "python",
   "pygments_lexer": "ipython3",
   "version": "3.6.1"
  }
 },
 "nbformat": 4,
 "nbformat_minor": 2
}
