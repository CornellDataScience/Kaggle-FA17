{
 "cells": [
  {
   "cell_type": "code",
   "execution_count": 18,
   "metadata": {},
   "outputs": [],
   "source": [
    "import pandas as pd\n",
    "import numpy as np\n",
    "import matplotlib.pyplot as plt\n",
    "import seaborn as sns\n",
    "from sklearn.decomposition import PCA, FastICA, TruncatedSVD\n",
    "import math\n",
    "from xgboost import XGBClassifier\n",
    "from sklearn.ensemble import GradientBoostingClassifier"
   ]
  },
  {
   "cell_type": "markdown",
   "metadata": {},
   "source": [
    "Load train and test data"
   ]
  },
  {
   "cell_type": "code",
   "execution_count": 2,
   "metadata": {
    "collapsed": true
   },
   "outputs": [],
   "source": [
    "#training Data\n",
    "xtrain = pd.read_csv(\"train.csv\")\n",
    "ytrain = xtrain[\"target\"]\n",
    "xtrain.drop(\"target\", axis = 1, inplace = True)\n",
    "\n",
    "#load testing data\n",
    "xtest = pd.read_csv(\"test.csv\")"
   ]
  },
  {
   "cell_type": "code",
   "execution_count": 3,
   "metadata": {},
   "outputs": [
    {
     "name": "stdout",
     "output_type": "stream",
     "text": [
      "Setting up PCA...\n",
      "PCA is done....\n",
      "Setting up ICA... \n"
     ]
    },
    {
     "name": "stderr",
     "output_type": "stream",
     "text": [
      "/usr/local/lib/python3.6/site-packages/sklearn/decomposition/fastica_.py:118: UserWarning: FastICA did not converge. Consider increasing tolerance or the maximum number of iterations.\n",
      "  warnings.warn('FastICA did not converge. Consider increasing '\n",
      "/usr/local/lib/python3.6/site-packages/scipy/linalg/basic.py:1018: RuntimeWarning: internal gelsd driver lwork query error, required iwork dimension not returned. This is likely the result of LAPACK bug 0038, fixed in LAPACK 3.2.2 (released July 21, 2010). Falling back to 'gelss' driver.\n",
      "  warnings.warn(mesg, RuntimeWarning)\n"
     ]
    },
    {
     "name": "stdout",
     "output_type": "stream",
     "text": [
      "ICA is done...\n"
     ]
    }
   ],
   "source": [
    "#Set up PCA\n",
    "\n",
    "print(\"Setting up PCA...\")\n",
    "pca = PCA(n_components=12, random_state=0)\n",
    "pca_train = pca.fit_transform(xtrain)\n",
    "pca_test = pca.transform(xtest)\n",
    "\n",
    "print(\"PCA is done....\")\n",
    "\n",
    "print(\"Setting up ICA... \")\n",
    "ica = FastICA(n_components=12, random_state=0)\n",
    "ica_train = ica.fit_transform(xtrain)\n",
    "ica_test = ica.transform(xtest)\n",
    "print(\"ICA is done...\")"
   ]
  },
  {
   "cell_type": "code",
   "execution_count": 4,
   "metadata": {},
   "outputs": [
    {
     "data": {
      "text/plain": [
       "array([  1.84356725e+11,   1.08987684e+03,   3.05249223e+01,\n",
       "         1.32477406e+01,   8.43690369e+00,   7.54424846e+00,\n",
       "         7.34775554e+00,   6.43392977e+00,   5.44228522e+00,\n",
       "         4.35754192e+00,   3.53309339e+00,   2.87242115e+00])"
      ]
     },
     "execution_count": 4,
     "metadata": {},
     "output_type": "execute_result"
    }
   ],
   "source": [
    "pca.explained_variance_"
   ]
  },
  {
   "cell_type": "code",
   "execution_count": 5,
   "metadata": {},
   "outputs": [
    {
     "data": {
      "image/png": "[encoded data removed]",
      "text/plain": [
       "<matplotlib.figure.Figure at 0x10b6b6eb8>"
      ]
     },
     "metadata": {},
     "output_type": "display_data"
    }
   ],
   "source": [
    "plt.figure(figsize=(14,12))\n",
    "sns.set(style=\"white\")\n",
    "sns.barplot(x= np.arange(12), y = [math.log(i) for i in pca.explained_variance_])\n",
    "plt.xlabel(\"Component\")\n",
    "plt.ylabel(\"Variance explained\")\n",
    "plt.show()"
   ]
  },
  {
   "cell_type": "code",
   "execution_count": 6,
   "metadata": {},
   "outputs": [
    {
     "data": {
      "text/plain": [
       "[0.99999999348730784,\n",
       " 5.9117823173244413e-09,\n",
       " 1.6557531066692479e-10,\n",
       " 7.1859274454031844e-11,\n",
       " 4.5764013341359889e-11,\n",
       " 4.0922013580011101e-11,\n",
       " 3.9856183647326957e-11,\n",
       " 3.4899349168421846e-11,\n",
       " 2.9520404936869957e-11,\n",
       " 2.3636468321016732e-11,\n",
       " 1.9164439846500733e-11,\n",
       " 1.5580777578326888e-11]"
      ]
     },
     "execution_count": 6,
     "metadata": {},
     "output_type": "execute_result"
    }
   ],
   "source": [
    "[i for i in pca.explained_variance_ratio_]"
   ]
  },
  {
   "cell_type": "markdown",
   "metadata": {},
   "source": [
    "Most of the variance in the data is explained by the first principal component. It explains 99.999% of the variance in this dataset."
   ]
  },
  {
   "cell_type": "code",
   "execution_count": 7,
   "metadata": {
    "collapsed": true
   },
   "outputs": [],
   "source": [
    "xgb = XGBClassifier(n_estimators=500,max_depth=6,\n",
    "                        objective=\"binary:logistic\",\n",
    "                        learning_rate=0.07, \n",
    "                        subsample=1, \n",
    "                        colsample_bytree=.5,\n",
    "                        scale_pos_weight=1.7,\n",
    "                        reg_alpha=0.5,\n",
    "                        reg_lambda=1\n",
    "                     )"
   ]
  },
  {
   "cell_type": "code",
   "execution_count": 10,
   "metadata": {
    "collapsed": true
   },
   "outputs": [],
   "source": [
    "#Lets check out xgboost on our PCA data\n",
    "xgb.fit(pca_train[:,0:2], ytrain)\n",
    "targ = xgb.predict_proba(pca_test[:,0:2])"
   ]
  },
  {
   "cell_type": "code",
   "execution_count": 11,
   "metadata": {
    "collapsed": true
   },
   "outputs": [],
   "source": [
    "frame = pd.DataFrame()\n",
    "frame[\"id\"] = xtest[\"id\"]\n",
    "frame[\"target\"] = targ[:,0]"
   ]
  },
  {
   "cell_type": "code",
   "execution_count": 13,
   "metadata": {
    "collapsed": true
   },
   "outputs": [],
   "source": [
    "frame.to_csv(\"pca_xgboost.csv\", index = False)"
   ]
  },
  {
   "cell_type": "code",
   "execution_count": 19,
   "metadata": {
    "collapsed": true
   },
   "outputs": [],
   "source": [
    "#GBM + PCA\n",
    "gbm = GradientBoostingClassifier(random_state = 0, n_estimators = 500)\n",
    "gbm.fit(pca_train[:,0:2], ytrain)\n",
    "gbm_target = gbm.predict_proba(pca_test[:,0:2])"
   ]
  },
  {
   "cell_type": "code",
   "execution_count": 21,
   "metadata": {
    "collapsed": true
   },
   "outputs": [],
   "source": [
    "gbm_frame = pd.DataFrame()\n",
    "gbm_frame[\"id\"] = xtest[\"id\"]\n",
    "gbm_frame[\"target\"] = gbm_target[:,0]"
   ]
  },
  {
   "cell_type": "code",
   "execution_count": 23,
   "metadata": {},
   "outputs": [],
   "source": [
    "gbm_frame.to_csv(\"gbm_pca.csv\", index = False)"
   ]
  },
  {
   "cell_type": "code",
   "execution_count": null,
   "metadata": {
    "collapsed": true
   },
   "outputs": [],
   "source": []
  }
 ],
 "metadata": {
  "kernelspec": {
   "display_name": "Python 3",
   "language": "python",
   "name": "python3"
  },
  "language_info": {
   "codemirror_mode": {
    "name": "ipython",
    "version": 3
   },
   "file_extension": ".py",
   "mimetype": "text/x-python",
   "name": "python",
   "nbconvert_exporter": "python",
   "pygments_lexer": "ipython3",
   "version": "3.6.2"
  }
 },
 "nbformat": 4,
 "nbformat_minor": 2
}
