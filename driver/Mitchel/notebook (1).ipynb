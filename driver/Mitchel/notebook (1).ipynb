{
 "cells": [
  {
   "cell_type": "code",
   "execution_count": 22,
   "metadata": {
    "_cell_guid": "45ba73d4-6c4c-40bb-9390-7dfc956c555d",
    "_uuid": "dbd332f83c89108c4e641218f5c4e7b9cd325b80",
    "collapsed": true
   },
   "outputs": [],
   "source": [
    "MAX_ROUNDS = 650\n",
    "OPTIMIZE_ROUNDS = False\n",
    "LEARNING_RATE = 0.05"
   ]
  },
  {
   "cell_type": "markdown",
   "metadata": {
    "_cell_guid": "7e199c98-16b0-45e7-a6d1-bdd9325c2631",
    "_uuid": "b277fe426336d65ac71f0e6ac96c7ee16d02074c"
   },
   "source": [
    "I recommend initially setting <code>MAX_ROUNDS</code> fairly high and using <code>OPTIMIZE_ROUNDS</code> to get an idea of the appropriate number of rounds (which, in my judgment, should be close to the maximum value of the optimized <code>tree_count</code> among all folds, maybe even a bit higher if your model is adequately regularized...or maybe not:  it's also a good idea to uncomment <code>verbose=True</code> sometimes and look at the pattern of validation scores for each fold to see what values might work well for all folds).  For a submission run I would turn off <code>OPTIMIZE_ROUNDS</code> and set <code>MAX_ROUNDS</code> to the appropraite number of total rounds.  The problem with \"early stopping\" by choosing the best round for each fold is that it overfits to the validation data.   It's therefore liable not to produce the optimal model for predicting test data, and if it's used to produce validation data for stacking/ensembling with other models, it would cause this one to have too much weight in the ensemble.\n",
    "\n",
    "Also, CatBoost is notoriously slow.  If you want to run it in Kaggle's environment, you need to set a fairly high learning rate so that it will get to a decent fit reasonably quickly.  If you want to use it to do well in this competition, you need to set a lower learning rate and run it for a long time (higher <code>MAX_ROUNDS</code>).  That means you either need to run it overnight or run it on a fast computer with multiple cores (or both)."
   ]
  },
  {
   "cell_type": "code",
   "execution_count": 23,
   "metadata": {
    "_cell_guid": "b7258128-55f9-4543-8611-5e0a6661837b",
    "_uuid": "72171ee53e170096d37a18eef84682fa348ae5c4"
   },
   "outputs": [],
   "source": [
    "import numpy as np\n",
    "import pandas as pd\n",
    "from catboost import CatBoostClassifier\n",
    "from sklearn.model_selection import train_test_split\n",
    "from sklearn.model_selection import KFold\n",
    "from numba import jit"
   ]
  },
  {
   "cell_type": "code",
   "execution_count": 24,
   "metadata": {
    "_cell_guid": "3d16f16e-12cc-4b41-b7bd-fa05ce44770c",
    "_uuid": "154b078a7e86c0a5a328118a61d28e2581bb3b0a",
    "collapsed": true
   },
   "outputs": [],
   "source": [
    "# Compute gini\n",
    "\n",
    "# from CPMP's kernel https://www.kaggle.com/cpmpml/extremely-fast-gini-computation\n",
    "@jit\n",
    "def eval_gini(y_true, y_prob):\n",
    "    y_true = np.asarray(y_true)\n",
    "    y_true = y_true[np.argsort(y_prob)]\n",
    "    ntrue = 0\n",
    "    gini = 0\n",
    "    delta = 0\n",
    "    n = len(y_true)\n",
    "    for i in range(n-1, -1, -1):\n",
    "        y_i = y_true[i]\n",
    "        ntrue += y_i\n",
    "        gini += y_i * delta\n",
    "        delta += 1 - y_i\n",
    "    gini = 1 - 2 * gini / (ntrue * (n - ntrue))\n",
    "    return gini"
   ]
  },
  {
   "cell_type": "code",
   "execution_count": 25,
   "metadata": {
    "collapsed": true
   },
   "outputs": [],
   "source": [
    "train_cols = [\n",
    "    'ps_car_13',\n",
    "\t'ps_reg_03',\n",
    "\t'ps_ind_05_cat',\n",
    "\t'ps_ind_03',      \n",
    "\t'ps_ind_15',      \n",
    "\t'ps_reg_02',        \n",
    "\t'ps_car_14',  \n",
    "\t'ps_car_12',       \n",
    "\t'ps_car_01_cat',       \n",
    "\t'ps_car_07_cat',       \n",
    "\t'ps_ind_17_bin',      \n",
    "\t'ps_car_03_cat',    \n",
    "\t'ps_reg_01',        \n",
    "\t'ps_car_15',       \n",
    "\t'ps_ind_01',         \n",
    "\t'ps_ind_16_bin',      \n",
    "\t'ps_ind_07_bin',    \n",
    "\t'ps_car_06_cat',     \n",
    "\t'ps_car_04_cat',   \n",
    "\t'ps_ind_06_bin',      \n",
    "\t'ps_car_09_cat',      \n",
    "\t'ps_car_02_cat',     \n",
    "\t'ps_ind_02_cat',    \n",
    "\t'ps_car_11',          \n",
    "\t'ps_car_05_cat',      \n",
    "\t'ps_calc_09',         \n",
    "\t'ps_calc_05',       \n",
    "\t'ps_ind_08_bin',     \n",
    "\t'ps_car_08_cat',   \n",
    "\t'ps_ind_09_bin',     \n",
    "\t'ps_ind_04_cat',    \n",
    "\t'ps_ind_18_bin',    \n",
    "\t'ps_ind_12_bin',     \n",
    "\t'ps_ind_14'  \n",
    "]"
   ]
  },
  {
   "cell_type": "code",
   "execution_count": 26,
   "metadata": {
    "_cell_guid": "52b50086-b405-4598-b11c-97887cdcce8e",
    "_uuid": "07a5a5782894611e9006ae1b399b0b8fb8a0f06b"
   },
   "outputs": [],
   "source": [
    "# Read data\n",
    "train_df = pd.read_csv('../inputs/train.csv', na_values=\"-1\") # .iloc[0:200,:]\n",
    "test_df = pd.read_csv('../inputs/test.csv', na_values=\"-1\")"
   ]
  },
  {
   "cell_type": "code",
   "execution_count": 27,
   "metadata": {
    "_cell_guid": "1b36eb15-ee01-43a3-8766-27650f98158d",
    "_uuid": "6255e3c12616b0279cef5c1bdec97751bb72d8b8"
   },
   "outputs": [],
   "source": [
    "# Process data\n",
    "id_test = test_df['id'].values\n",
    "id_train = train_df['id'].values\n",
    "\n",
    "train_df = train_df.fillna(999)\n",
    "test_df = test_df.fillna(999)\n",
    "\n",
    "for c in train_df.select_dtypes(include=['float64']).columns:\n",
    "    train_df[c]=train_df[c].astype(np.float32)\n",
    "    test_df[c]=test_df[c].astype(np.float32)\n",
    "for c in train_df.select_dtypes(include=['int64']).columns[2:]:\n",
    "    train_df[c]=train_df[c].astype(np.int8)\n",
    "    test_df[c]=test_df[c].astype(np.int8)\n",
    "    \n",
    "y = train_df['target']\n",
    "X = train_df[train_cols]\n",
    "y_valid_pred = 0*y\n",
    "X_test = test_df[train_cols]\n",
    "y_test_pred = 0\n",
    "\n",
    "cat_feature_inds = []\n",
    "for index, column in enumerate(X.columns):\n",
    "    if('cat' in column):\n",
    "        cat_feature_inds.append(index)"
   ]
  },
  {
   "cell_type": "code",
   "execution_count": 28,
   "metadata": {
    "_cell_guid": "7c6e4823-4e8c-4408-b961-576d469e9241",
    "_uuid": "6aa7ada2193c2e4b8a63eebda925cee5023b45b0",
    "collapsed": true
   },
   "outputs": [],
   "source": [
    "# Set up folds\n",
    "K = 5\n",
    "kf = KFold(n_splits = K, random_state = 1, shuffle = True)"
   ]
  },
  {
   "cell_type": "code",
   "execution_count": 29,
   "metadata": {
    "_cell_guid": "5d8108f3-e9e8-45d6-93b5-740eb7b4b10b",
    "_uuid": "581c3f15f294378a0e2ac3305e9e3d375f664b21",
    "collapsed": true
   },
   "outputs": [],
   "source": [
    "# Set up classifier\n",
    "model = CatBoostClassifier(\n",
    "    l2_leaf_reg=14.604101300752061, \n",
    "    learning_rate=0.046322786800983805,\n",
    "    depth=8,\n",
    "    iterations = 570,\n",
    "#    verbose = True,\n",
    "    loss_function='Logloss'\n",
    ")"
   ]
  },
  {
   "cell_type": "code",
   "execution_count": null,
   "metadata": {
    "_cell_guid": "c4e48347-920f-4ba7-8b37-cfbaab4c3c00",
    "_uuid": "2b9ed96c98b705d3e4bf2a3d60323dfab4332674",
    "scrolled": true
   },
   "outputs": [
    {
     "name": "stdout",
     "output_type": "stream",
     "text": [
      "\n",
      "Fold  0\n",
      "  Gini =  0.28409582059822946\n",
      "\n",
      "Fold  1\n",
      "  Gini =  0.2785291523935407\n",
      "\n",
      "Fold  2\n"
     ]
    }
   ],
   "source": [
    "# Run CV\n",
    "\n",
    "for i, (train_index, test_index) in enumerate(kf.split(train_df)):\n",
    "    \n",
    "    # Create data for this fold\n",
    "    y_train, y_valid = y.iloc[train_index], y.iloc[test_index]\n",
    "    X_train, X_valid = X.iloc[train_index,:], X.iloc[test_index,:]\n",
    "    print( \"\\nFold \", i)\n",
    "    \n",
    "    # Run model for this fold\n",
    "    if OPTIMIZE_ROUNDS:\n",
    "        fit_model = model.fit( X_train, y_train, \n",
    "                               eval_set=[X_valid, y_valid],\n",
    "                               use_best_model=True\n",
    "                             )\n",
    "        print( \"  N trees = \", model.tree_count_ )\n",
    "    else:\n",
    "        fit_model = model.fit( X_train, y_train, cat_features=cat_feature_inds )\n",
    "        \n",
    "    # Generate validation predictions for this fold\n",
    "    pred = fit_model.predict_proba(X_valid)[:,1]\n",
    "    print( \"  Gini = \", eval_gini(y_valid, pred) )\n",
    "    y_valid_pred.iloc[test_index] = pred\n",
    "    \n",
    "    # Accumulate test set predictions\n",
    "    y_test_pred += fit_model.predict_proba(X_test)[:,1]\n",
    "    \n",
    "y_test_pred /= K  # Average test set predictions\n",
    "\n",
    "print( \"\\nGini for full training set:\" )\n",
    "eval_gini(y, y_valid_pred)"
   ]
  },
  {
   "cell_type": "code",
   "execution_count": null,
   "metadata": {
    "_cell_guid": "0e3dfd76-c566-4b8d-a460-b56e964d0772",
    "_uuid": "e61bf4e22c1c29c8358caeecb6e67d6658f2005d",
    "collapsed": true
   },
   "outputs": [],
   "source": [
    "# Save validation predictions for stacking/ensembling\n",
    "val = pd.DataFrame()\n",
    "val['id'] = id_train\n",
    "val['target'] = y_valid_pred.values\n",
    "val.to_csv('cat_valid.csv', float_format='%.6f', index=False)"
   ]
  },
  {
   "cell_type": "code",
   "execution_count": null,
   "metadata": {
    "_cell_guid": "f4cbef2c-e52b-4afb-b8ef-904ee9b5f9d5",
    "_uuid": "380fc8053d00cd8bb2796bfd2b59d10cbc4ce7e1",
    "collapsed": true
   },
   "outputs": [],
   "source": [
    "# Create submission file\n",
    "sub = pd.DataFrame()\n",
    "sub['id'] = id_test\n",
    "sub['target'] = y_test_pred\n",
    "sub.to_csv('cat_submit.csv', float_format='%.6f', index=False)"
   ]
  },
  {
   "cell_type": "markdown",
   "metadata": {
    "_cell_guid": "10f560d4-ca82-480d-a923-642bedcb3822",
    "_uuid": "f72a82b52898ce7478777be8ad42e2c91b238a77"
   },
   "source": [
    "CV scores certainly seem to be correlated with public LB scores, but the correlation is not nearly as strong as one might hope. The difference so far ranges from .0019 to .0032 for this script without <code>OPTIMIZE_ROUNDS</code> and can be higher when <code>OPTIMIZE_ROUNDS</code> is set (which is to be expected, since that parameter causes the fit to select on each fold for the best CV performance without generally achieving a comparable improvement in LB performance).  Versions 17 through 20 (substantively identical) have slightly better public LB performance than earlier versions, when I sort my submissions by score.  (If one wants to be optimistic about the less significant digits of the LB score, maybe a difference of .0019 is really .0024, and a difference of .0032 is really .0027, so maybe the CV is working better than it first appears.)"
   ]
  }
 ],
 "metadata": {
  "kernelspec": {
   "display_name": "Python 3",
   "language": "python",
   "name": "python3"
  },
  "language_info": {
   "codemirror_mode": {
    "name": "ipython",
    "version": 3
   },
   "file_extension": ".py",
   "mimetype": "text/x-python",
   "name": "python",
   "nbconvert_exporter": "python",
   "pygments_lexer": "ipython3",
   "version": "3.6.1"
  }
 },
 "nbformat": 4,
 "nbformat_minor": 1
}
