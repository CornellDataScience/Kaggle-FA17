{
 "cells": [
  {
   "cell_type": "code",
   "execution_count": 1,
   "metadata": {},
   "outputs": [
    {
     "name": "stderr",
     "output_type": "stream",
     "text": [
      "/anaconda/lib/python3.6/importlib/_bootstrap.py:205: RuntimeWarning: compiletime version 3.5 of module '_catboost' does not match runtime version 3.6\n",
      "  return f(*args, **kwds)\n"
     ]
    }
   ],
   "source": [
    "import pandas as pd\n",
    "import numpy as np\n",
    "import catboost\n",
    "from sklearn.model_selection import StratifiedKFold"
   ]
  },
  {
   "cell_type": "code",
   "execution_count": 2,
   "metadata": {
    "collapsed": true
   },
   "outputs": [],
   "source": [
    "train = pd.read_csv('../inputs/train.csv')"
   ]
  },
  {
   "cell_type": "code",
   "execution_count": 3,
   "metadata": {
    "collapsed": true
   },
   "outputs": [],
   "source": [
    "drop_cols=['target', 'id']\n",
    "for column in train.columns:\n",
    "    if('calc' in column):\n",
    "        drop_cols.append(column)\n",
    "X = train[[\n",
    "    'ps_car_13',\n",
    "\t'ps_reg_03',\n",
    "\t'ps_ind_05_cat',\n",
    "\t'ps_ind_03',      \n",
    "\t'ps_ind_15',      \n",
    "\t'ps_reg_02',        \n",
    "\t'ps_car_14',  \n",
    "\t'ps_car_12',       \n",
    "\t'ps_car_01_cat',       \n",
    "\t'ps_car_07_cat',       \n",
    "\t'ps_ind_17_bin',      \n",
    "\t'ps_car_03_cat',    \n",
    "\t'ps_reg_01',        \n",
    "\t'ps_car_15',       \n",
    "\t'ps_ind_01',         \n",
    "\t'ps_ind_16_bin',      \n",
    "\t'ps_ind_07_bin',    \n",
    "\t'ps_car_06_cat',     \n",
    "\t'ps_car_04_cat',   \n",
    "\t'ps_ind_06_bin',      \n",
    "\t'ps_car_09_cat',      \n",
    "\t'ps_car_02_cat',     \n",
    "\t'ps_ind_02_cat',    \n",
    "\t'ps_car_11',          \n",
    "\t'ps_car_05_cat',      \n",
    "\t'ps_calc_09',         \n",
    "\t'ps_calc_05',       \n",
    "\t'ps_ind_08_bin',     \n",
    "\t'ps_car_08_cat',   \n",
    "\t'ps_ind_09_bin',     \n",
    "\t'ps_ind_04_cat',    \n",
    "\t'ps_ind_18_bin',    \n",
    "\t'ps_ind_12_bin',     \n",
    "\t'ps_ind_14'  \n",
    "]]\n",
    "y = train['target']"
   ]
  },
  {
   "cell_type": "code",
   "execution_count": 4,
   "metadata": {},
   "outputs": [
    {
     "data": {
      "text/plain": [
       "10"
      ]
     },
     "execution_count": 4,
     "metadata": {},
     "output_type": "execute_result"
    }
   ],
   "source": [
    "n_folds = 10\n",
    "skf = StratifiedKFold(n_splits=n_folds)\n",
    "skf.get_n_splits(X, y)"
   ]
  },
  {
   "cell_type": "code",
   "execution_count": 5,
   "metadata": {
    "collapsed": true
   },
   "outputs": [],
   "source": [
    "cat_feature_inds = []\n",
    "for index, column in enumerate(X.columns):\n",
    "    if('cat' in column):\n",
    "        cat_feature_inds.append(index)"
   ]
  },
  {
   "cell_type": "code",
   "execution_count": 6,
   "metadata": {
    "collapsed": true
   },
   "outputs": [],
   "source": [
    "x_matrix = X.as_matrix()\n",
    "y_matrix = y.as_matrix()"
   ]
  },
  {
   "cell_type": "code",
   "execution_count": 7,
   "metadata": {},
   "outputs": [
    {
     "name": "stdout",
     "output_type": "stream",
     "text": [
      "Iteration 0\n",
      "Num trees 173\n",
      "Iteration 1\n",
      "Num trees 168\n",
      "Iteration 2\n",
      "Num trees 133\n",
      "Iteration 3\n",
      "Num trees 236\n",
      "Iteration 4\n",
      "Num trees 122\n",
      "Iteration 5\n",
      "Num trees 165\n",
      "Iteration 6\n",
      "Num trees 173\n",
      "Iteration 7\n",
      "Num trees 172\n",
      "Iteration 8\n",
      "Num trees 178\n",
      "Iteration 9\n",
      "Num trees 176\n"
     ]
    }
   ],
   "source": [
    "average_iter = 0\n",
    "num_iterations = 0\n",
    "for train_index, test_index in skf.split(x_matrix, y_matrix):\n",
    "    print('Iteration ' + str(num_iterations))\n",
    "    num_iterations+=1\n",
    "    X_train, X_test = x_matrix[train_index], x_matrix[test_index]\n",
    "    y_train, y_test = y_matrix[train_index], y_matrix[test_index]\n",
    "    eval_set = X_test, y_test\n",
    "    model = catboost.CatBoostClassifier(\n",
    "        depth=11.0, \n",
    "        l2_leaf_reg=19.753882117849393, \n",
    "        learning_rate=0.11107217807868233, \n",
    "        iterations = 1500,\n",
    "        eval_metric='AUC',\n",
    "        use_best_model=True,\n",
    "        od_type='Iter',\n",
    "        loss_function='Logloss')\n",
    "    model.fit(X_train, y_train, eval_set=eval_set, cat_features=cat_feature_inds)\n",
    "    print('Num trees ' + str(model.tree_count_))\n",
    "    average_iter += model.tree_count_"
   ]
  },
  {
   "cell_type": "code",
   "execution_count": 8,
   "metadata": {},
   "outputs": [
    {
     "name": "stdout",
     "output_type": "stream",
     "text": [
      "169\n"
     ]
    }
   ],
   "source": [
    "print(average_iter//n_folds)"
   ]
  },
  {
   "cell_type": "code",
   "execution_count": null,
   "metadata": {
    "collapsed": true
   },
   "outputs": [],
   "source": []
  }
 ],
 "metadata": {
  "kernelspec": {
   "display_name": "Python 3",
   "language": "python",
   "name": "python3"
  },
  "language_info": {
   "codemirror_mode": {
    "name": "ipython",
    "version": 3
   },
   "file_extension": ".py",
   "mimetype": "text/x-python",
   "name": "python",
   "nbconvert_exporter": "python",
   "pygments_lexer": "ipython3",
   "version": "3.6.1"
  }
 },
 "nbformat": 4,
 "nbformat_minor": 2
}
